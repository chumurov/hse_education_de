{
 "cells": [
  {
   "cell_type": "markdown",
   "id": "b9cceb4a",
   "metadata": {},
   "source": [
    "На основании датасета для каждого покупателя вычислите агрегаты, отражающие индивидуальные предпочтения и траты.\n",
    "Требуемые метрики:\n",
    "\n",
    "- Предпочитаемый метод оплаты (например, по моде или максимальному обороту).\n",
    "- Общие траты за весь период наблюдения по покупателю.\n",
    "- Сумма, потраченная на дополнительные услуги и аксессуары по каждому покупателю.\n",
    "\n",
    "Ожидается корректная работа кода без ошибок и корректные вычисления по всем клиентам в датасете."
   ]
  },
  {
   "cell_type": "code",
   "execution_count": 2,
   "id": "9549f5eb",
   "metadata": {},
   "outputs": [],
   "source": [
    "import pandas as pd \n",
    "import plotly.express as px\n",
    "from collections import Counter"
   ]
  },
  {
   "cell_type": "markdown",
   "id": "b38f4dcf",
   "metadata": {},
   "source": [
    "# Задание 1"
   ]
  },
  {
   "cell_type": "markdown",
   "id": "c5b75547",
   "metadata": {},
   "source": [
    "- Идентификатор клиента: уникальный идентификатор каждого покупателя. Customer ID: Unique identifier for each customer.\n",
    "- Возраст: возраст покупателя (числовое значение). Age: Age of the customer (numeric)\n",
    "- Пол: пол покупателя (мужской или женский). Gender: Gender of the customer (Male or Female)\n",
    "- Участник программы лояльности: да/нет; статус меняется со временем, учитывайте, кто отменил и кто подключился. Loyalty Member: (Yes/No) (Values change by time, so pay attention to who cancelled and who signed up)\n",
    "- Тип продукта: категория электронного товара (например, смартфон, ноутбук, планшет). Product Type: Type of electronic product sold (e.g., Smartphone, Laptop, Tablet)\n",
    "- SKU: уникальный код каждого товара. SKU: a unique code for each product.\n",
    "- Рейтинг: оценка товара покупателем от 1 до 5 звёзд; пропусков быть не должно. Rating: Customer rating of the product (1-5 stars) (Should have no Null Ratings)\n",
    "- Статус заказа: состояние заказа (выполнен, отменён). Order Status: Status of the order (Completed, Cancelled)\n",
    "- Метод оплаты: способ оплаты (например, наличные, кредитная карта, PayPal). Payment Method: Method used for payment (e.g., Cash, Credit Card, Paypal)\n",
    "- Итоговая сумма: общая стоимость транзакции (число). Total Price: Total price of the transaction (numeric)\n",
    "- Цена за единицу: стоимость одной единицы товара (число). Unit Price: Price per unit of the product (numeric)\n",
    "- Количество: число купленных единиц (число). Quantity: Number of units purchased (numeric)\n",
    "- Дата покупки: дата совершения покупки (формат: YYYY-MM-DD). Purchase Date: Date of the purchase (format: YYYY-MM-DD)\n",
    "- Тип доставки: выбранный тип доставки (например, стандарт, ускоренная, экспресс). Shipping Type: Type of shipping chosen (e.g., Standard, Overnight, Express)\n",
    "- Приобретённые дополнения: список дополнительных позиций (например, аксессуары, расширенная гарантия). Add-ons Purchased: List of any additional items purchased (e.g., Accessories, Extended Warranty)\n",
    "- Сумма дополнений: общая стоимость приобретённых дополнений (число). Add-on Total: Total price of add-ons purchased (numeric)"
   ]
  },
  {
   "cell_type": "code",
   "execution_count": 3,
   "id": "a6a3f37f",
   "metadata": {},
   "outputs": [],
   "source": [
    "df = pd.read_csv('Electronic_sales_Sep2023-Sep2024.csv')\n",
    "df['Purchase Date'] = pd.to_datetime(df['Purchase Date'], format='%Y-%m-%d')"
   ]
  },
  {
   "cell_type": "markdown",
   "id": "0f9fd118",
   "metadata": {},
   "source": [
    "Конечная цена с учетом допов работаем с ней"
   ]
  },
  {
   "cell_type": "code",
   "execution_count": 4,
   "id": "8481426a",
   "metadata": {},
   "outputs": [],
   "source": [
    "df[\"Total_Spent_Row\"] = df['Total Price'] + df['Add-on Total']"
   ]
  },
  {
   "cell_type": "markdown",
   "id": "b31ff451",
   "metadata": {},
   "source": [
    "Оставляем только завершенные заказы"
   ]
  },
  {
   "cell_type": "code",
   "execution_count": 5,
   "id": "453ecfac",
   "metadata": {},
   "outputs": [],
   "source": [
    "df = df[df['Order Status'] == 'Completed']"
   ]
  },
  {
   "cell_type": "markdown",
   "id": "442a129f",
   "metadata": {},
   "source": [
    "## Предпочитаемый метод оплаты (например, по моде или максимальному обороту)."
   ]
  },
  {
   "cell_type": "code",
   "execution_count": 6,
   "id": "3f6d428d",
   "metadata": {},
   "outputs": [],
   "source": [
    "df['Payment Method'] = df['Payment Method'].str.strip().str.lower()"
   ]
  },
  {
   "cell_type": "code",
   "execution_count": 7,
   "id": "ad3fddcf",
   "metadata": {},
   "outputs": [
    {
     "name": "stderr",
     "output_type": "stream",
     "text": [
      "/tmp/ipykernel_91112/259154179.py:1: FutureWarning: Passing a dictionary to SeriesGroupBy.agg is deprecated and will raise in a future version of pandas. Pass a list of aggregations instead.\n",
      "  df.groupby('Payment Method', as_index=False)['Total_Spent_Row'].agg({'sum': 'sum', 'count': 'count', 'mean': 'mean'}).sort_values(by='sum', ascending=False)\n"
     ]
    },
    {
     "data": {
      "text/html": [
       "<div>\n",
       "<style scoped>\n",
       "    .dataframe tbody tr th:only-of-type {\n",
       "        vertical-align: middle;\n",
       "    }\n",
       "\n",
       "    .dataframe tbody tr th {\n",
       "        vertical-align: top;\n",
       "    }\n",
       "\n",
       "    .dataframe thead th {\n",
       "        text-align: right;\n",
       "    }\n",
       "</style>\n",
       "<table border=\"1\" class=\"dataframe\">\n",
       "  <thead>\n",
       "    <tr style=\"text-align: right;\">\n",
       "      <th></th>\n",
       "      <th>Payment Method</th>\n",
       "      <th>sum</th>\n",
       "      <th>count</th>\n",
       "      <th>mean</th>\n",
       "    </tr>\n",
       "  </thead>\n",
       "  <tbody>\n",
       "    <tr>\n",
       "      <th>4</th>\n",
       "      <td>paypal</td>\n",
       "      <td>12915808.46</td>\n",
       "      <td>3863</td>\n",
       "      <td>3343.465819</td>\n",
       "    </tr>\n",
       "    <tr>\n",
       "      <th>2</th>\n",
       "      <td>credit card</td>\n",
       "      <td>12828999.89</td>\n",
       "      <td>3899</td>\n",
       "      <td>3290.330826</td>\n",
       "    </tr>\n",
       "    <tr>\n",
       "      <th>0</th>\n",
       "      <td>bank transfer</td>\n",
       "      <td>8638680.99</td>\n",
       "      <td>2259</td>\n",
       "      <td>3824.117304</td>\n",
       "    </tr>\n",
       "    <tr>\n",
       "      <th>3</th>\n",
       "      <td>debit card</td>\n",
       "      <td>4614956.39</td>\n",
       "      <td>1684</td>\n",
       "      <td>2740.472916</td>\n",
       "    </tr>\n",
       "    <tr>\n",
       "      <th>1</th>\n",
       "      <td>cash</td>\n",
       "      <td>4466765.08</td>\n",
       "      <td>1727</td>\n",
       "      <td>2586.430272</td>\n",
       "    </tr>\n",
       "  </tbody>\n",
       "</table>\n",
       "</div>"
      ],
      "text/plain": [
       "  Payment Method          sum  count         mean\n",
       "4         paypal  12915808.46   3863  3343.465819\n",
       "2    credit card  12828999.89   3899  3290.330826\n",
       "0  bank transfer   8638680.99   2259  3824.117304\n",
       "3     debit card   4614956.39   1684  2740.472916\n",
       "1           cash   4466765.08   1727  2586.430272"
      ]
     },
     "execution_count": 7,
     "metadata": {},
     "output_type": "execute_result"
    }
   ],
   "source": [
    "df.groupby('Payment Method', as_index=False)['Total_Spent_Row'].agg({'sum': 'sum', 'count': 'count', 'mean': 'mean'}).sort_values(by='sum', ascending=False)"
   ]
  },
  {
   "cell_type": "code",
   "execution_count": 8,
   "id": "03d8d2d5",
   "metadata": {},
   "outputs": [],
   "source": [
    "df['month'] = df['Purchase Date'].dt.to_period('M').dt.to_timestamp()"
   ]
  },
  {
   "cell_type": "code",
   "execution_count": 9,
   "id": "41bf7664",
   "metadata": {},
   "outputs": [],
   "source": [
    "df['quartal'] = df['Purchase Date'].dt.to_period('Q').dt.to_timestamp()"
   ]
  },
  {
   "cell_type": "code",
   "execution_count": 10,
   "id": "922eefce",
   "metadata": {},
   "outputs": [],
   "source": [
    "monthly_pm = (\n",
    "    df.groupby(['month', 'Payment Method'], as_index=False)['Total_Spent_Row']\n",
    "      .sum()\n",
    "      .rename(columns={'Total_Spent_Row': 'Monthly Sales'})\n",
    ")"
   ]
  },
  {
   "cell_type": "code",
   "execution_count": 11,
   "id": "ac12a213",
   "metadata": {},
   "outputs": [
    {
     "data": {
      "application/vnd.plotly.v1+json": {
       "config": {
        "plotlyServerURL": "https://plot.ly"
       },
       "data": [
        {
         "hovertemplate": "Метод оплаты=cash<br>Месяц=%{x}<br>Сумма продаж=%{y}<extra></extra>",
         "legendgroup": "cash",
         "line": {
          "color": "#636efa",
          "dash": "solid"
         },
         "marker": {
          "symbol": "circle"
         },
         "mode": "lines",
         "name": "cash",
         "orientation": "v",
         "showlegend": true,
         "type": "scatter",
         "x": [
          "2023-09-01T00:00:00.000000000",
          "2023-10-01T00:00:00.000000000",
          "2023-11-01T00:00:00.000000000",
          "2023-12-01T00:00:00.000000000",
          "2024-01-01T00:00:00.000000000",
          "2024-02-01T00:00:00.000000000",
          "2024-03-01T00:00:00.000000000",
          "2024-04-01T00:00:00.000000000",
          "2024-05-01T00:00:00.000000000",
          "2024-06-01T00:00:00.000000000",
          "2024-07-01T00:00:00.000000000",
          "2024-08-01T00:00:00.000000000",
          "2024-09-01T00:00:00.000000000"
         ],
         "xaxis": "x",
         "y": {
          "bdata": "FK5H4QIN8UBcj8L1HF0aQZqZmZkOuRVBAAAAAMbxFUHhehSu2yEZQfYoXI+M3xZBcT0K1yaKE0GkcD0KecMYQSlcj8JicxZBZmZmZhPVFUHXo3A9434YQQAAAAC9khNBUrgeheOsEUE=",
          "dtype": "f8"
         },
         "yaxis": "y"
        },
        {
         "hovertemplate": "Метод оплаты=credit card<br>Месяц=%{x}<br>Сумма продаж=%{y}<extra></extra>",
         "legendgroup": "credit card",
         "line": {
          "color": "#EF553B",
          "dash": "solid"
         },
         "marker": {
          "symbol": "circle"
         },
         "mode": "lines",
         "name": "credit card",
         "orientation": "v",
         "showlegend": true,
         "type": "scatter",
         "x": [
          "2023-09-01T00:00:00.000000000",
          "2023-10-01T00:00:00.000000000",
          "2023-11-01T00:00:00.000000000",
          "2023-12-01T00:00:00.000000000",
          "2024-01-01T00:00:00.000000000",
          "2024-02-01T00:00:00.000000000",
          "2024-03-01T00:00:00.000000000",
          "2024-04-01T00:00:00.000000000",
          "2024-05-01T00:00:00.000000000",
          "2024-06-01T00:00:00.000000000",
          "2024-07-01T00:00:00.000000000",
          "2024-08-01T00:00:00.000000000",
          "2024-09-01T00:00:00.000000000"
         ],
         "xaxis": "x",
         "y": {
          "bdata": "SOF6FAa26UA+CtejbroTQR+F61HQoRFBCtejcDB9EUFI4XqULXg1Qa5H4fr+4zJB4XoULgJaM0F7FK6H1uozQTMzMzM80DZBFa5HYc7sNEEpXI8CG5AzQVK4HsWXZTVBhetROHnpMEE=",
          "dtype": "f8"
         },
         "yaxis": "y"
        },
        {
         "hovertemplate": "Метод оплаты=debit card<br>Месяц=%{x}<br>Сумма продаж=%{y}<extra></extra>",
         "legendgroup": "debit card",
         "line": {
          "color": "#00cc96",
          "dash": "solid"
         },
         "marker": {
          "symbol": "circle"
         },
         "mode": "lines",
         "name": "debit card",
         "orientation": "v",
         "showlegend": true,
         "type": "scatter",
         "x": [
          "2023-09-01T00:00:00.000000000",
          "2023-10-01T00:00:00.000000000",
          "2023-11-01T00:00:00.000000000",
          "2023-12-01T00:00:00.000000000",
          "2024-01-01T00:00:00.000000000",
          "2024-02-01T00:00:00.000000000",
          "2024-03-01T00:00:00.000000000",
          "2024-04-01T00:00:00.000000000",
          "2024-05-01T00:00:00.000000000",
          "2024-06-01T00:00:00.000000000",
          "2024-07-01T00:00:00.000000000",
          "2024-08-01T00:00:00.000000000",
          "2024-09-01T00:00:00.000000000"
         ],
         "xaxis": "x",
         "y": {
          "bdata": "9ihcjxKf+kDhehSu8EIaQQrXo3BbXxhB16NwPTbSE0H2KFyPIRsdQc3MzMwbgBNBMzMzMyCtFEHhehSuzwUXQYXrUbjYExdBMzMzM0LwF0FnZmZmDCkcQa5H4XqKtRNBUrgehYtfEUE=",
          "dtype": "f8"
         },
         "yaxis": "y"
        },
        {
         "hovertemplate": "Метод оплаты=paypal<br>Месяц=%{x}<br>Сумма продаж=%{y}<extra></extra>",
         "legendgroup": "paypal",
         "line": {
          "color": "#ab63fa",
          "dash": "solid"
         },
         "marker": {
          "symbol": "circle"
         },
         "mode": "lines",
         "name": "paypal",
         "orientation": "v",
         "showlegend": true,
         "type": "scatter",
         "x": [
          "2023-09-01T00:00:00.000000000",
          "2023-10-01T00:00:00.000000000",
          "2023-11-01T00:00:00.000000000",
          "2023-12-01T00:00:00.000000000",
          "2024-01-01T00:00:00.000000000",
          "2024-02-01T00:00:00.000000000",
          "2024-03-01T00:00:00.000000000",
          "2024-04-01T00:00:00.000000000",
          "2024-05-01T00:00:00.000000000",
          "2024-06-01T00:00:00.000000000",
          "2024-07-01T00:00:00.000000000",
          "2024-08-01T00:00:00.000000000",
          "2024-09-01T00:00:00.000000000"
         ],
         "xaxis": "x",
         "y": {
          "bdata": "9ihcj3oL7EAAAAAAICwYQVyPwvVsnBZBhetRuGcXFkEK16Mwmt4zQfYoXA/oEDJB4XoU7trXNEFxPQoXTKU0QVK4HgUyuzRBUrgexb07NEH2KFwPc701QVK4HkUvmzVBPgrXI5h/LkE=",
          "dtype": "f8"
         },
         "yaxis": "y"
        },
        {
         "hovertemplate": "Метод оплаты=bank transfer<br>Месяц=%{x}<br>Сумма продаж=%{y}<extra></extra>",
         "legendgroup": "bank transfer",
         "line": {
          "color": "#FFA15A",
          "dash": "solid"
         },
         "marker": {
          "symbol": "circle"
         },
         "mode": "lines",
         "name": "bank transfer",
         "orientation": "v",
         "showlegend": true,
         "type": "scatter",
         "x": [
          "2024-01-01T00:00:00.000000000",
          "2024-02-01T00:00:00.000000000",
          "2024-03-01T00:00:00.000000000",
          "2024-04-01T00:00:00.000000000",
          "2024-05-01T00:00:00.000000000",
          "2024-06-01T00:00:00.000000000",
          "2024-07-01T00:00:00.000000000",
          "2024-08-01T00:00:00.000000000",
          "2024-09-01T00:00:00.000000000"
         ],
         "xaxis": "x",
         "y": {
          "bdata": "w/UoXOvfLkEAAACAnUgqQbgehWsTDy9BZmZm5km6LEFI4XqUSBItQSlcj8IR1jBBmpmZGejpLUGamZmZOqcuQQAAAAA9YCdB",
          "dtype": "f8"
         },
         "yaxis": "y"
        }
       ],
       "layout": {
        "barmode": "stack",
        "legend": {
         "title": {
          "text": "Метод оплаты"
         },
         "tracegroupgap": 0
        },
        "template": {
         "data": {
          "bar": [
           {
            "error_x": {
             "color": "#2a3f5f"
            },
            "error_y": {
             "color": "#2a3f5f"
            },
            "marker": {
             "line": {
              "color": "#E5ECF6",
              "width": 0.5
             },
             "pattern": {
              "fillmode": "overlay",
              "size": 10,
              "solidity": 0.2
             }
            },
            "type": "bar"
           }
          ],
          "barpolar": [
           {
            "marker": {
             "line": {
              "color": "#E5ECF6",
              "width": 0.5
             },
             "pattern": {
              "fillmode": "overlay",
              "size": 10,
              "solidity": 0.2
             }
            },
            "type": "barpolar"
           }
          ],
          "carpet": [
           {
            "aaxis": {
             "endlinecolor": "#2a3f5f",
             "gridcolor": "white",
             "linecolor": "white",
             "minorgridcolor": "white",
             "startlinecolor": "#2a3f5f"
            },
            "baxis": {
             "endlinecolor": "#2a3f5f",
             "gridcolor": "white",
             "linecolor": "white",
             "minorgridcolor": "white",
             "startlinecolor": "#2a3f5f"
            },
            "type": "carpet"
           }
          ],
          "choropleth": [
           {
            "colorbar": {
             "outlinewidth": 0,
             "ticks": ""
            },
            "type": "choropleth"
           }
          ],
          "contour": [
           {
            "colorbar": {
             "outlinewidth": 0,
             "ticks": ""
            },
            "colorscale": [
             [
              0,
              "#0d0887"
             ],
             [
              0.1111111111111111,
              "#46039f"
             ],
             [
              0.2222222222222222,
              "#7201a8"
             ],
             [
              0.3333333333333333,
              "#9c179e"
             ],
             [
              0.4444444444444444,
              "#bd3786"
             ],
             [
              0.5555555555555556,
              "#d8576b"
             ],
             [
              0.6666666666666666,
              "#ed7953"
             ],
             [
              0.7777777777777778,
              "#fb9f3a"
             ],
             [
              0.8888888888888888,
              "#fdca26"
             ],
             [
              1,
              "#f0f921"
             ]
            ],
            "type": "contour"
           }
          ],
          "contourcarpet": [
           {
            "colorbar": {
             "outlinewidth": 0,
             "ticks": ""
            },
            "type": "contourcarpet"
           }
          ],
          "heatmap": [
           {
            "colorbar": {
             "outlinewidth": 0,
             "ticks": ""
            },
            "colorscale": [
             [
              0,
              "#0d0887"
             ],
             [
              0.1111111111111111,
              "#46039f"
             ],
             [
              0.2222222222222222,
              "#7201a8"
             ],
             [
              0.3333333333333333,
              "#9c179e"
             ],
             [
              0.4444444444444444,
              "#bd3786"
             ],
             [
              0.5555555555555556,
              "#d8576b"
             ],
             [
              0.6666666666666666,
              "#ed7953"
             ],
             [
              0.7777777777777778,
              "#fb9f3a"
             ],
             [
              0.8888888888888888,
              "#fdca26"
             ],
             [
              1,
              "#f0f921"
             ]
            ],
            "type": "heatmap"
           }
          ],
          "histogram": [
           {
            "marker": {
             "pattern": {
              "fillmode": "overlay",
              "size": 10,
              "solidity": 0.2
             }
            },
            "type": "histogram"
           }
          ],
          "histogram2d": [
           {
            "colorbar": {
             "outlinewidth": 0,
             "ticks": ""
            },
            "colorscale": [
             [
              0,
              "#0d0887"
             ],
             [
              0.1111111111111111,
              "#46039f"
             ],
             [
              0.2222222222222222,
              "#7201a8"
             ],
             [
              0.3333333333333333,
              "#9c179e"
             ],
             [
              0.4444444444444444,
              "#bd3786"
             ],
             [
              0.5555555555555556,
              "#d8576b"
             ],
             [
              0.6666666666666666,
              "#ed7953"
             ],
             [
              0.7777777777777778,
              "#fb9f3a"
             ],
             [
              0.8888888888888888,
              "#fdca26"
             ],
             [
              1,
              "#f0f921"
             ]
            ],
            "type": "histogram2d"
           }
          ],
          "histogram2dcontour": [
           {
            "colorbar": {
             "outlinewidth": 0,
             "ticks": ""
            },
            "colorscale": [
             [
              0,
              "#0d0887"
             ],
             [
              0.1111111111111111,
              "#46039f"
             ],
             [
              0.2222222222222222,
              "#7201a8"
             ],
             [
              0.3333333333333333,
              "#9c179e"
             ],
             [
              0.4444444444444444,
              "#bd3786"
             ],
             [
              0.5555555555555556,
              "#d8576b"
             ],
             [
              0.6666666666666666,
              "#ed7953"
             ],
             [
              0.7777777777777778,
              "#fb9f3a"
             ],
             [
              0.8888888888888888,
              "#fdca26"
             ],
             [
              1,
              "#f0f921"
             ]
            ],
            "type": "histogram2dcontour"
           }
          ],
          "mesh3d": [
           {
            "colorbar": {
             "outlinewidth": 0,
             "ticks": ""
            },
            "type": "mesh3d"
           }
          ],
          "parcoords": [
           {
            "line": {
             "colorbar": {
              "outlinewidth": 0,
              "ticks": ""
             }
            },
            "type": "parcoords"
           }
          ],
          "pie": [
           {
            "automargin": true,
            "type": "pie"
           }
          ],
          "scatter": [
           {
            "fillpattern": {
             "fillmode": "overlay",
             "size": 10,
             "solidity": 0.2
            },
            "type": "scatter"
           }
          ],
          "scatter3d": [
           {
            "line": {
             "colorbar": {
              "outlinewidth": 0,
              "ticks": ""
             }
            },
            "marker": {
             "colorbar": {
              "outlinewidth": 0,
              "ticks": ""
             }
            },
            "type": "scatter3d"
           }
          ],
          "scattercarpet": [
           {
            "marker": {
             "colorbar": {
              "outlinewidth": 0,
              "ticks": ""
             }
            },
            "type": "scattercarpet"
           }
          ],
          "scattergeo": [
           {
            "marker": {
             "colorbar": {
              "outlinewidth": 0,
              "ticks": ""
             }
            },
            "type": "scattergeo"
           }
          ],
          "scattergl": [
           {
            "marker": {
             "colorbar": {
              "outlinewidth": 0,
              "ticks": ""
             }
            },
            "type": "scattergl"
           }
          ],
          "scattermap": [
           {
            "marker": {
             "colorbar": {
              "outlinewidth": 0,
              "ticks": ""
             }
            },
            "type": "scattermap"
           }
          ],
          "scattermapbox": [
           {
            "marker": {
             "colorbar": {
              "outlinewidth": 0,
              "ticks": ""
             }
            },
            "type": "scattermapbox"
           }
          ],
          "scatterpolar": [
           {
            "marker": {
             "colorbar": {
              "outlinewidth": 0,
              "ticks": ""
             }
            },
            "type": "scatterpolar"
           }
          ],
          "scatterpolargl": [
           {
            "marker": {
             "colorbar": {
              "outlinewidth": 0,
              "ticks": ""
             }
            },
            "type": "scatterpolargl"
           }
          ],
          "scatterternary": [
           {
            "marker": {
             "colorbar": {
              "outlinewidth": 0,
              "ticks": ""
             }
            },
            "type": "scatterternary"
           }
          ],
          "surface": [
           {
            "colorbar": {
             "outlinewidth": 0,
             "ticks": ""
            },
            "colorscale": [
             [
              0,
              "#0d0887"
             ],
             [
              0.1111111111111111,
              "#46039f"
             ],
             [
              0.2222222222222222,
              "#7201a8"
             ],
             [
              0.3333333333333333,
              "#9c179e"
             ],
             [
              0.4444444444444444,
              "#bd3786"
             ],
             [
              0.5555555555555556,
              "#d8576b"
             ],
             [
              0.6666666666666666,
              "#ed7953"
             ],
             [
              0.7777777777777778,
              "#fb9f3a"
             ],
             [
              0.8888888888888888,
              "#fdca26"
             ],
             [
              1,
              "#f0f921"
             ]
            ],
            "type": "surface"
           }
          ],
          "table": [
           {
            "cells": {
             "fill": {
              "color": "#EBF0F8"
             },
             "line": {
              "color": "white"
             }
            },
            "header": {
             "fill": {
              "color": "#C8D4E3"
             },
             "line": {
              "color": "white"
             }
            },
            "type": "table"
           }
          ]
         },
         "layout": {
          "annotationdefaults": {
           "arrowcolor": "#2a3f5f",
           "arrowhead": 0,
           "arrowwidth": 1
          },
          "autotypenumbers": "strict",
          "coloraxis": {
           "colorbar": {
            "outlinewidth": 0,
            "ticks": ""
           }
          },
          "colorscale": {
           "diverging": [
            [
             0,
             "#8e0152"
            ],
            [
             0.1,
             "#c51b7d"
            ],
            [
             0.2,
             "#de77ae"
            ],
            [
             0.3,
             "#f1b6da"
            ],
            [
             0.4,
             "#fde0ef"
            ],
            [
             0.5,
             "#f7f7f7"
            ],
            [
             0.6,
             "#e6f5d0"
            ],
            [
             0.7,
             "#b8e186"
            ],
            [
             0.8,
             "#7fbc41"
            ],
            [
             0.9,
             "#4d9221"
            ],
            [
             1,
             "#276419"
            ]
           ],
           "sequential": [
            [
             0,
             "#0d0887"
            ],
            [
             0.1111111111111111,
             "#46039f"
            ],
            [
             0.2222222222222222,
             "#7201a8"
            ],
            [
             0.3333333333333333,
             "#9c179e"
            ],
            [
             0.4444444444444444,
             "#bd3786"
            ],
            [
             0.5555555555555556,
             "#d8576b"
            ],
            [
             0.6666666666666666,
             "#ed7953"
            ],
            [
             0.7777777777777778,
             "#fb9f3a"
            ],
            [
             0.8888888888888888,
             "#fdca26"
            ],
            [
             1,
             "#f0f921"
            ]
           ],
           "sequentialminus": [
            [
             0,
             "#0d0887"
            ],
            [
             0.1111111111111111,
             "#46039f"
            ],
            [
             0.2222222222222222,
             "#7201a8"
            ],
            [
             0.3333333333333333,
             "#9c179e"
            ],
            [
             0.4444444444444444,
             "#bd3786"
            ],
            [
             0.5555555555555556,
             "#d8576b"
            ],
            [
             0.6666666666666666,
             "#ed7953"
            ],
            [
             0.7777777777777778,
             "#fb9f3a"
            ],
            [
             0.8888888888888888,
             "#fdca26"
            ],
            [
             1,
             "#f0f921"
            ]
           ]
          },
          "colorway": [
           "#636efa",
           "#EF553B",
           "#00cc96",
           "#ab63fa",
           "#FFA15A",
           "#19d3f3",
           "#FF6692",
           "#B6E880",
           "#FF97FF",
           "#FECB52"
          ],
          "font": {
           "color": "#2a3f5f"
          },
          "geo": {
           "bgcolor": "white",
           "lakecolor": "white",
           "landcolor": "#E5ECF6",
           "showlakes": true,
           "showland": true,
           "subunitcolor": "white"
          },
          "hoverlabel": {
           "align": "left"
          },
          "hovermode": "closest",
          "mapbox": {
           "style": "light"
          },
          "paper_bgcolor": "white",
          "plot_bgcolor": "#E5ECF6",
          "polar": {
           "angularaxis": {
            "gridcolor": "white",
            "linecolor": "white",
            "ticks": ""
           },
           "bgcolor": "#E5ECF6",
           "radialaxis": {
            "gridcolor": "white",
            "linecolor": "white",
            "ticks": ""
           }
          },
          "scene": {
           "xaxis": {
            "backgroundcolor": "#E5ECF6",
            "gridcolor": "white",
            "gridwidth": 2,
            "linecolor": "white",
            "showbackground": true,
            "ticks": "",
            "zerolinecolor": "white"
           },
           "yaxis": {
            "backgroundcolor": "#E5ECF6",
            "gridcolor": "white",
            "gridwidth": 2,
            "linecolor": "white",
            "showbackground": true,
            "ticks": "",
            "zerolinecolor": "white"
           },
           "zaxis": {
            "backgroundcolor": "#E5ECF6",
            "gridcolor": "white",
            "gridwidth": 2,
            "linecolor": "white",
            "showbackground": true,
            "ticks": "",
            "zerolinecolor": "white"
           }
          },
          "shapedefaults": {
           "line": {
            "color": "#2a3f5f"
           }
          },
          "ternary": {
           "aaxis": {
            "gridcolor": "white",
            "linecolor": "white",
            "ticks": ""
           },
           "baxis": {
            "gridcolor": "white",
            "linecolor": "white",
            "ticks": ""
           },
           "bgcolor": "#E5ECF6",
           "caxis": {
            "gridcolor": "white",
            "linecolor": "white",
            "ticks": ""
           }
          },
          "title": {
           "x": 0.05
          },
          "xaxis": {
           "automargin": true,
           "gridcolor": "white",
           "linecolor": "white",
           "ticks": "",
           "title": {
            "standoff": 15
           },
           "zerolinecolor": "white",
           "zerolinewidth": 2
          },
          "yaxis": {
           "automargin": true,
           "gridcolor": "white",
           "linecolor": "white",
           "ticks": "",
           "title": {
            "standoff": 15
           },
           "zerolinecolor": "white",
           "zerolinewidth": 2
          }
         }
        },
        "title": {
         "text": "Сумма продаж по месяцам по способам оплаты"
        },
        "xaxis": {
         "anchor": "y",
         "domain": [
          0,
          1
         ],
         "tickformat": "%Y-%m",
         "title": {
          "text": "Месяц"
         }
        },
        "yaxis": {
         "anchor": "x",
         "domain": [
          0,
          1
         ],
         "title": {
          "text": "Сумма продаж"
         }
        }
       }
      }
     },
     "metadata": {},
     "output_type": "display_data"
    }
   ],
   "source": [
    "fig = px.line(\n",
    "    monthly_pm,\n",
    "    x='month',\n",
    "    y='Monthly Sales',\n",
    "    color='Payment Method',\n",
    "    title='Сумма продаж по месяцам по способам оплаты',\n",
    "    labels={'month': 'Месяц', 'Monthly Sales': 'Сумма продаж', 'Payment Method': 'Метод оплаты'},\n",
    ")\n",
    "fig.update_layout(barmode='stack', legend_title_text='Метод оплаты', xaxis_tickformat='%Y-%m')\n",
    "fig.show()"
   ]
  },
  {
   "cell_type": "markdown",
   "id": "9571424d",
   "metadata": {},
   "source": [
    "## Вывод\n",
    "Исходя из данных можно сказать, что люди в основном предпочитают использовать пейпал и кредитки с 24 года, эти способы очень близки по количеству и сумме покупок на протяжении всего рассматриваемого периода. "
   ]
  },
  {
   "cell_type": "markdown",
   "id": "b9520336",
   "metadata": {},
   "source": [
    "## Общие траты за весь период наблюдения по покупателю."
   ]
  },
  {
   "cell_type": "markdown",
   "id": "15fe03b0",
   "metadata": {},
   "source": []
  },
  {
   "cell_type": "code",
   "execution_count": 12,
   "id": "ae321e6a",
   "metadata": {},
   "outputs": [],
   "source": [
    "df[\"AgeQuartile\"] = pd.qcut(\n",
    "    df[\"Age\"],\n",
    "    q=4,\n",
    "    labels=[\"Молодые\", \"Моложе среднего\", \"Старше среднего\", \"Старики\"]\n",
    ")"
   ]
  },
  {
   "cell_type": "code",
   "execution_count": 13,
   "id": "e9489d54",
   "metadata": {},
   "outputs": [
    {
     "name": "stderr",
     "output_type": "stream",
     "text": [
      "/tmp/ipykernel_91112/3867674454.py:1: FutureWarning:\n",
      "\n",
      "The default of observed=False is deprecated and will be changed to True in a future version of pandas. Pass observed=False to retain current behavior or observed=True to adopt the future default and silence this warning.\n",
      "\n"
     ]
    },
    {
     "data": {
      "text/html": [
       "<div>\n",
       "<style scoped>\n",
       "    .dataframe tbody tr th:only-of-type {\n",
       "        vertical-align: middle;\n",
       "    }\n",
       "\n",
       "    .dataframe tbody tr th {\n",
       "        vertical-align: top;\n",
       "    }\n",
       "\n",
       "    .dataframe thead th {\n",
       "        text-align: right;\n",
       "    }\n",
       "</style>\n",
       "<table border=\"1\" class=\"dataframe\">\n",
       "  <thead>\n",
       "    <tr style=\"text-align: right;\">\n",
       "      <th></th>\n",
       "      <th>AgeQuartile</th>\n",
       "      <th>Gender</th>\n",
       "      <th>Total_Spent_Row</th>\n",
       "    </tr>\n",
       "  </thead>\n",
       "  <tbody>\n",
       "    <tr>\n",
       "      <th>0</th>\n",
       "      <td>Молодые</td>\n",
       "      <td>Female</td>\n",
       "      <td>5563239.56</td>\n",
       "    </tr>\n",
       "    <tr>\n",
       "      <th>1</th>\n",
       "      <td>Молодые</td>\n",
       "      <td>Male</td>\n",
       "      <td>5432936.42</td>\n",
       "    </tr>\n",
       "    <tr>\n",
       "      <th>2</th>\n",
       "      <td>Моложе среднего</td>\n",
       "      <td>Female</td>\n",
       "      <td>5493146.17</td>\n",
       "    </tr>\n",
       "    <tr>\n",
       "      <th>3</th>\n",
       "      <td>Моложе среднего</td>\n",
       "      <td>Male</td>\n",
       "      <td>5540949.21</td>\n",
       "    </tr>\n",
       "    <tr>\n",
       "      <th>4</th>\n",
       "      <td>Старше среднего</td>\n",
       "      <td>Female</td>\n",
       "      <td>5433660.78</td>\n",
       "    </tr>\n",
       "    <tr>\n",
       "      <th>5</th>\n",
       "      <td>Старше среднего</td>\n",
       "      <td>Male</td>\n",
       "      <td>5744800.39</td>\n",
       "    </tr>\n",
       "    <tr>\n",
       "      <th>6</th>\n",
       "      <td>Старики</td>\n",
       "      <td>Female</td>\n",
       "      <td>5190681.90</td>\n",
       "    </tr>\n",
       "    <tr>\n",
       "      <th>7</th>\n",
       "      <td>Старики</td>\n",
       "      <td>Male</td>\n",
       "      <td>5065122.06</td>\n",
       "    </tr>\n",
       "  </tbody>\n",
       "</table>\n",
       "</div>"
      ],
      "text/plain": [
       "       AgeQuartile  Gender  Total_Spent_Row\n",
       "0          Молодые  Female       5563239.56\n",
       "1          Молодые    Male       5432936.42\n",
       "2  Моложе среднего  Female       5493146.17\n",
       "3  Моложе среднего    Male       5540949.21\n",
       "4  Старше среднего  Female       5433660.78\n",
       "5  Старше среднего    Male       5744800.39\n",
       "6          Старики  Female       5190681.90\n",
       "7          Старики    Male       5065122.06"
      ]
     },
     "execution_count": 13,
     "metadata": {},
     "output_type": "execute_result"
    }
   ],
   "source": [
    "df.groupby(['AgeQuartile', 'Gender'], as_index=False)['Total_Spent_Row'].sum()"
   ]
  },
  {
   "cell_type": "code",
   "execution_count": 14,
   "id": "962bc02a",
   "metadata": {},
   "outputs": [
    {
     "data": {
      "text/html": [
       "<div>\n",
       "<style scoped>\n",
       "    .dataframe tbody tr th:only-of-type {\n",
       "        vertical-align: middle;\n",
       "    }\n",
       "\n",
       "    .dataframe tbody tr th {\n",
       "        vertical-align: top;\n",
       "    }\n",
       "\n",
       "    .dataframe thead th {\n",
       "        text-align: right;\n",
       "    }\n",
       "</style>\n",
       "<table border=\"1\" class=\"dataframe\">\n",
       "  <thead>\n",
       "    <tr style=\"text-align: right;\">\n",
       "      <th></th>\n",
       "      <th>Customer ID</th>\n",
       "      <th>Total_Spent_Row</th>\n",
       "    </tr>\n",
       "  </thead>\n",
       "  <tbody>\n",
       "    <tr>\n",
       "      <th>5048</th>\n",
       "      <td>11476</td>\n",
       "      <td>30136.35</td>\n",
       "    </tr>\n",
       "    <tr>\n",
       "      <th>7095</th>\n",
       "      <td>15399</td>\n",
       "      <td>29390.27</td>\n",
       "    </tr>\n",
       "    <tr>\n",
       "      <th>6177</th>\n",
       "      <td>13635</td>\n",
       "      <td>28481.39</td>\n",
       "    </tr>\n",
       "    <tr>\n",
       "      <th>7584</th>\n",
       "      <td>16357</td>\n",
       "      <td>27838.76</td>\n",
       "    </tr>\n",
       "    <tr>\n",
       "      <th>5489</th>\n",
       "      <td>12294</td>\n",
       "      <td>27052.70</td>\n",
       "    </tr>\n",
       "    <tr>\n",
       "      <th>4960</th>\n",
       "      <td>11332</td>\n",
       "      <td>26965.89</td>\n",
       "    </tr>\n",
       "    <tr>\n",
       "      <th>839</th>\n",
       "      <td>2556</td>\n",
       "      <td>26329.06</td>\n",
       "    </tr>\n",
       "    <tr>\n",
       "      <th>6124</th>\n",
       "      <td>13534</td>\n",
       "      <td>26261.21</td>\n",
       "    </tr>\n",
       "    <tr>\n",
       "      <th>8030</th>\n",
       "      <td>17236</td>\n",
       "      <td>25167.95</td>\n",
       "    </tr>\n",
       "    <tr>\n",
       "      <th>6589</th>\n",
       "      <td>14436</td>\n",
       "      <td>25014.73</td>\n",
       "    </tr>\n",
       "  </tbody>\n",
       "</table>\n",
       "</div>"
      ],
      "text/plain": [
       "      Customer ID  Total_Spent_Row\n",
       "5048        11476         30136.35\n",
       "7095        15399         29390.27\n",
       "6177        13635         28481.39\n",
       "7584        16357         27838.76\n",
       "5489        12294         27052.70\n",
       "4960        11332         26965.89\n",
       "839          2556         26329.06\n",
       "6124        13534         26261.21\n",
       "8030        17236         25167.95\n",
       "6589        14436         25014.73"
      ]
     },
     "execution_count": 14,
     "metadata": {},
     "output_type": "execute_result"
    }
   ],
   "source": [
    "df.groupby(['Customer ID'], as_index=False)['Total_Spent_Row'].sum().sort_values(by='Total_Spent_Row', ascending=False).head(10)"
   ]
  },
  {
   "cell_type": "markdown",
   "id": "71ffa7c7",
   "metadata": {},
   "source": [
    "## Вывод\n",
    "Исходя из данных можно сказать, что поведение покупателей с возрастом и полом почти не отличается, выбросов почти нет возрастание очень ровное"
   ]
  },
  {
   "cell_type": "markdown",
   "id": "ab367109",
   "metadata": {},
   "source": [
    "## Сумма, потраченная на дополнительные услуги и аксессуары по каждому покупателю."
   ]
  },
  {
   "cell_type": "code",
   "execution_count": 15,
   "id": "56d03c99",
   "metadata": {},
   "outputs": [],
   "source": [
    "df_addon = df.groupby(\"Customer ID\", as_index=False)[\"Add-on Total\"]\\\n",
    "    .sum()\\\n",
    "    .rename(columns={\"Add-on Total\": \"AddOn_Spent\"})\\\n",
    "    .sort_values(\"AddOn_Spent\", ascending=False)\\\n",
    "    \n"
   ]
  },
  {
   "cell_type": "code",
   "execution_count": 16,
   "id": "9f9e86d7",
   "metadata": {},
   "outputs": [
    {
     "data": {
      "text/html": [
       "<div>\n",
       "<style scoped>\n",
       "    .dataframe tbody tr th:only-of-type {\n",
       "        vertical-align: middle;\n",
       "    }\n",
       "\n",
       "    .dataframe tbody tr th {\n",
       "        vertical-align: top;\n",
       "    }\n",
       "\n",
       "    .dataframe thead th {\n",
       "        text-align: right;\n",
       "    }\n",
       "</style>\n",
       "<table border=\"1\" class=\"dataframe\">\n",
       "  <thead>\n",
       "    <tr style=\"text-align: right;\">\n",
       "      <th></th>\n",
       "      <th>Customer ID</th>\n",
       "      <th>AddOn_Spent</th>\n",
       "    </tr>\n",
       "  </thead>\n",
       "  <tbody>\n",
       "    <tr>\n",
       "      <th>7937</th>\n",
       "      <td>17054</td>\n",
       "      <td>658.32</td>\n",
       "    </tr>\n",
       "    <tr>\n",
       "      <th>7221</th>\n",
       "      <td>15648</td>\n",
       "      <td>640.44</td>\n",
       "    </tr>\n",
       "    <tr>\n",
       "      <th>5139</th>\n",
       "      <td>11669</td>\n",
       "      <td>613.83</td>\n",
       "    </tr>\n",
       "    <tr>\n",
       "      <th>5749</th>\n",
       "      <td>12780</td>\n",
       "      <td>595.63</td>\n",
       "    </tr>\n",
       "    <tr>\n",
       "      <th>4926</th>\n",
       "      <td>11270</td>\n",
       "      <td>580.85</td>\n",
       "    </tr>\n",
       "    <tr>\n",
       "      <th>...</th>\n",
       "      <td>...</td>\n",
       "      <td>...</td>\n",
       "    </tr>\n",
       "    <tr>\n",
       "      <th>4619</th>\n",
       "      <td>9741</td>\n",
       "      <td>0.00</td>\n",
       "    </tr>\n",
       "    <tr>\n",
       "      <th>4616</th>\n",
       "      <td>9736</td>\n",
       "      <td>0.00</td>\n",
       "    </tr>\n",
       "    <tr>\n",
       "      <th>4609</th>\n",
       "      <td>9713</td>\n",
       "      <td>0.00</td>\n",
       "    </tr>\n",
       "    <tr>\n",
       "      <th>4608</th>\n",
       "      <td>9711</td>\n",
       "      <td>0.00</td>\n",
       "    </tr>\n",
       "    <tr>\n",
       "      <th>4462</th>\n",
       "      <td>9438</td>\n",
       "      <td>0.00</td>\n",
       "    </tr>\n",
       "  </tbody>\n",
       "</table>\n",
       "<p>9466 rows × 2 columns</p>\n",
       "</div>"
      ],
      "text/plain": [
       "      Customer ID  AddOn_Spent\n",
       "7937        17054       658.32\n",
       "7221        15648       640.44\n",
       "5139        11669       613.83\n",
       "5749        12780       595.63\n",
       "4926        11270       580.85\n",
       "...           ...          ...\n",
       "4619         9741         0.00\n",
       "4616         9736         0.00\n",
       "4609         9713         0.00\n",
       "4608         9711         0.00\n",
       "4462         9438         0.00\n",
       "\n",
       "[9466 rows x 2 columns]"
      ]
     },
     "execution_count": 16,
     "metadata": {},
     "output_type": "execute_result"
    }
   ],
   "source": [
    "df_addon"
   ]
  },
  {
   "cell_type": "code",
   "execution_count": 17,
   "id": "288b1fb8",
   "metadata": {},
   "outputs": [
    {
     "data": {
      "text/plain": [
       "count    9466.000000\n",
       "mean       88.273319\n",
       "std        83.779929\n",
       "min         0.000000\n",
       "25%        26.105000\n",
       "50%        71.490000\n",
       "75%       127.497500\n",
       "max       658.320000\n",
       "Name: AddOn_Spent, dtype: float64"
      ]
     },
     "execution_count": 17,
     "metadata": {},
     "output_type": "execute_result"
    }
   ],
   "source": [
    "df_addon['AddOn_Spent'].describe()"
   ]
  },
  {
   "cell_type": "code",
   "execution_count": 18,
   "id": "f027f1bc",
   "metadata": {},
   "outputs": [
    {
     "name": "stderr",
     "output_type": "stream",
     "text": [
      "/tmp/ipykernel_91112/3163072017.py:1: FutureWarning:\n",
      "\n",
      "The default of observed=False is deprecated and will be changed to True in a future version of pandas. Pass observed=False to retain current behavior or observed=True to adopt the future default and silence this warning.\n",
      "\n"
     ]
    },
    {
     "data": {
      "text/html": [
       "<div>\n",
       "<style scoped>\n",
       "    .dataframe tbody tr th:only-of-type {\n",
       "        vertical-align: middle;\n",
       "    }\n",
       "\n",
       "    .dataframe tbody tr th {\n",
       "        vertical-align: top;\n",
       "    }\n",
       "\n",
       "    .dataframe thead th {\n",
       "        text-align: right;\n",
       "    }\n",
       "</style>\n",
       "<table border=\"1\" class=\"dataframe\">\n",
       "  <thead>\n",
       "    <tr style=\"text-align: right;\">\n",
       "      <th></th>\n",
       "      <th>AgeQuartile</th>\n",
       "      <th>Gender</th>\n",
       "      <th>Add-on Total</th>\n",
       "    </tr>\n",
       "  </thead>\n",
       "  <tbody>\n",
       "    <tr>\n",
       "      <th>0</th>\n",
       "      <td>Молодые</td>\n",
       "      <td>Female</td>\n",
       "      <td>111940.79</td>\n",
       "    </tr>\n",
       "    <tr>\n",
       "      <th>1</th>\n",
       "      <td>Молодые</td>\n",
       "      <td>Male</td>\n",
       "      <td>102129.18</td>\n",
       "    </tr>\n",
       "    <tr>\n",
       "      <th>2</th>\n",
       "      <td>Моложе среднего</td>\n",
       "      <td>Female</td>\n",
       "      <td>110208.44</td>\n",
       "    </tr>\n",
       "    <tr>\n",
       "      <th>3</th>\n",
       "      <td>Моложе среднего</td>\n",
       "      <td>Male</td>\n",
       "      <td>104497.15</td>\n",
       "    </tr>\n",
       "    <tr>\n",
       "      <th>4</th>\n",
       "      <td>Старше среднего</td>\n",
       "      <td>Female</td>\n",
       "      <td>105903.75</td>\n",
       "    </tr>\n",
       "    <tr>\n",
       "      <th>5</th>\n",
       "      <td>Старше среднего</td>\n",
       "      <td>Male</td>\n",
       "      <td>108250.62</td>\n",
       "    </tr>\n",
       "    <tr>\n",
       "      <th>6</th>\n",
       "      <td>Старики</td>\n",
       "      <td>Female</td>\n",
       "      <td>95759.40</td>\n",
       "    </tr>\n",
       "    <tr>\n",
       "      <th>7</th>\n",
       "      <td>Старики</td>\n",
       "      <td>Male</td>\n",
       "      <td>96905.91</td>\n",
       "    </tr>\n",
       "  </tbody>\n",
       "</table>\n",
       "</div>"
      ],
      "text/plain": [
       "       AgeQuartile  Gender  Add-on Total\n",
       "0          Молодые  Female     111940.79\n",
       "1          Молодые    Male     102129.18\n",
       "2  Моложе среднего  Female     110208.44\n",
       "3  Моложе среднего    Male     104497.15\n",
       "4  Старше среднего  Female     105903.75\n",
       "5  Старше среднего    Male     108250.62\n",
       "6          Старики  Female      95759.40\n",
       "7          Старики    Male      96905.91"
      ]
     },
     "execution_count": 18,
     "metadata": {},
     "output_type": "execute_result"
    }
   ],
   "source": [
    "df.groupby(['AgeQuartile', 'Gender'], as_index=False)[\"Add-on Total\"].sum()"
   ]
  },
  {
   "cell_type": "code",
   "execution_count": 19,
   "id": "dacafaa9",
   "metadata": {},
   "outputs": [
    {
     "data": {
      "application/vnd.plotly.v1+json": {
       "config": {
        "plotlyServerURL": "https://plot.ly"
       },
       "data": [
        {
         "bingroup": "x",
         "hovertemplate": "Сумма допов на заказ=%{x}<br>count=%{y}<extra></extra>",
         "legendgroup": "",
         "marker": {
          "color": "#636efa",
          "pattern": {
           "shape": ""
          }
         },
         "name": "",
         "nbinsx": 50,
         "orientation": "v",
         "showlegend": false,
         "type": "histogram",
         "x": {
          "bdata": "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",
          "dtype": "f8"
         },
         "xaxis": "x",
         "yaxis": "y"
        }
       ],
       "layout": {
        "barmode": "relative",
        "legend": {
         "tracegroupgap": 0
        },
        "template": {
         "data": {
          "bar": [
           {
            "error_x": {
             "color": "#2a3f5f"
            },
            "error_y": {
             "color": "#2a3f5f"
            },
            "marker": {
             "line": {
              "color": "#E5ECF6",
              "width": 0.5
             },
             "pattern": {
              "fillmode": "overlay",
              "size": 10,
              "solidity": 0.2
             }
            },
            "type": "bar"
           }
          ],
          "barpolar": [
           {
            "marker": {
             "line": {
              "color": "#E5ECF6",
              "width": 0.5
             },
             "pattern": {
              "fillmode": "overlay",
              "size": 10,
              "solidity": 0.2
             }
            },
            "type": "barpolar"
           }
          ],
          "carpet": [
           {
            "aaxis": {
             "endlinecolor": "#2a3f5f",
             "gridcolor": "white",
             "linecolor": "white",
             "minorgridcolor": "white",
             "startlinecolor": "#2a3f5f"
            },
            "baxis": {
             "endlinecolor": "#2a3f5f",
             "gridcolor": "white",
             "linecolor": "white",
             "minorgridcolor": "white",
             "startlinecolor": "#2a3f5f"
            },
            "type": "carpet"
           }
          ],
          "choropleth": [
           {
            "colorbar": {
             "outlinewidth": 0,
             "ticks": ""
            },
            "type": "choropleth"
           }
          ],
          "contour": [
           {
            "colorbar": {
             "outlinewidth": 0,
             "ticks": ""
            },
            "colorscale": [
             [
              0,
              "#0d0887"
             ],
             [
              0.1111111111111111,
              "#46039f"
             ],
             [
              0.2222222222222222,
              "#7201a8"
             ],
             [
              0.3333333333333333,
              "#9c179e"
             ],
             [
              0.4444444444444444,
              "#bd3786"
             ],
             [
              0.5555555555555556,
              "#d8576b"
             ],
             [
              0.6666666666666666,
              "#ed7953"
             ],
             [
              0.7777777777777778,
              "#fb9f3a"
             ],
             [
              0.8888888888888888,
              "#fdca26"
             ],
             [
              1,
              "#f0f921"
             ]
            ],
            "type": "contour"
           }
          ],
          "contourcarpet": [
           {
            "colorbar": {
             "outlinewidth": 0,
             "ticks": ""
            },
            "type": "contourcarpet"
           }
          ],
          "heatmap": [
           {
            "colorbar": {
             "outlinewidth": 0,
             "ticks": ""
            },
            "colorscale": [
             [
              0,
              "#0d0887"
             ],
             [
              0.1111111111111111,
              "#46039f"
             ],
             [
              0.2222222222222222,
              "#7201a8"
             ],
             [
              0.3333333333333333,
              "#9c179e"
             ],
             [
              0.4444444444444444,
              "#bd3786"
             ],
             [
              0.5555555555555556,
              "#d8576b"
             ],
             [
              0.6666666666666666,
              "#ed7953"
             ],
             [
              0.7777777777777778,
              "#fb9f3a"
             ],
             [
              0.8888888888888888,
              "#fdca26"
             ],
             [
              1,
              "#f0f921"
             ]
            ],
            "type": "heatmap"
           }
          ],
          "histogram": [
           {
            "marker": {
             "pattern": {
              "fillmode": "overlay",
              "size": 10,
              "solidity": 0.2
             }
            },
            "type": "histogram"
           }
          ],
          "histogram2d": [
           {
            "colorbar": {
             "outlinewidth": 0,
             "ticks": ""
            },
            "colorscale": [
             [
              0,
              "#0d0887"
             ],
             [
              0.1111111111111111,
              "#46039f"
             ],
             [
              0.2222222222222222,
              "#7201a8"
             ],
             [
              0.3333333333333333,
              "#9c179e"
             ],
             [
              0.4444444444444444,
              "#bd3786"
             ],
             [
              0.5555555555555556,
              "#d8576b"
             ],
             [
              0.6666666666666666,
              "#ed7953"
             ],
             [
              0.7777777777777778,
              "#fb9f3a"
             ],
             [
              0.8888888888888888,
              "#fdca26"
             ],
             [
              1,
              "#f0f921"
             ]
            ],
            "type": "histogram2d"
           }
          ],
          "histogram2dcontour": [
           {
            "colorbar": {
             "outlinewidth": 0,
             "ticks": ""
            },
            "colorscale": [
             [
              0,
              "#0d0887"
             ],
             [
              0.1111111111111111,
              "#46039f"
             ],
             [
              0.2222222222222222,
              "#7201a8"
             ],
             [
              0.3333333333333333,
              "#9c179e"
             ],
             [
              0.4444444444444444,
              "#bd3786"
             ],
             [
              0.5555555555555556,
              "#d8576b"
             ],
             [
              0.6666666666666666,
              "#ed7953"
             ],
             [
              0.7777777777777778,
              "#fb9f3a"
             ],
             [
              0.8888888888888888,
              "#fdca26"
             ],
             [
              1,
              "#f0f921"
             ]
            ],
            "type": "histogram2dcontour"
           }
          ],
          "mesh3d": [
           {
            "colorbar": {
             "outlinewidth": 0,
             "ticks": ""
            },
            "type": "mesh3d"
           }
          ],
          "parcoords": [
           {
            "line": {
             "colorbar": {
              "outlinewidth": 0,
              "ticks": ""
             }
            },
            "type": "parcoords"
           }
          ],
          "pie": [
           {
            "automargin": true,
            "type": "pie"
           }
          ],
          "scatter": [
           {
            "fillpattern": {
             "fillmode": "overlay",
             "size": 10,
             "solidity": 0.2
            },
            "type": "scatter"
           }
          ],
          "scatter3d": [
           {
            "line": {
             "colorbar": {
              "outlinewidth": 0,
              "ticks": ""
             }
            },
            "marker": {
             "colorbar": {
              "outlinewidth": 0,
              "ticks": ""
             }
            },
            "type": "scatter3d"
           }
          ],
          "scattercarpet": [
           {
            "marker": {
             "colorbar": {
              "outlinewidth": 0,
              "ticks": ""
             }
            },
            "type": "scattercarpet"
           }
          ],
          "scattergeo": [
           {
            "marker": {
             "colorbar": {
              "outlinewidth": 0,
              "ticks": ""
             }
            },
            "type": "scattergeo"
           }
          ],
          "scattergl": [
           {
            "marker": {
             "colorbar": {
              "outlinewidth": 0,
              "ticks": ""
             }
            },
            "type": "scattergl"
           }
          ],
          "scattermap": [
           {
            "marker": {
             "colorbar": {
              "outlinewidth": 0,
              "ticks": ""
             }
            },
            "type": "scattermap"
           }
          ],
          "scattermapbox": [
           {
            "marker": {
             "colorbar": {
              "outlinewidth": 0,
              "ticks": ""
             }
            },
            "type": "scattermapbox"
           }
          ],
          "scatterpolar": [
           {
            "marker": {
             "colorbar": {
              "outlinewidth": 0,
              "ticks": ""
             }
            },
            "type": "scatterpolar"
           }
          ],
          "scatterpolargl": [
           {
            "marker": {
             "colorbar": {
              "outlinewidth": 0,
              "ticks": ""
             }
            },
            "type": "scatterpolargl"
           }
          ],
          "scatterternary": [
           {
            "marker": {
             "colorbar": {
              "outlinewidth": 0,
              "ticks": ""
             }
            },
            "type": "scatterternary"
           }
          ],
          "surface": [
           {
            "colorbar": {
             "outlinewidth": 0,
             "ticks": ""
            },
            "colorscale": [
             [
              0,
              "#0d0887"
             ],
             [
              0.1111111111111111,
              "#46039f"
             ],
             [
              0.2222222222222222,
              "#7201a8"
             ],
             [
              0.3333333333333333,
              "#9c179e"
             ],
             [
              0.4444444444444444,
              "#bd3786"
             ],
             [
              0.5555555555555556,
              "#d8576b"
             ],
             [
              0.6666666666666666,
              "#ed7953"
             ],
             [
              0.7777777777777778,
              "#fb9f3a"
             ],
             [
              0.8888888888888888,
              "#fdca26"
             ],
             [
              1,
              "#f0f921"
             ]
            ],
            "type": "surface"
           }
          ],
          "table": [
           {
            "cells": {
             "fill": {
              "color": "#EBF0F8"
             },
             "line": {
              "color": "white"
             }
            },
            "header": {
             "fill": {
              "color": "#C8D4E3"
             },
             "line": {
              "color": "white"
             }
            },
            "type": "table"
           }
          ]
         },
         "layout": {
          "annotationdefaults": {
           "arrowcolor": "#2a3f5f",
           "arrowhead": 0,
           "arrowwidth": 1
          },
          "autotypenumbers": "strict",
          "coloraxis": {
           "colorbar": {
            "outlinewidth": 0,
            "ticks": ""
           }
          },
          "colorscale": {
           "diverging": [
            [
             0,
             "#8e0152"
            ],
            [
             0.1,
             "#c51b7d"
            ],
            [
             0.2,
             "#de77ae"
            ],
            [
             0.3,
             "#f1b6da"
            ],
            [
             0.4,
             "#fde0ef"
            ],
            [
             0.5,
             "#f7f7f7"
            ],
            [
             0.6,
             "#e6f5d0"
            ],
            [
             0.7,
             "#b8e186"
            ],
            [
             0.8,
             "#7fbc41"
            ],
            [
             0.9,
             "#4d9221"
            ],
            [
             1,
             "#276419"
            ]
           ],
           "sequential": [
            [
             0,
             "#0d0887"
            ],
            [
             0.1111111111111111,
             "#46039f"
            ],
            [
             0.2222222222222222,
             "#7201a8"
            ],
            [
             0.3333333333333333,
             "#9c179e"
            ],
            [
             0.4444444444444444,
             "#bd3786"
            ],
            [
             0.5555555555555556,
             "#d8576b"
            ],
            [
             0.6666666666666666,
             "#ed7953"
            ],
            [
             0.7777777777777778,
             "#fb9f3a"
            ],
            [
             0.8888888888888888,
             "#fdca26"
            ],
            [
             1,
             "#f0f921"
            ]
           ],
           "sequentialminus": [
            [
             0,
             "#0d0887"
            ],
            [
             0.1111111111111111,
             "#46039f"
            ],
            [
             0.2222222222222222,
             "#7201a8"
            ],
            [
             0.3333333333333333,
             "#9c179e"
            ],
            [
             0.4444444444444444,
             "#bd3786"
            ],
            [
             0.5555555555555556,
             "#d8576b"
            ],
            [
             0.6666666666666666,
             "#ed7953"
            ],
            [
             0.7777777777777778,
             "#fb9f3a"
            ],
            [
             0.8888888888888888,
             "#fdca26"
            ],
            [
             1,
             "#f0f921"
            ]
           ]
          },
          "colorway": [
           "#636efa",
           "#EF553B",
           "#00cc96",
           "#ab63fa",
           "#FFA15A",
           "#19d3f3",
           "#FF6692",
           "#B6E880",
           "#FF97FF",
           "#FECB52"
          ],
          "font": {
           "color": "#2a3f5f"
          },
          "geo": {
           "bgcolor": "white",
           "lakecolor": "white",
           "landcolor": "#E5ECF6",
           "showlakes": true,
           "showland": true,
           "subunitcolor": "white"
          },
          "hoverlabel": {
           "align": "left"
          },
          "hovermode": "closest",
          "mapbox": {
           "style": "light"
          },
          "paper_bgcolor": "white",
          "plot_bgcolor": "#E5ECF6",
          "polar": {
           "angularaxis": {
            "gridcolor": "white",
            "linecolor": "white",
            "ticks": ""
           },
           "bgcolor": "#E5ECF6",
           "radialaxis": {
            "gridcolor": "white",
            "linecolor": "white",
            "ticks": ""
           }
          },
          "scene": {
           "xaxis": {
            "backgroundcolor": "#E5ECF6",
            "gridcolor": "white",
            "gridwidth": 2,
            "linecolor": "white",
            "showbackground": true,
            "ticks": "",
            "zerolinecolor": "white"
           },
           "yaxis": {
            "backgroundcolor": "#E5ECF6",
            "gridcolor": "white",
            "gridwidth": 2,
            "linecolor": "white",
            "showbackground": true,
            "ticks": "",
            "zerolinecolor": "white"
           },
           "zaxis": {
            "backgroundcolor": "#E5ECF6",
            "gridcolor": "white",
            "gridwidth": 2,
            "linecolor": "white",
            "showbackground": true,
            "ticks": "",
            "zerolinecolor": "white"
           }
          },
          "shapedefaults": {
           "line": {
            "color": "#2a3f5f"
           }
          },
          "ternary": {
           "aaxis": {
            "gridcolor": "white",
            "linecolor": "white",
            "ticks": ""
           },
           "baxis": {
            "gridcolor": "white",
            "linecolor": "white",
            "ticks": ""
           },
           "bgcolor": "#E5ECF6",
           "caxis": {
            "gridcolor": "white",
            "linecolor": "white",
            "ticks": ""
           }
          },
          "title": {
           "x": 0.05
          },
          "xaxis": {
           "automargin": true,
           "gridcolor": "white",
           "linecolor": "white",
           "ticks": "",
           "title": {
            "standoff": 15
           },
           "zerolinecolor": "white",
           "zerolinewidth": 2
          },
          "yaxis": {
           "automargin": true,
           "gridcolor": "white",
           "linecolor": "white",
           "ticks": "",
           "title": {
            "standoff": 15
           },
           "zerolinecolor": "white",
           "zerolinewidth": 2
          }
         }
        },
        "title": {
         "text": "Распределение трат на допы (уровень заказов)"
        },
        "xaxis": {
         "anchor": "y",
         "domain": [
          0,
          1
         ],
         "tickformat": ",",
         "title": {
          "text": "Сумма допов на заказ"
         }
        },
        "yaxis": {
         "anchor": "x",
         "domain": [
          0,
          1
         ],
         "title": {
          "text": "count"
         }
        }
       }
      }
     },
     "metadata": {},
     "output_type": "display_data"
    }
   ],
   "source": [
    "fig = px.histogram(\n",
    "    df_addon[df_addon[\"AddOn_Spent\"] > 0], x=\"AddOn_Spent\",\n",
    "    nbins=50,\n",
    "    title=\"Распределение трат на допы (уровень заказов)\",\n",
    "    labels={\"AddOn_Spent\": \"Сумма допов на заказ\"}\n",
    ")\n",
    "fig.update_layout(xaxis_tickformat=\",\")\n",
    "fig.show()"
   ]
  },
  {
   "cell_type": "markdown",
   "id": "978fd6ff",
   "metadata": {},
   "source": [
    "## Вывод\n",
    "Исходя из данных можно сказать, допы люди любят брать допы чем моложе тем больше. Само возрастание суммы покупок допов очень ровное квантили растур равномерно.\n",
    "Сумма в df_addon"
   ]
  },
  {
   "cell_type": "markdown",
   "id": "f0e66216",
   "metadata": {},
   "source": [
    "# Задание 2\n",
    "\n",
    "Вычислите показатели выручки (дохода) в разрезах логистики, ассортимента и доп. услуг за разные периоды, используя группировки и ресемплинг/агрегации.\n",
    "Необходимые разрезы:\n",
    "\n",
    "- По каждому методу доставки за весь рассматриваемый период.\n",
    "- По каждому типу продукта с суммированием дохода.\n",
    "- По дополнительным услугам помесячно для динамики по календарным месяцам.\n",
    "- По дополнительным услугам поквартально для квартальных трендов.\n",
    "\n",
    "Постройте визуализации для полученных агрегатов, отобразив их на графиках с корректными подписями осей и легендами."
   ]
  },
  {
   "cell_type": "markdown",
   "id": "2371e1dd",
   "metadata": {},
   "source": [
    "##  Логистика: по методу доставки"
   ]
  },
  {
   "cell_type": "code",
   "execution_count": 20,
   "id": "8e14946e",
   "metadata": {},
   "outputs": [],
   "source": [
    "rev_by_shipping = (\n",
    "df.groupby([\"Shipping Type\", 'month'], as_index=False)[\"Total_Spent_Row\"]\n",
    "        .sum()\n",
    "        .sort_values('month', ascending=False)\n",
    ")"
   ]
  },
  {
   "cell_type": "code",
   "execution_count": 21,
   "id": "c84fd29a",
   "metadata": {},
   "outputs": [
    {
     "data": {
      "application/vnd.plotly.v1+json": {
       "config": {
        "plotlyServerURL": "https://plot.ly"
       },
       "data": [
        {
         "hovertemplate": "Метод доставки=Standard<br>Месяц=%{x}<br>Сумма продаж=%{y}<extra></extra>",
         "legendgroup": "Standard",
         "line": {
          "color": "#636efa",
          "dash": "solid"
         },
         "marker": {
          "symbol": "circle"
         },
         "mode": "lines",
         "name": "Standard",
         "orientation": "v",
         "showlegend": true,
         "type": "scatter",
         "x": [
          "2024-09-01T00:00:00.000000000",
          "2024-08-01T00:00:00.000000000",
          "2024-07-01T00:00:00.000000000",
          "2024-06-01T00:00:00.000000000",
          "2024-05-01T00:00:00.000000000",
          "2024-04-01T00:00:00.000000000",
          "2024-03-01T00:00:00.000000000",
          "2024-02-01T00:00:00.000000000",
          "2024-01-01T00:00:00.000000000",
          "2023-12-01T00:00:00.000000000",
          "2023-11-01T00:00:00.000000000",
          "2023-10-01T00:00:00.000000000",
          "2023-09-01T00:00:00.000000000"
         ],
         "xaxis": "x",
         "y": {
          "bdata": "7FG4HpU7MUEfhetR5bQ3QWZmZmauyTdBMzMz80rMN0FI4XqUuT43QaRwPYqpPjZBj8L1KKAnN0EVrkchudgzQXsUrsfn3TdBAAAAADbqGkGamZmZHWYbQRWuR2EuiyBBSOF6FL5b80A=",
          "dtype": "f8"
         },
         "yaxis": "y"
        },
        {
         "hovertemplate": "Метод доставки=Overnight<br>Месяц=%{x}<br>Сумма продаж=%{y}<extra></extra>",
         "legendgroup": "Overnight",
         "line": {
          "color": "#EF553B",
          "dash": "solid"
         },
         "marker": {
          "symbol": "circle"
         },
         "mode": "lines",
         "name": "Overnight",
         "orientation": "v",
         "showlegend": true,
         "type": "scatter",
         "x": [
          "2024-09-01T00:00:00.000000000",
          "2024-08-01T00:00:00.000000000",
          "2024-07-01T00:00:00.000000000",
          "2024-06-01T00:00:00.000000000",
          "2024-05-01T00:00:00.000000000",
          "2024-04-01T00:00:00.000000000",
          "2024-03-01T00:00:00.000000000",
          "2024-02-01T00:00:00.000000000",
          "2024-01-01T00:00:00.000000000",
          "2023-12-01T00:00:00.000000000",
          "2023-11-01T00:00:00.000000000",
          "2023-10-01T00:00:00.000000000",
          "2023-09-01T00:00:00.000000000"
         ],
         "xaxis": "x",
         "y": {
          "bdata": "9ihcj+/MGUEpXI/CBHceQZqZmRm1SyBBhetRuMYgHUHD9Shc34YgQdejcD3VHBxBzczMzNBlGkHXo3A9SxsZQXsUrsfwXyBBrkfheij0GkFxPQrXMOcgQVK4HoX+RCFBZmZmZn7f+UA=",
          "dtype": "f8"
         },
         "yaxis": "y"
        },
        {
         "hovertemplate": "Метод доставки=Same Day<br>Месяц=%{x}<br>Сумма продаж=%{y}<extra></extra>",
         "legendgroup": "Same Day",
         "line": {
          "color": "#00cc96",
          "dash": "solid"
         },
         "marker": {
          "symbol": "circle"
         },
         "mode": "lines",
         "name": "Same Day",
         "orientation": "v",
         "showlegend": true,
         "type": "scatter",
         "x": [
          "2024-09-01T00:00:00.000000000",
          "2024-08-01T00:00:00.000000000",
          "2024-07-01T00:00:00.000000000",
          "2024-06-01T00:00:00.000000000",
          "2024-05-01T00:00:00.000000000",
          "2024-04-01T00:00:00.000000000",
          "2024-03-01T00:00:00.000000000",
          "2024-02-01T00:00:00.000000000",
          "2024-01-01T00:00:00.000000000"
         ],
         "xaxis": "x",
         "y": {
          "bdata": "uB6FaxVRJkGamZmZsWkuQbgeheu2+CxBKVyPwv4cKkHD9Shc0YIwQQAAAICmBC9BMzMzM7cRL0HNzMzMJFIpQXsUrkfrOS5B",
          "dtype": "f8"
         },
         "yaxis": "y"
        },
        {
         "hovertemplate": "Метод доставки=Express<br>Месяц=%{x}<br>Сумма продаж=%{y}<extra></extra>",
         "legendgroup": "Express",
         "line": {
          "color": "#ab63fa",
          "dash": "solid"
         },
         "marker": {
          "symbol": "circle"
         },
         "mode": "lines",
         "name": "Express",
         "orientation": "v",
         "showlegend": true,
         "type": "scatter",
         "x": [
          "2024-09-01T00:00:00.000000000",
          "2024-08-01T00:00:00.000000000",
          "2024-07-01T00:00:00.000000000",
          "2024-06-01T00:00:00.000000000",
          "2024-05-01T00:00:00.000000000",
          "2024-04-01T00:00:00.000000000",
          "2024-03-01T00:00:00.000000000",
          "2024-02-01T00:00:00.000000000",
          "2024-01-01T00:00:00.000000000",
          "2023-12-01T00:00:00.000000000",
          "2023-11-01T00:00:00.000000000",
          "2023-10-01T00:00:00.000000000",
          "2023-09-01T00:00:00.000000000"
         ],
         "xaxis": "x",
         "y": {
          "bdata": "rkfhetfWFkHhehSuBPEaQc3MzMxX1x5BCtej8NU0IEGF61G4+pkeQXE9Ctd2RhxBH4XrUcGaGUEAAAAA7iocQc3MzMxL+iFBuB6F6zV6G0GkcD0KKCIZQa5H4XpC5hxBexSuR5lR+UA=",
          "dtype": "f8"
         },
         "yaxis": "y"
        },
        {
         "hovertemplate": "Метод доставки=Expedited<br>Месяц=%{x}<br>Сумма продаж=%{y}<extra></extra>",
         "legendgroup": "Expedited",
         "line": {
          "color": "#FFA15A",
          "dash": "solid"
         },
         "marker": {
          "symbol": "circle"
         },
         "mode": "lines",
         "name": "Expedited",
         "orientation": "v",
         "showlegend": true,
         "type": "scatter",
         "x": [
          "2024-09-01T00:00:00.000000000",
          "2024-08-01T00:00:00.000000000",
          "2024-07-01T00:00:00.000000000",
          "2024-06-01T00:00:00.000000000",
          "2024-05-01T00:00:00.000000000",
          "2024-04-01T00:00:00.000000000",
          "2024-03-01T00:00:00.000000000",
          "2024-02-01T00:00:00.000000000",
          "2024-01-01T00:00:00.000000000"
         ],
         "xaxis": "x",
         "y": {
          "bdata": "uB6F69seKEFcj8J1a8UtQXE9CleHlS5BSOF6VIwyMUGPwvUo0JUrQRWuR+GTCy5BSOF6lDAtLEFI4XoUjLstQZqZmRkCXCxB",
          "dtype": "f8"
         },
         "yaxis": "y"
        }
       ],
       "layout": {
        "barmode": "stack",
        "legend": {
         "title": {
          "text": "Метод доставки"
         },
         "tracegroupgap": 0
        },
        "template": {
         "data": {
          "bar": [
           {
            "error_x": {
             "color": "#2a3f5f"
            },
            "error_y": {
             "color": "#2a3f5f"
            },
            "marker": {
             "line": {
              "color": "#E5ECF6",
              "width": 0.5
             },
             "pattern": {
              "fillmode": "overlay",
              "size": 10,
              "solidity": 0.2
             }
            },
            "type": "bar"
           }
          ],
          "barpolar": [
           {
            "marker": {
             "line": {
              "color": "#E5ECF6",
              "width": 0.5
             },
             "pattern": {
              "fillmode": "overlay",
              "size": 10,
              "solidity": 0.2
             }
            },
            "type": "barpolar"
           }
          ],
          "carpet": [
           {
            "aaxis": {
             "endlinecolor": "#2a3f5f",
             "gridcolor": "white",
             "linecolor": "white",
             "minorgridcolor": "white",
             "startlinecolor": "#2a3f5f"
            },
            "baxis": {
             "endlinecolor": "#2a3f5f",
             "gridcolor": "white",
             "linecolor": "white",
             "minorgridcolor": "white",
             "startlinecolor": "#2a3f5f"
            },
            "type": "carpet"
           }
          ],
          "choropleth": [
           {
            "colorbar": {
             "outlinewidth": 0,
             "ticks": ""
            },
            "type": "choropleth"
           }
          ],
          "contour": [
           {
            "colorbar": {
             "outlinewidth": 0,
             "ticks": ""
            },
            "colorscale": [
             [
              0,
              "#0d0887"
             ],
             [
              0.1111111111111111,
              "#46039f"
             ],
             [
              0.2222222222222222,
              "#7201a8"
             ],
             [
              0.3333333333333333,
              "#9c179e"
             ],
             [
              0.4444444444444444,
              "#bd3786"
             ],
             [
              0.5555555555555556,
              "#d8576b"
             ],
             [
              0.6666666666666666,
              "#ed7953"
             ],
             [
              0.7777777777777778,
              "#fb9f3a"
             ],
             [
              0.8888888888888888,
              "#fdca26"
             ],
             [
              1,
              "#f0f921"
             ]
            ],
            "type": "contour"
           }
          ],
          "contourcarpet": [
           {
            "colorbar": {
             "outlinewidth": 0,
             "ticks": ""
            },
            "type": "contourcarpet"
           }
          ],
          "heatmap": [
           {
            "colorbar": {
             "outlinewidth": 0,
             "ticks": ""
            },
            "colorscale": [
             [
              0,
              "#0d0887"
             ],
             [
              0.1111111111111111,
              "#46039f"
             ],
             [
              0.2222222222222222,
              "#7201a8"
             ],
             [
              0.3333333333333333,
              "#9c179e"
             ],
             [
              0.4444444444444444,
              "#bd3786"
             ],
             [
              0.5555555555555556,
              "#d8576b"
             ],
             [
              0.6666666666666666,
              "#ed7953"
             ],
             [
              0.7777777777777778,
              "#fb9f3a"
             ],
             [
              0.8888888888888888,
              "#fdca26"
             ],
             [
              1,
              "#f0f921"
             ]
            ],
            "type": "heatmap"
           }
          ],
          "histogram": [
           {
            "marker": {
             "pattern": {
              "fillmode": "overlay",
              "size": 10,
              "solidity": 0.2
             }
            },
            "type": "histogram"
           }
          ],
          "histogram2d": [
           {
            "colorbar": {
             "outlinewidth": 0,
             "ticks": ""
            },
            "colorscale": [
             [
              0,
              "#0d0887"
             ],
             [
              0.1111111111111111,
              "#46039f"
             ],
             [
              0.2222222222222222,
              "#7201a8"
             ],
             [
              0.3333333333333333,
              "#9c179e"
             ],
             [
              0.4444444444444444,
              "#bd3786"
             ],
             [
              0.5555555555555556,
              "#d8576b"
             ],
             [
              0.6666666666666666,
              "#ed7953"
             ],
             [
              0.7777777777777778,
              "#fb9f3a"
             ],
             [
              0.8888888888888888,
              "#fdca26"
             ],
             [
              1,
              "#f0f921"
             ]
            ],
            "type": "histogram2d"
           }
          ],
          "histogram2dcontour": [
           {
            "colorbar": {
             "outlinewidth": 0,
             "ticks": ""
            },
            "colorscale": [
             [
              0,
              "#0d0887"
             ],
             [
              0.1111111111111111,
              "#46039f"
             ],
             [
              0.2222222222222222,
              "#7201a8"
             ],
             [
              0.3333333333333333,
              "#9c179e"
             ],
             [
              0.4444444444444444,
              "#bd3786"
             ],
             [
              0.5555555555555556,
              "#d8576b"
             ],
             [
              0.6666666666666666,
              "#ed7953"
             ],
             [
              0.7777777777777778,
              "#fb9f3a"
             ],
             [
              0.8888888888888888,
              "#fdca26"
             ],
             [
              1,
              "#f0f921"
             ]
            ],
            "type": "histogram2dcontour"
           }
          ],
          "mesh3d": [
           {
            "colorbar": {
             "outlinewidth": 0,
             "ticks": ""
            },
            "type": "mesh3d"
           }
          ],
          "parcoords": [
           {
            "line": {
             "colorbar": {
              "outlinewidth": 0,
              "ticks": ""
             }
            },
            "type": "parcoords"
           }
          ],
          "pie": [
           {
            "automargin": true,
            "type": "pie"
           }
          ],
          "scatter": [
           {
            "fillpattern": {
             "fillmode": "overlay",
             "size": 10,
             "solidity": 0.2
            },
            "type": "scatter"
           }
          ],
          "scatter3d": [
           {
            "line": {
             "colorbar": {
              "outlinewidth": 0,
              "ticks": ""
             }
            },
            "marker": {
             "colorbar": {
              "outlinewidth": 0,
              "ticks": ""
             }
            },
            "type": "scatter3d"
           }
          ],
          "scattercarpet": [
           {
            "marker": {
             "colorbar": {
              "outlinewidth": 0,
              "ticks": ""
             }
            },
            "type": "scattercarpet"
           }
          ],
          "scattergeo": [
           {
            "marker": {
             "colorbar": {
              "outlinewidth": 0,
              "ticks": ""
             }
            },
            "type": "scattergeo"
           }
          ],
          "scattergl": [
           {
            "marker": {
             "colorbar": {
              "outlinewidth": 0,
              "ticks": ""
             }
            },
            "type": "scattergl"
           }
          ],
          "scattermap": [
           {
            "marker": {
             "colorbar": {
              "outlinewidth": 0,
              "ticks": ""
             }
            },
            "type": "scattermap"
           }
          ],
          "scattermapbox": [
           {
            "marker": {
             "colorbar": {
              "outlinewidth": 0,
              "ticks": ""
             }
            },
            "type": "scattermapbox"
           }
          ],
          "scatterpolar": [
           {
            "marker": {
             "colorbar": {
              "outlinewidth": 0,
              "ticks": ""
             }
            },
            "type": "scatterpolar"
           }
          ],
          "scatterpolargl": [
           {
            "marker": {
             "colorbar": {
              "outlinewidth": 0,
              "ticks": ""
             }
            },
            "type": "scatterpolargl"
           }
          ],
          "scatterternary": [
           {
            "marker": {
             "colorbar": {
              "outlinewidth": 0,
              "ticks": ""
             }
            },
            "type": "scatterternary"
           }
          ],
          "surface": [
           {
            "colorbar": {
             "outlinewidth": 0,
             "ticks": ""
            },
            "colorscale": [
             [
              0,
              "#0d0887"
             ],
             [
              0.1111111111111111,
              "#46039f"
             ],
             [
              0.2222222222222222,
              "#7201a8"
             ],
             [
              0.3333333333333333,
              "#9c179e"
             ],
             [
              0.4444444444444444,
              "#bd3786"
             ],
             [
              0.5555555555555556,
              "#d8576b"
             ],
             [
              0.6666666666666666,
              "#ed7953"
             ],
             [
              0.7777777777777778,
              "#fb9f3a"
             ],
             [
              0.8888888888888888,
              "#fdca26"
             ],
             [
              1,
              "#f0f921"
             ]
            ],
            "type": "surface"
           }
          ],
          "table": [
           {
            "cells": {
             "fill": {
              "color": "#EBF0F8"
             },
             "line": {
              "color": "white"
             }
            },
            "header": {
             "fill": {
              "color": "#C8D4E3"
             },
             "line": {
              "color": "white"
             }
            },
            "type": "table"
           }
          ]
         },
         "layout": {
          "annotationdefaults": {
           "arrowcolor": "#2a3f5f",
           "arrowhead": 0,
           "arrowwidth": 1
          },
          "autotypenumbers": "strict",
          "coloraxis": {
           "colorbar": {
            "outlinewidth": 0,
            "ticks": ""
           }
          },
          "colorscale": {
           "diverging": [
            [
             0,
             "#8e0152"
            ],
            [
             0.1,
             "#c51b7d"
            ],
            [
             0.2,
             "#de77ae"
            ],
            [
             0.3,
             "#f1b6da"
            ],
            [
             0.4,
             "#fde0ef"
            ],
            [
             0.5,
             "#f7f7f7"
            ],
            [
             0.6,
             "#e6f5d0"
            ],
            [
             0.7,
             "#b8e186"
            ],
            [
             0.8,
             "#7fbc41"
            ],
            [
             0.9,
             "#4d9221"
            ],
            [
             1,
             "#276419"
            ]
           ],
           "sequential": [
            [
             0,
             "#0d0887"
            ],
            [
             0.1111111111111111,
             "#46039f"
            ],
            [
             0.2222222222222222,
             "#7201a8"
            ],
            [
             0.3333333333333333,
             "#9c179e"
            ],
            [
             0.4444444444444444,
             "#bd3786"
            ],
            [
             0.5555555555555556,
             "#d8576b"
            ],
            [
             0.6666666666666666,
             "#ed7953"
            ],
            [
             0.7777777777777778,
             "#fb9f3a"
            ],
            [
             0.8888888888888888,
             "#fdca26"
            ],
            [
             1,
             "#f0f921"
            ]
           ],
           "sequentialminus": [
            [
             0,
             "#0d0887"
            ],
            [
             0.1111111111111111,
             "#46039f"
            ],
            [
             0.2222222222222222,
             "#7201a8"
            ],
            [
             0.3333333333333333,
             "#9c179e"
            ],
            [
             0.4444444444444444,
             "#bd3786"
            ],
            [
             0.5555555555555556,
             "#d8576b"
            ],
            [
             0.6666666666666666,
             "#ed7953"
            ],
            [
             0.7777777777777778,
             "#fb9f3a"
            ],
            [
             0.8888888888888888,
             "#fdca26"
            ],
            [
             1,
             "#f0f921"
            ]
           ]
          },
          "colorway": [
           "#636efa",
           "#EF553B",
           "#00cc96",
           "#ab63fa",
           "#FFA15A",
           "#19d3f3",
           "#FF6692",
           "#B6E880",
           "#FF97FF",
           "#FECB52"
          ],
          "font": {
           "color": "#2a3f5f"
          },
          "geo": {
           "bgcolor": "white",
           "lakecolor": "white",
           "landcolor": "#E5ECF6",
           "showlakes": true,
           "showland": true,
           "subunitcolor": "white"
          },
          "hoverlabel": {
           "align": "left"
          },
          "hovermode": "closest",
          "mapbox": {
           "style": "light"
          },
          "paper_bgcolor": "white",
          "plot_bgcolor": "#E5ECF6",
          "polar": {
           "angularaxis": {
            "gridcolor": "white",
            "linecolor": "white",
            "ticks": ""
           },
           "bgcolor": "#E5ECF6",
           "radialaxis": {
            "gridcolor": "white",
            "linecolor": "white",
            "ticks": ""
           }
          },
          "scene": {
           "xaxis": {
            "backgroundcolor": "#E5ECF6",
            "gridcolor": "white",
            "gridwidth": 2,
            "linecolor": "white",
            "showbackground": true,
            "ticks": "",
            "zerolinecolor": "white"
           },
           "yaxis": {
            "backgroundcolor": "#E5ECF6",
            "gridcolor": "white",
            "gridwidth": 2,
            "linecolor": "white",
            "showbackground": true,
            "ticks": "",
            "zerolinecolor": "white"
           },
           "zaxis": {
            "backgroundcolor": "#E5ECF6",
            "gridcolor": "white",
            "gridwidth": 2,
            "linecolor": "white",
            "showbackground": true,
            "ticks": "",
            "zerolinecolor": "white"
           }
          },
          "shapedefaults": {
           "line": {
            "color": "#2a3f5f"
           }
          },
          "ternary": {
           "aaxis": {
            "gridcolor": "white",
            "linecolor": "white",
            "ticks": ""
           },
           "baxis": {
            "gridcolor": "white",
            "linecolor": "white",
            "ticks": ""
           },
           "bgcolor": "#E5ECF6",
           "caxis": {
            "gridcolor": "white",
            "linecolor": "white",
            "ticks": ""
           }
          },
          "title": {
           "x": 0.05
          },
          "xaxis": {
           "automargin": true,
           "gridcolor": "white",
           "linecolor": "white",
           "ticks": "",
           "title": {
            "standoff": 15
           },
           "zerolinecolor": "white",
           "zerolinewidth": 2
          },
          "yaxis": {
           "automargin": true,
           "gridcolor": "white",
           "linecolor": "white",
           "ticks": "",
           "title": {
            "standoff": 15
           },
           "zerolinecolor": "white",
           "zerolinewidth": 2
          }
         }
        },
        "title": {
         "text": "Сумма продаж по месяцам по способам доставки"
        },
        "xaxis": {
         "anchor": "y",
         "domain": [
          0,
          1
         ],
         "tickformat": "%Y-%m",
         "title": {
          "text": "Месяц"
         }
        },
        "yaxis": {
         "anchor": "x",
         "domain": [
          0,
          1
         ],
         "title": {
          "text": "Сумма продаж"
         }
        }
       }
      }
     },
     "metadata": {},
     "output_type": "display_data"
    }
   ],
   "source": [
    "fig = px.line(\n",
    "    rev_by_shipping,\n",
    "    x='month',\n",
    "    y='Total_Spent_Row',\n",
    "    color='Shipping Type',\n",
    "    title='Сумма продаж по месяцам по способам доставки',\n",
    "    labels={'month': 'Месяц', 'Total_Spent_Row': 'Сумма продаж', 'Shipping Type': 'Метод доставки'},\n",
    ")\n",
    "fig.update_layout(barmode='stack', legend_title_text='Метод доставки', xaxis_tickformat='%Y-%m')\n",
    "fig.show()"
   ]
  },
  {
   "cell_type": "markdown",
   "id": "611e23e6",
   "metadata": {},
   "source": [
    "## Вывод\n",
    "Большинство использует стандартный тип доставки начиная с 24 года, до этого все было довольно ровно. Тот же день и экспедиция появились с 24 года и сразу стали популярны."
   ]
  },
  {
   "cell_type": "markdown",
   "id": "630785ee",
   "metadata": {},
   "source": [
    "## По каждому типу продукта с суммированием дохода."
   ]
  },
  {
   "cell_type": "code",
   "execution_count": 22,
   "id": "793de6b9",
   "metadata": {},
   "outputs": [
    {
     "data": {
      "application/vnd.plotly.v1+json": {
       "config": {
        "plotlyServerURL": "https://plot.ly"
       },
       "data": [
        {
         "hovertemplate": "Тип продукта=%{x}<br>Выручка=%{text}<extra></extra>",
         "legendgroup": "",
         "marker": {
          "color": "#636efa",
          "pattern": {
           "shape": ""
          }
         },
         "name": "",
         "orientation": "v",
         "showlegend": false,
         "text": {
          "bdata": "j8L1sLbna0EK16MAtTpiQY/C9eBASGBBCtej4G0cXkHD9Shcb7lFQQ==",
          "dtype": "f8"
         },
         "textposition": "outside",
         "texttemplate": "%{text:.2f}",
         "type": "bar",
         "x": [
          "Smartphone",
          "Smartwatch",
          "Laptop",
          "Tablet",
          "Headphones"
         ],
         "xaxis": "x",
         "y": {
          "bdata": "j8L1sLbna0EK16MAtTpiQY/C9eBASGBBCtej4G0cXkHD9Shcb7lFQQ==",
          "dtype": "f8"
         },
         "yaxis": "y"
        }
       ],
       "layout": {
        "barmode": "relative",
        "legend": {
         "tracegroupgap": 0
        },
        "margin": {
         "b": 90
        },
        "template": {
         "data": {
          "bar": [
           {
            "error_x": {
             "color": "#2a3f5f"
            },
            "error_y": {
             "color": "#2a3f5f"
            },
            "marker": {
             "line": {
              "color": "#E5ECF6",
              "width": 0.5
             },
             "pattern": {
              "fillmode": "overlay",
              "size": 10,
              "solidity": 0.2
             }
            },
            "type": "bar"
           }
          ],
          "barpolar": [
           {
            "marker": {
             "line": {
              "color": "#E5ECF6",
              "width": 0.5
             },
             "pattern": {
              "fillmode": "overlay",
              "size": 10,
              "solidity": 0.2
             }
            },
            "type": "barpolar"
           }
          ],
          "carpet": [
           {
            "aaxis": {
             "endlinecolor": "#2a3f5f",
             "gridcolor": "white",
             "linecolor": "white",
             "minorgridcolor": "white",
             "startlinecolor": "#2a3f5f"
            },
            "baxis": {
             "endlinecolor": "#2a3f5f",
             "gridcolor": "white",
             "linecolor": "white",
             "minorgridcolor": "white",
             "startlinecolor": "#2a3f5f"
            },
            "type": "carpet"
           }
          ],
          "choropleth": [
           {
            "colorbar": {
             "outlinewidth": 0,
             "ticks": ""
            },
            "type": "choropleth"
           }
          ],
          "contour": [
           {
            "colorbar": {
             "outlinewidth": 0,
             "ticks": ""
            },
            "colorscale": [
             [
              0,
              "#0d0887"
             ],
             [
              0.1111111111111111,
              "#46039f"
             ],
             [
              0.2222222222222222,
              "#7201a8"
             ],
             [
              0.3333333333333333,
              "#9c179e"
             ],
             [
              0.4444444444444444,
              "#bd3786"
             ],
             [
              0.5555555555555556,
              "#d8576b"
             ],
             [
              0.6666666666666666,
              "#ed7953"
             ],
             [
              0.7777777777777778,
              "#fb9f3a"
             ],
             [
              0.8888888888888888,
              "#fdca26"
             ],
             [
              1,
              "#f0f921"
             ]
            ],
            "type": "contour"
           }
          ],
          "contourcarpet": [
           {
            "colorbar": {
             "outlinewidth": 0,
             "ticks": ""
            },
            "type": "contourcarpet"
           }
          ],
          "heatmap": [
           {
            "colorbar": {
             "outlinewidth": 0,
             "ticks": ""
            },
            "colorscale": [
             [
              0,
              "#0d0887"
             ],
             [
              0.1111111111111111,
              "#46039f"
             ],
             [
              0.2222222222222222,
              "#7201a8"
             ],
             [
              0.3333333333333333,
              "#9c179e"
             ],
             [
              0.4444444444444444,
              "#bd3786"
             ],
             [
              0.5555555555555556,
              "#d8576b"
             ],
             [
              0.6666666666666666,
              "#ed7953"
             ],
             [
              0.7777777777777778,
              "#fb9f3a"
             ],
             [
              0.8888888888888888,
              "#fdca26"
             ],
             [
              1,
              "#f0f921"
             ]
            ],
            "type": "heatmap"
           }
          ],
          "histogram": [
           {
            "marker": {
             "pattern": {
              "fillmode": "overlay",
              "size": 10,
              "solidity": 0.2
             }
            },
            "type": "histogram"
           }
          ],
          "histogram2d": [
           {
            "colorbar": {
             "outlinewidth": 0,
             "ticks": ""
            },
            "colorscale": [
             [
              0,
              "#0d0887"
             ],
             [
              0.1111111111111111,
              "#46039f"
             ],
             [
              0.2222222222222222,
              "#7201a8"
             ],
             [
              0.3333333333333333,
              "#9c179e"
             ],
             [
              0.4444444444444444,
              "#bd3786"
             ],
             [
              0.5555555555555556,
              "#d8576b"
             ],
             [
              0.6666666666666666,
              "#ed7953"
             ],
             [
              0.7777777777777778,
              "#fb9f3a"
             ],
             [
              0.8888888888888888,
              "#fdca26"
             ],
             [
              1,
              "#f0f921"
             ]
            ],
            "type": "histogram2d"
           }
          ],
          "histogram2dcontour": [
           {
            "colorbar": {
             "outlinewidth": 0,
             "ticks": ""
            },
            "colorscale": [
             [
              0,
              "#0d0887"
             ],
             [
              0.1111111111111111,
              "#46039f"
             ],
             [
              0.2222222222222222,
              "#7201a8"
             ],
             [
              0.3333333333333333,
              "#9c179e"
             ],
             [
              0.4444444444444444,
              "#bd3786"
             ],
             [
              0.5555555555555556,
              "#d8576b"
             ],
             [
              0.6666666666666666,
              "#ed7953"
             ],
             [
              0.7777777777777778,
              "#fb9f3a"
             ],
             [
              0.8888888888888888,
              "#fdca26"
             ],
             [
              1,
              "#f0f921"
             ]
            ],
            "type": "histogram2dcontour"
           }
          ],
          "mesh3d": [
           {
            "colorbar": {
             "outlinewidth": 0,
             "ticks": ""
            },
            "type": "mesh3d"
           }
          ],
          "parcoords": [
           {
            "line": {
             "colorbar": {
              "outlinewidth": 0,
              "ticks": ""
             }
            },
            "type": "parcoords"
           }
          ],
          "pie": [
           {
            "automargin": true,
            "type": "pie"
           }
          ],
          "scatter": [
           {
            "fillpattern": {
             "fillmode": "overlay",
             "size": 10,
             "solidity": 0.2
            },
            "type": "scatter"
           }
          ],
          "scatter3d": [
           {
            "line": {
             "colorbar": {
              "outlinewidth": 0,
              "ticks": ""
             }
            },
            "marker": {
             "colorbar": {
              "outlinewidth": 0,
              "ticks": ""
             }
            },
            "type": "scatter3d"
           }
          ],
          "scattercarpet": [
           {
            "marker": {
             "colorbar": {
              "outlinewidth": 0,
              "ticks": ""
             }
            },
            "type": "scattercarpet"
           }
          ],
          "scattergeo": [
           {
            "marker": {
             "colorbar": {
              "outlinewidth": 0,
              "ticks": ""
             }
            },
            "type": "scattergeo"
           }
          ],
          "scattergl": [
           {
            "marker": {
             "colorbar": {
              "outlinewidth": 0,
              "ticks": ""
             }
            },
            "type": "scattergl"
           }
          ],
          "scattermap": [
           {
            "marker": {
             "colorbar": {
              "outlinewidth": 0,
              "ticks": ""
             }
            },
            "type": "scattermap"
           }
          ],
          "scattermapbox": [
           {
            "marker": {
             "colorbar": {
              "outlinewidth": 0,
              "ticks": ""
             }
            },
            "type": "scattermapbox"
           }
          ],
          "scatterpolar": [
           {
            "marker": {
             "colorbar": {
              "outlinewidth": 0,
              "ticks": ""
             }
            },
            "type": "scatterpolar"
           }
          ],
          "scatterpolargl": [
           {
            "marker": {
             "colorbar": {
              "outlinewidth": 0,
              "ticks": ""
             }
            },
            "type": "scatterpolargl"
           }
          ],
          "scatterternary": [
           {
            "marker": {
             "colorbar": {
              "outlinewidth": 0,
              "ticks": ""
             }
            },
            "type": "scatterternary"
           }
          ],
          "surface": [
           {
            "colorbar": {
             "outlinewidth": 0,
             "ticks": ""
            },
            "colorscale": [
             [
              0,
              "#0d0887"
             ],
             [
              0.1111111111111111,
              "#46039f"
             ],
             [
              0.2222222222222222,
              "#7201a8"
             ],
             [
              0.3333333333333333,
              "#9c179e"
             ],
             [
              0.4444444444444444,
              "#bd3786"
             ],
             [
              0.5555555555555556,
              "#d8576b"
             ],
             [
              0.6666666666666666,
              "#ed7953"
             ],
             [
              0.7777777777777778,
              "#fb9f3a"
             ],
             [
              0.8888888888888888,
              "#fdca26"
             ],
             [
              1,
              "#f0f921"
             ]
            ],
            "type": "surface"
           }
          ],
          "table": [
           {
            "cells": {
             "fill": {
              "color": "#EBF0F8"
             },
             "line": {
              "color": "white"
             }
            },
            "header": {
             "fill": {
              "color": "#C8D4E3"
             },
             "line": {
              "color": "white"
             }
            },
            "type": "table"
           }
          ]
         },
         "layout": {
          "annotationdefaults": {
           "arrowcolor": "#2a3f5f",
           "arrowhead": 0,
           "arrowwidth": 1
          },
          "autotypenumbers": "strict",
          "coloraxis": {
           "colorbar": {
            "outlinewidth": 0,
            "ticks": ""
           }
          },
          "colorscale": {
           "diverging": [
            [
             0,
             "#8e0152"
            ],
            [
             0.1,
             "#c51b7d"
            ],
            [
             0.2,
             "#de77ae"
            ],
            [
             0.3,
             "#f1b6da"
            ],
            [
             0.4,
             "#fde0ef"
            ],
            [
             0.5,
             "#f7f7f7"
            ],
            [
             0.6,
             "#e6f5d0"
            ],
            [
             0.7,
             "#b8e186"
            ],
            [
             0.8,
             "#7fbc41"
            ],
            [
             0.9,
             "#4d9221"
            ],
            [
             1,
             "#276419"
            ]
           ],
           "sequential": [
            [
             0,
             "#0d0887"
            ],
            [
             0.1111111111111111,
             "#46039f"
            ],
            [
             0.2222222222222222,
             "#7201a8"
            ],
            [
             0.3333333333333333,
             "#9c179e"
            ],
            [
             0.4444444444444444,
             "#bd3786"
            ],
            [
             0.5555555555555556,
             "#d8576b"
            ],
            [
             0.6666666666666666,
             "#ed7953"
            ],
            [
             0.7777777777777778,
             "#fb9f3a"
            ],
            [
             0.8888888888888888,
             "#fdca26"
            ],
            [
             1,
             "#f0f921"
            ]
           ],
           "sequentialminus": [
            [
             0,
             "#0d0887"
            ],
            [
             0.1111111111111111,
             "#46039f"
            ],
            [
             0.2222222222222222,
             "#7201a8"
            ],
            [
             0.3333333333333333,
             "#9c179e"
            ],
            [
             0.4444444444444444,
             "#bd3786"
            ],
            [
             0.5555555555555556,
             "#d8576b"
            ],
            [
             0.6666666666666666,
             "#ed7953"
            ],
            [
             0.7777777777777778,
             "#fb9f3a"
            ],
            [
             0.8888888888888888,
             "#fdca26"
            ],
            [
             1,
             "#f0f921"
            ]
           ]
          },
          "colorway": [
           "#636efa",
           "#EF553B",
           "#00cc96",
           "#ab63fa",
           "#FFA15A",
           "#19d3f3",
           "#FF6692",
           "#B6E880",
           "#FF97FF",
           "#FECB52"
          ],
          "font": {
           "color": "#2a3f5f"
          },
          "geo": {
           "bgcolor": "white",
           "lakecolor": "white",
           "landcolor": "#E5ECF6",
           "showlakes": true,
           "showland": true,
           "subunitcolor": "white"
          },
          "hoverlabel": {
           "align": "left"
          },
          "hovermode": "closest",
          "mapbox": {
           "style": "light"
          },
          "paper_bgcolor": "white",
          "plot_bgcolor": "#E5ECF6",
          "polar": {
           "angularaxis": {
            "gridcolor": "white",
            "linecolor": "white",
            "ticks": ""
           },
           "bgcolor": "#E5ECF6",
           "radialaxis": {
            "gridcolor": "white",
            "linecolor": "white",
            "ticks": ""
           }
          },
          "scene": {
           "xaxis": {
            "backgroundcolor": "#E5ECF6",
            "gridcolor": "white",
            "gridwidth": 2,
            "linecolor": "white",
            "showbackground": true,
            "ticks": "",
            "zerolinecolor": "white"
           },
           "yaxis": {
            "backgroundcolor": "#E5ECF6",
            "gridcolor": "white",
            "gridwidth": 2,
            "linecolor": "white",
            "showbackground": true,
            "ticks": "",
            "zerolinecolor": "white"
           },
           "zaxis": {
            "backgroundcolor": "#E5ECF6",
            "gridcolor": "white",
            "gridwidth": 2,
            "linecolor": "white",
            "showbackground": true,
            "ticks": "",
            "zerolinecolor": "white"
           }
          },
          "shapedefaults": {
           "line": {
            "color": "#2a3f5f"
           }
          },
          "ternary": {
           "aaxis": {
            "gridcolor": "white",
            "linecolor": "white",
            "ticks": ""
           },
           "baxis": {
            "gridcolor": "white",
            "linecolor": "white",
            "ticks": ""
           },
           "bgcolor": "#E5ECF6",
           "caxis": {
            "gridcolor": "white",
            "linecolor": "white",
            "ticks": ""
           }
          },
          "title": {
           "x": 0.05
          },
          "xaxis": {
           "automargin": true,
           "gridcolor": "white",
           "linecolor": "white",
           "ticks": "",
           "title": {
            "standoff": 15
           },
           "zerolinecolor": "white",
           "zerolinewidth": 2
          },
          "yaxis": {
           "automargin": true,
           "gridcolor": "white",
           "linecolor": "white",
           "ticks": "",
           "title": {
            "standoff": 15
           },
           "zerolinecolor": "white",
           "zerolinewidth": 2
          }
         }
        },
        "title": {
         "text": "Выручка по типам продуктов (весь период)"
        },
        "xaxis": {
         "anchor": "y",
         "domain": [
          0,
          1
         ],
         "tickangle": -30,
         "title": {
          "text": "Тип продукта"
         }
        },
        "yaxis": {
         "anchor": "x",
         "domain": [
          0,
          1
         ],
         "tickformat": ",",
         "title": {
          "text": "Выручка"
         }
        }
       }
      }
     },
     "metadata": {},
     "output_type": "display_data"
    }
   ],
   "source": [
    "rev_by_product = (\n",
    "    df.groupby(\"Product Type\", as_index=False)[\"Total_Spent_Row\"]\n",
    "          .sum()\n",
    "          .sort_values(\"Total_Spent_Row\", ascending=False)\n",
    ")\n",
    "fig_prod = px.bar(\n",
    "    rev_by_product,\n",
    "    x=\"Product Type\", y=\"Total_Spent_Row\", text=\"Total_Spent_Row\",\n",
    "    title=\"Выручка по типам продуктов (весь период)\",\n",
    "    labels={\"Product Type\": \"Тип продукта\", \"Total_Spent_Row\": \"Выручка\"}\n",
    ")\n",
    "fig_prod.update_traces(texttemplate=\"%{text:.2f}\", textposition=\"outside\")\n",
    "fig_prod.update_layout(yaxis_tickformat=\",\", xaxis_tickangle=-30, margin=dict(b=90))\n",
    "fig_prod.show()"
   ]
  },
  {
   "cell_type": "code",
   "execution_count": 32,
   "id": "c82798a9",
   "metadata": {},
   "outputs": [
    {
     "data": {
      "application/vnd.plotly.v1+json": {
       "config": {
        "plotlyServerURL": "https://plot.ly"
       },
       "data": [
        {
         "hovertemplate": "Тип продукта=%{x}<br>Количество покупок=%{text}<extra></extra>",
         "legendgroup": "",
         "marker": {
          "color": "#636efa",
          "pattern": {
           "shape": ""
          }
         },
         "name": "",
         "orientation": "v",
         "showlegend": false,
         "text": {
          "bdata": "AAAAAMBu1UAAAAAAgGDNQAAAAACAj8xAAAAAAABFzEAAAAAAAI29QA==",
          "dtype": "f8"
         },
         "textposition": "outside",
         "texttemplate": "%{text:.2f}",
         "type": "bar",
         "x": [
          "Smartphone",
          "Tablet",
          "Laptop",
          "Smartwatch",
          "Headphones"
         ],
         "xaxis": "x",
         "y": {
          "bdata": "u1XBOh85ijiNHQ==",
          "dtype": "i2"
         },
         "yaxis": "y"
        }
       ],
       "layout": {
        "barmode": "relative",
        "legend": {
         "tracegroupgap": 0
        },
        "margin": {
         "b": 90
        },
        "template": {
         "data": {
          "bar": [
           {
            "error_x": {
             "color": "#2a3f5f"
            },
            "error_y": {
             "color": "#2a3f5f"
            },
            "marker": {
             "line": {
              "color": "#E5ECF6",
              "width": 0.5
             },
             "pattern": {
              "fillmode": "overlay",
              "size": 10,
              "solidity": 0.2
             }
            },
            "type": "bar"
           }
          ],
          "barpolar": [
           {
            "marker": {
             "line": {
              "color": "#E5ECF6",
              "width": 0.5
             },
             "pattern": {
              "fillmode": "overlay",
              "size": 10,
              "solidity": 0.2
             }
            },
            "type": "barpolar"
           }
          ],
          "carpet": [
           {
            "aaxis": {
             "endlinecolor": "#2a3f5f",
             "gridcolor": "white",
             "linecolor": "white",
             "minorgridcolor": "white",
             "startlinecolor": "#2a3f5f"
            },
            "baxis": {
             "endlinecolor": "#2a3f5f",
             "gridcolor": "white",
             "linecolor": "white",
             "minorgridcolor": "white",
             "startlinecolor": "#2a3f5f"
            },
            "type": "carpet"
           }
          ],
          "choropleth": [
           {
            "colorbar": {
             "outlinewidth": 0,
             "ticks": ""
            },
            "type": "choropleth"
           }
          ],
          "contour": [
           {
            "colorbar": {
             "outlinewidth": 0,
             "ticks": ""
            },
            "colorscale": [
             [
              0,
              "#0d0887"
             ],
             [
              0.1111111111111111,
              "#46039f"
             ],
             [
              0.2222222222222222,
              "#7201a8"
             ],
             [
              0.3333333333333333,
              "#9c179e"
             ],
             [
              0.4444444444444444,
              "#bd3786"
             ],
             [
              0.5555555555555556,
              "#d8576b"
             ],
             [
              0.6666666666666666,
              "#ed7953"
             ],
             [
              0.7777777777777778,
              "#fb9f3a"
             ],
             [
              0.8888888888888888,
              "#fdca26"
             ],
             [
              1,
              "#f0f921"
             ]
            ],
            "type": "contour"
           }
          ],
          "contourcarpet": [
           {
            "colorbar": {
             "outlinewidth": 0,
             "ticks": ""
            },
            "type": "contourcarpet"
           }
          ],
          "heatmap": [
           {
            "colorbar": {
             "outlinewidth": 0,
             "ticks": ""
            },
            "colorscale": [
             [
              0,
              "#0d0887"
             ],
             [
              0.1111111111111111,
              "#46039f"
             ],
             [
              0.2222222222222222,
              "#7201a8"
             ],
             [
              0.3333333333333333,
              "#9c179e"
             ],
             [
              0.4444444444444444,
              "#bd3786"
             ],
             [
              0.5555555555555556,
              "#d8576b"
             ],
             [
              0.6666666666666666,
              "#ed7953"
             ],
             [
              0.7777777777777778,
              "#fb9f3a"
             ],
             [
              0.8888888888888888,
              "#fdca26"
             ],
             [
              1,
              "#f0f921"
             ]
            ],
            "type": "heatmap"
           }
          ],
          "histogram": [
           {
            "marker": {
             "pattern": {
              "fillmode": "overlay",
              "size": 10,
              "solidity": 0.2
             }
            },
            "type": "histogram"
           }
          ],
          "histogram2d": [
           {
            "colorbar": {
             "outlinewidth": 0,
             "ticks": ""
            },
            "colorscale": [
             [
              0,
              "#0d0887"
             ],
             [
              0.1111111111111111,
              "#46039f"
             ],
             [
              0.2222222222222222,
              "#7201a8"
             ],
             [
              0.3333333333333333,
              "#9c179e"
             ],
             [
              0.4444444444444444,
              "#bd3786"
             ],
             [
              0.5555555555555556,
              "#d8576b"
             ],
             [
              0.6666666666666666,
              "#ed7953"
             ],
             [
              0.7777777777777778,
              "#fb9f3a"
             ],
             [
              0.8888888888888888,
              "#fdca26"
             ],
             [
              1,
              "#f0f921"
             ]
            ],
            "type": "histogram2d"
           }
          ],
          "histogram2dcontour": [
           {
            "colorbar": {
             "outlinewidth": 0,
             "ticks": ""
            },
            "colorscale": [
             [
              0,
              "#0d0887"
             ],
             [
              0.1111111111111111,
              "#46039f"
             ],
             [
              0.2222222222222222,
              "#7201a8"
             ],
             [
              0.3333333333333333,
              "#9c179e"
             ],
             [
              0.4444444444444444,
              "#bd3786"
             ],
             [
              0.5555555555555556,
              "#d8576b"
             ],
             [
              0.6666666666666666,
              "#ed7953"
             ],
             [
              0.7777777777777778,
              "#fb9f3a"
             ],
             [
              0.8888888888888888,
              "#fdca26"
             ],
             [
              1,
              "#f0f921"
             ]
            ],
            "type": "histogram2dcontour"
           }
          ],
          "mesh3d": [
           {
            "colorbar": {
             "outlinewidth": 0,
             "ticks": ""
            },
            "type": "mesh3d"
           }
          ],
          "parcoords": [
           {
            "line": {
             "colorbar": {
              "outlinewidth": 0,
              "ticks": ""
             }
            },
            "type": "parcoords"
           }
          ],
          "pie": [
           {
            "automargin": true,
            "type": "pie"
           }
          ],
          "scatter": [
           {
            "fillpattern": {
             "fillmode": "overlay",
             "size": 10,
             "solidity": 0.2
            },
            "type": "scatter"
           }
          ],
          "scatter3d": [
           {
            "line": {
             "colorbar": {
              "outlinewidth": 0,
              "ticks": ""
             }
            },
            "marker": {
             "colorbar": {
              "outlinewidth": 0,
              "ticks": ""
             }
            },
            "type": "scatter3d"
           }
          ],
          "scattercarpet": [
           {
            "marker": {
             "colorbar": {
              "outlinewidth": 0,
              "ticks": ""
             }
            },
            "type": "scattercarpet"
           }
          ],
          "scattergeo": [
           {
            "marker": {
             "colorbar": {
              "outlinewidth": 0,
              "ticks": ""
             }
            },
            "type": "scattergeo"
           }
          ],
          "scattergl": [
           {
            "marker": {
             "colorbar": {
              "outlinewidth": 0,
              "ticks": ""
             }
            },
            "type": "scattergl"
           }
          ],
          "scattermap": [
           {
            "marker": {
             "colorbar": {
              "outlinewidth": 0,
              "ticks": ""
             }
            },
            "type": "scattermap"
           }
          ],
          "scattermapbox": [
           {
            "marker": {
             "colorbar": {
              "outlinewidth": 0,
              "ticks": ""
             }
            },
            "type": "scattermapbox"
           }
          ],
          "scatterpolar": [
           {
            "marker": {
             "colorbar": {
              "outlinewidth": 0,
              "ticks": ""
             }
            },
            "type": "scatterpolar"
           }
          ],
          "scatterpolargl": [
           {
            "marker": {
             "colorbar": {
              "outlinewidth": 0,
              "ticks": ""
             }
            },
            "type": "scatterpolargl"
           }
          ],
          "scatterternary": [
           {
            "marker": {
             "colorbar": {
              "outlinewidth": 0,
              "ticks": ""
             }
            },
            "type": "scatterternary"
           }
          ],
          "surface": [
           {
            "colorbar": {
             "outlinewidth": 0,
             "ticks": ""
            },
            "colorscale": [
             [
              0,
              "#0d0887"
             ],
             [
              0.1111111111111111,
              "#46039f"
             ],
             [
              0.2222222222222222,
              "#7201a8"
             ],
             [
              0.3333333333333333,
              "#9c179e"
             ],
             [
              0.4444444444444444,
              "#bd3786"
             ],
             [
              0.5555555555555556,
              "#d8576b"
             ],
             [
              0.6666666666666666,
              "#ed7953"
             ],
             [
              0.7777777777777778,
              "#fb9f3a"
             ],
             [
              0.8888888888888888,
              "#fdca26"
             ],
             [
              1,
              "#f0f921"
             ]
            ],
            "type": "surface"
           }
          ],
          "table": [
           {
            "cells": {
             "fill": {
              "color": "#EBF0F8"
             },
             "line": {
              "color": "white"
             }
            },
            "header": {
             "fill": {
              "color": "#C8D4E3"
             },
             "line": {
              "color": "white"
             }
            },
            "type": "table"
           }
          ]
         },
         "layout": {
          "annotationdefaults": {
           "arrowcolor": "#2a3f5f",
           "arrowhead": 0,
           "arrowwidth": 1
          },
          "autotypenumbers": "strict",
          "coloraxis": {
           "colorbar": {
            "outlinewidth": 0,
            "ticks": ""
           }
          },
          "colorscale": {
           "diverging": [
            [
             0,
             "#8e0152"
            ],
            [
             0.1,
             "#c51b7d"
            ],
            [
             0.2,
             "#de77ae"
            ],
            [
             0.3,
             "#f1b6da"
            ],
            [
             0.4,
             "#fde0ef"
            ],
            [
             0.5,
             "#f7f7f7"
            ],
            [
             0.6,
             "#e6f5d0"
            ],
            [
             0.7,
             "#b8e186"
            ],
            [
             0.8,
             "#7fbc41"
            ],
            [
             0.9,
             "#4d9221"
            ],
            [
             1,
             "#276419"
            ]
           ],
           "sequential": [
            [
             0,
             "#0d0887"
            ],
            [
             0.1111111111111111,
             "#46039f"
            ],
            [
             0.2222222222222222,
             "#7201a8"
            ],
            [
             0.3333333333333333,
             "#9c179e"
            ],
            [
             0.4444444444444444,
             "#bd3786"
            ],
            [
             0.5555555555555556,
             "#d8576b"
            ],
            [
             0.6666666666666666,
             "#ed7953"
            ],
            [
             0.7777777777777778,
             "#fb9f3a"
            ],
            [
             0.8888888888888888,
             "#fdca26"
            ],
            [
             1,
             "#f0f921"
            ]
           ],
           "sequentialminus": [
            [
             0,
             "#0d0887"
            ],
            [
             0.1111111111111111,
             "#46039f"
            ],
            [
             0.2222222222222222,
             "#7201a8"
            ],
            [
             0.3333333333333333,
             "#9c179e"
            ],
            [
             0.4444444444444444,
             "#bd3786"
            ],
            [
             0.5555555555555556,
             "#d8576b"
            ],
            [
             0.6666666666666666,
             "#ed7953"
            ],
            [
             0.7777777777777778,
             "#fb9f3a"
            ],
            [
             0.8888888888888888,
             "#fdca26"
            ],
            [
             1,
             "#f0f921"
            ]
           ]
          },
          "colorway": [
           "#636efa",
           "#EF553B",
           "#00cc96",
           "#ab63fa",
           "#FFA15A",
           "#19d3f3",
           "#FF6692",
           "#B6E880",
           "#FF97FF",
           "#FECB52"
          ],
          "font": {
           "color": "#2a3f5f"
          },
          "geo": {
           "bgcolor": "white",
           "lakecolor": "white",
           "landcolor": "#E5ECF6",
           "showlakes": true,
           "showland": true,
           "subunitcolor": "white"
          },
          "hoverlabel": {
           "align": "left"
          },
          "hovermode": "closest",
          "mapbox": {
           "style": "light"
          },
          "paper_bgcolor": "white",
          "plot_bgcolor": "#E5ECF6",
          "polar": {
           "angularaxis": {
            "gridcolor": "white",
            "linecolor": "white",
            "ticks": ""
           },
           "bgcolor": "#E5ECF6",
           "radialaxis": {
            "gridcolor": "white",
            "linecolor": "white",
            "ticks": ""
           }
          },
          "scene": {
           "xaxis": {
            "backgroundcolor": "#E5ECF6",
            "gridcolor": "white",
            "gridwidth": 2,
            "linecolor": "white",
            "showbackground": true,
            "ticks": "",
            "zerolinecolor": "white"
           },
           "yaxis": {
            "backgroundcolor": "#E5ECF6",
            "gridcolor": "white",
            "gridwidth": 2,
            "linecolor": "white",
            "showbackground": true,
            "ticks": "",
            "zerolinecolor": "white"
           },
           "zaxis": {
            "backgroundcolor": "#E5ECF6",
            "gridcolor": "white",
            "gridwidth": 2,
            "linecolor": "white",
            "showbackground": true,
            "ticks": "",
            "zerolinecolor": "white"
           }
          },
          "shapedefaults": {
           "line": {
            "color": "#2a3f5f"
           }
          },
          "ternary": {
           "aaxis": {
            "gridcolor": "white",
            "linecolor": "white",
            "ticks": ""
           },
           "baxis": {
            "gridcolor": "white",
            "linecolor": "white",
            "ticks": ""
           },
           "bgcolor": "#E5ECF6",
           "caxis": {
            "gridcolor": "white",
            "linecolor": "white",
            "ticks": ""
           }
          },
          "title": {
           "x": 0.05
          },
          "xaxis": {
           "automargin": true,
           "gridcolor": "white",
           "linecolor": "white",
           "ticks": "",
           "title": {
            "standoff": 15
           },
           "zerolinecolor": "white",
           "zerolinewidth": 2
          },
          "yaxis": {
           "automargin": true,
           "gridcolor": "white",
           "linecolor": "white",
           "ticks": "",
           "title": {
            "standoff": 15
           },
           "zerolinecolor": "white",
           "zerolinewidth": 2
          }
         }
        },
        "title": {
         "text": "Выручка по типам продуктов (весь период)"
        },
        "xaxis": {
         "anchor": "y",
         "domain": [
          0,
          1
         ],
         "tickangle": -30,
         "title": {
          "text": "Тип продукта"
         }
        },
        "yaxis": {
         "anchor": "x",
         "domain": [
          0,
          1
         ],
         "tickformat": ",",
         "title": {
          "text": "Количество покупок"
         }
        }
       }
      }
     },
     "metadata": {},
     "output_type": "display_data"
    }
   ],
   "source": [
    "rev_by_product = (\n",
    "    df.groupby(\"Product Type\", as_index=False)[\"Quantity\"]\n",
    "          .sum()\n",
    "          .sort_values(\"Quantity\", ascending=False)\n",
    ")\n",
    "fig_prod = px.bar(\n",
    "    rev_by_product,\n",
    "    x=\"Product Type\", y=\"Quantity\", text=\"Quantity\",\n",
    "    title=\"Выручка по типам продуктов (весь период)\",\n",
    "    labels={\"Product Type\": \"Тип продукта\", \"Quantity\": \"Количество покупок\"}\n",
    ")\n",
    "fig_prod.update_traces(texttemplate=\"%{text:.2f}\", textposition=\"outside\")\n",
    "fig_prod.update_layout(yaxis_tickformat=\",\", xaxis_tickangle=-30, margin=dict(b=90))\n",
    "fig_prod.show()"
   ]
  },
  {
   "cell_type": "markdown",
   "id": "87bb0f2f",
   "metadata": {},
   "source": [
    "## Вывод\n",
    "Самым популярным продуктом по выручке являеются смартфоны, по количеству они тоже всех опережают. А вот, планшетов продаются больше, но по сумме их меньше чем часов и ноутбуков. Что довольно странно. "
   ]
  },
  {
   "cell_type": "markdown",
   "id": "2fc49020",
   "metadata": {},
   "source": [
    "## По дополнительным услугам помесячно для динамики по календарным месяцам и кварталам."
   ]
  },
  {
   "cell_type": "code",
   "execution_count": 58,
   "id": "8f58654a",
   "metadata": {},
   "outputs": [
    {
     "data": {
      "application/vnd.plotly.v1+json": {
       "config": {
        "plotlyServerURL": "https://plot.ly"
       },
       "data": [
        {
         "hovertemplate": "Месяц=%{x}<br>Сумма продаж=%{y}<extra></extra>",
         "legendgroup": "",
         "line": {
          "color": "#636efa",
          "dash": "solid"
         },
         "marker": {
          "symbol": "circle"
         },
         "mode": "lines",
         "name": "",
         "orientation": "v",
         "showlegend": false,
         "type": "scatter",
         "x": [
          "2024-09-01T00:00:00.000000000",
          "2024-08-01T00:00:00.000000000",
          "2024-07-01T00:00:00.000000000",
          "2024-06-01T00:00:00.000000000",
          "2024-05-01T00:00:00.000000000",
          "2024-04-01T00:00:00.000000000",
          "2024-03-01T00:00:00.000000000",
          "2024-02-01T00:00:00.000000000",
          "2024-01-01T00:00:00.000000000",
          "2023-12-01T00:00:00.000000000",
          "2023-11-01T00:00:00.000000000",
          "2023-10-01T00:00:00.000000000",
          "2023-09-01T00:00:00.000000000"
         ],
         "xaxis": "x",
         "y": {
          "bdata": "j8L1KIwJ8EApXI/CUXP1QM3MzMy4rvVAmpmZmYmq9EAUrkfh4tH1QFyPwvVgF/RAFK5H4Z6u9EBSuB6F25fzQDMzMzNvxPZAhetRuI431kDsUbgeVeHXQArXo3BNitlAj8L1KJzZtEA=",
          "dtype": "f8"
         },
         "yaxis": "y"
        }
       ],
       "layout": {
        "barmode": "stack",
        "legend": {
         "title": {
          "text": "Дополнительные услуги"
         },
         "tracegroupgap": 0
        },
        "template": {
         "data": {
          "bar": [
           {
            "error_x": {
             "color": "#2a3f5f"
            },
            "error_y": {
             "color": "#2a3f5f"
            },
            "marker": {
             "line": {
              "color": "#E5ECF6",
              "width": 0.5
             },
             "pattern": {
              "fillmode": "overlay",
              "size": 10,
              "solidity": 0.2
             }
            },
            "type": "bar"
           }
          ],
          "barpolar": [
           {
            "marker": {
             "line": {
              "color": "#E5ECF6",
              "width": 0.5
             },
             "pattern": {
              "fillmode": "overlay",
              "size": 10,
              "solidity": 0.2
             }
            },
            "type": "barpolar"
           }
          ],
          "carpet": [
           {
            "aaxis": {
             "endlinecolor": "#2a3f5f",
             "gridcolor": "white",
             "linecolor": "white",
             "minorgridcolor": "white",
             "startlinecolor": "#2a3f5f"
            },
            "baxis": {
             "endlinecolor": "#2a3f5f",
             "gridcolor": "white",
             "linecolor": "white",
             "minorgridcolor": "white",
             "startlinecolor": "#2a3f5f"
            },
            "type": "carpet"
           }
          ],
          "choropleth": [
           {
            "colorbar": {
             "outlinewidth": 0,
             "ticks": ""
            },
            "type": "choropleth"
           }
          ],
          "contour": [
           {
            "colorbar": {
             "outlinewidth": 0,
             "ticks": ""
            },
            "colorscale": [
             [
              0,
              "#0d0887"
             ],
             [
              0.1111111111111111,
              "#46039f"
             ],
             [
              0.2222222222222222,
              "#7201a8"
             ],
             [
              0.3333333333333333,
              "#9c179e"
             ],
             [
              0.4444444444444444,
              "#bd3786"
             ],
             [
              0.5555555555555556,
              "#d8576b"
             ],
             [
              0.6666666666666666,
              "#ed7953"
             ],
             [
              0.7777777777777778,
              "#fb9f3a"
             ],
             [
              0.8888888888888888,
              "#fdca26"
             ],
             [
              1,
              "#f0f921"
             ]
            ],
            "type": "contour"
           }
          ],
          "contourcarpet": [
           {
            "colorbar": {
             "outlinewidth": 0,
             "ticks": ""
            },
            "type": "contourcarpet"
           }
          ],
          "heatmap": [
           {
            "colorbar": {
             "outlinewidth": 0,
             "ticks": ""
            },
            "colorscale": [
             [
              0,
              "#0d0887"
             ],
             [
              0.1111111111111111,
              "#46039f"
             ],
             [
              0.2222222222222222,
              "#7201a8"
             ],
             [
              0.3333333333333333,
              "#9c179e"
             ],
             [
              0.4444444444444444,
              "#bd3786"
             ],
             [
              0.5555555555555556,
              "#d8576b"
             ],
             [
              0.6666666666666666,
              "#ed7953"
             ],
             [
              0.7777777777777778,
              "#fb9f3a"
             ],
             [
              0.8888888888888888,
              "#fdca26"
             ],
             [
              1,
              "#f0f921"
             ]
            ],
            "type": "heatmap"
           }
          ],
          "histogram": [
           {
            "marker": {
             "pattern": {
              "fillmode": "overlay",
              "size": 10,
              "solidity": 0.2
             }
            },
            "type": "histogram"
           }
          ],
          "histogram2d": [
           {
            "colorbar": {
             "outlinewidth": 0,
             "ticks": ""
            },
            "colorscale": [
             [
              0,
              "#0d0887"
             ],
             [
              0.1111111111111111,
              "#46039f"
             ],
             [
              0.2222222222222222,
              "#7201a8"
             ],
             [
              0.3333333333333333,
              "#9c179e"
             ],
             [
              0.4444444444444444,
              "#bd3786"
             ],
             [
              0.5555555555555556,
              "#d8576b"
             ],
             [
              0.6666666666666666,
              "#ed7953"
             ],
             [
              0.7777777777777778,
              "#fb9f3a"
             ],
             [
              0.8888888888888888,
              "#fdca26"
             ],
             [
              1,
              "#f0f921"
             ]
            ],
            "type": "histogram2d"
           }
          ],
          "histogram2dcontour": [
           {
            "colorbar": {
             "outlinewidth": 0,
             "ticks": ""
            },
            "colorscale": [
             [
              0,
              "#0d0887"
             ],
             [
              0.1111111111111111,
              "#46039f"
             ],
             [
              0.2222222222222222,
              "#7201a8"
             ],
             [
              0.3333333333333333,
              "#9c179e"
             ],
             [
              0.4444444444444444,
              "#bd3786"
             ],
             [
              0.5555555555555556,
              "#d8576b"
             ],
             [
              0.6666666666666666,
              "#ed7953"
             ],
             [
              0.7777777777777778,
              "#fb9f3a"
             ],
             [
              0.8888888888888888,
              "#fdca26"
             ],
             [
              1,
              "#f0f921"
             ]
            ],
            "type": "histogram2dcontour"
           }
          ],
          "mesh3d": [
           {
            "colorbar": {
             "outlinewidth": 0,
             "ticks": ""
            },
            "type": "mesh3d"
           }
          ],
          "parcoords": [
           {
            "line": {
             "colorbar": {
              "outlinewidth": 0,
              "ticks": ""
             }
            },
            "type": "parcoords"
           }
          ],
          "pie": [
           {
            "automargin": true,
            "type": "pie"
           }
          ],
          "scatter": [
           {
            "fillpattern": {
             "fillmode": "overlay",
             "size": 10,
             "solidity": 0.2
            },
            "type": "scatter"
           }
          ],
          "scatter3d": [
           {
            "line": {
             "colorbar": {
              "outlinewidth": 0,
              "ticks": ""
             }
            },
            "marker": {
             "colorbar": {
              "outlinewidth": 0,
              "ticks": ""
             }
            },
            "type": "scatter3d"
           }
          ],
          "scattercarpet": [
           {
            "marker": {
             "colorbar": {
              "outlinewidth": 0,
              "ticks": ""
             }
            },
            "type": "scattercarpet"
           }
          ],
          "scattergeo": [
           {
            "marker": {
             "colorbar": {
              "outlinewidth": 0,
              "ticks": ""
             }
            },
            "type": "scattergeo"
           }
          ],
          "scattergl": [
           {
            "marker": {
             "colorbar": {
              "outlinewidth": 0,
              "ticks": ""
             }
            },
            "type": "scattergl"
           }
          ],
          "scattermap": [
           {
            "marker": {
             "colorbar": {
              "outlinewidth": 0,
              "ticks": ""
             }
            },
            "type": "scattermap"
           }
          ],
          "scattermapbox": [
           {
            "marker": {
             "colorbar": {
              "outlinewidth": 0,
              "ticks": ""
             }
            },
            "type": "scattermapbox"
           }
          ],
          "scatterpolar": [
           {
            "marker": {
             "colorbar": {
              "outlinewidth": 0,
              "ticks": ""
             }
            },
            "type": "scatterpolar"
           }
          ],
          "scatterpolargl": [
           {
            "marker": {
             "colorbar": {
              "outlinewidth": 0,
              "ticks": ""
             }
            },
            "type": "scatterpolargl"
           }
          ],
          "scatterternary": [
           {
            "marker": {
             "colorbar": {
              "outlinewidth": 0,
              "ticks": ""
             }
            },
            "type": "scatterternary"
           }
          ],
          "surface": [
           {
            "colorbar": {
             "outlinewidth": 0,
             "ticks": ""
            },
            "colorscale": [
             [
              0,
              "#0d0887"
             ],
             [
              0.1111111111111111,
              "#46039f"
             ],
             [
              0.2222222222222222,
              "#7201a8"
             ],
             [
              0.3333333333333333,
              "#9c179e"
             ],
             [
              0.4444444444444444,
              "#bd3786"
             ],
             [
              0.5555555555555556,
              "#d8576b"
             ],
             [
              0.6666666666666666,
              "#ed7953"
             ],
             [
              0.7777777777777778,
              "#fb9f3a"
             ],
             [
              0.8888888888888888,
              "#fdca26"
             ],
             [
              1,
              "#f0f921"
             ]
            ],
            "type": "surface"
           }
          ],
          "table": [
           {
            "cells": {
             "fill": {
              "color": "#EBF0F8"
             },
             "line": {
              "color": "white"
             }
            },
            "header": {
             "fill": {
              "color": "#C8D4E3"
             },
             "line": {
              "color": "white"
             }
            },
            "type": "table"
           }
          ]
         },
         "layout": {
          "annotationdefaults": {
           "arrowcolor": "#2a3f5f",
           "arrowhead": 0,
           "arrowwidth": 1
          },
          "autotypenumbers": "strict",
          "coloraxis": {
           "colorbar": {
            "outlinewidth": 0,
            "ticks": ""
           }
          },
          "colorscale": {
           "diverging": [
            [
             0,
             "#8e0152"
            ],
            [
             0.1,
             "#c51b7d"
            ],
            [
             0.2,
             "#de77ae"
            ],
            [
             0.3,
             "#f1b6da"
            ],
            [
             0.4,
             "#fde0ef"
            ],
            [
             0.5,
             "#f7f7f7"
            ],
            [
             0.6,
             "#e6f5d0"
            ],
            [
             0.7,
             "#b8e186"
            ],
            [
             0.8,
             "#7fbc41"
            ],
            [
             0.9,
             "#4d9221"
            ],
            [
             1,
             "#276419"
            ]
           ],
           "sequential": [
            [
             0,
             "#0d0887"
            ],
            [
             0.1111111111111111,
             "#46039f"
            ],
            [
             0.2222222222222222,
             "#7201a8"
            ],
            [
             0.3333333333333333,
             "#9c179e"
            ],
            [
             0.4444444444444444,
             "#bd3786"
            ],
            [
             0.5555555555555556,
             "#d8576b"
            ],
            [
             0.6666666666666666,
             "#ed7953"
            ],
            [
             0.7777777777777778,
             "#fb9f3a"
            ],
            [
             0.8888888888888888,
             "#fdca26"
            ],
            [
             1,
             "#f0f921"
            ]
           ],
           "sequentialminus": [
            [
             0,
             "#0d0887"
            ],
            [
             0.1111111111111111,
             "#46039f"
            ],
            [
             0.2222222222222222,
             "#7201a8"
            ],
            [
             0.3333333333333333,
             "#9c179e"
            ],
            [
             0.4444444444444444,
             "#bd3786"
            ],
            [
             0.5555555555555556,
             "#d8576b"
            ],
            [
             0.6666666666666666,
             "#ed7953"
            ],
            [
             0.7777777777777778,
             "#fb9f3a"
            ],
            [
             0.8888888888888888,
             "#fdca26"
            ],
            [
             1,
             "#f0f921"
            ]
           ]
          },
          "colorway": [
           "#636efa",
           "#EF553B",
           "#00cc96",
           "#ab63fa",
           "#FFA15A",
           "#19d3f3",
           "#FF6692",
           "#B6E880",
           "#FF97FF",
           "#FECB52"
          ],
          "font": {
           "color": "#2a3f5f"
          },
          "geo": {
           "bgcolor": "white",
           "lakecolor": "white",
           "landcolor": "#E5ECF6",
           "showlakes": true,
           "showland": true,
           "subunitcolor": "white"
          },
          "hoverlabel": {
           "align": "left"
          },
          "hovermode": "closest",
          "mapbox": {
           "style": "light"
          },
          "paper_bgcolor": "white",
          "plot_bgcolor": "#E5ECF6",
          "polar": {
           "angularaxis": {
            "gridcolor": "white",
            "linecolor": "white",
            "ticks": ""
           },
           "bgcolor": "#E5ECF6",
           "radialaxis": {
            "gridcolor": "white",
            "linecolor": "white",
            "ticks": ""
           }
          },
          "scene": {
           "xaxis": {
            "backgroundcolor": "#E5ECF6",
            "gridcolor": "white",
            "gridwidth": 2,
            "linecolor": "white",
            "showbackground": true,
            "ticks": "",
            "zerolinecolor": "white"
           },
           "yaxis": {
            "backgroundcolor": "#E5ECF6",
            "gridcolor": "white",
            "gridwidth": 2,
            "linecolor": "white",
            "showbackground": true,
            "ticks": "",
            "zerolinecolor": "white"
           },
           "zaxis": {
            "backgroundcolor": "#E5ECF6",
            "gridcolor": "white",
            "gridwidth": 2,
            "linecolor": "white",
            "showbackground": true,
            "ticks": "",
            "zerolinecolor": "white"
           }
          },
          "shapedefaults": {
           "line": {
            "color": "#2a3f5f"
           }
          },
          "ternary": {
           "aaxis": {
            "gridcolor": "white",
            "linecolor": "white",
            "ticks": ""
           },
           "baxis": {
            "gridcolor": "white",
            "linecolor": "white",
            "ticks": ""
           },
           "bgcolor": "#E5ECF6",
           "caxis": {
            "gridcolor": "white",
            "linecolor": "white",
            "ticks": ""
           }
          },
          "title": {
           "x": 0.05
          },
          "xaxis": {
           "automargin": true,
           "gridcolor": "white",
           "linecolor": "white",
           "ticks": "",
           "title": {
            "standoff": 15
           },
           "zerolinecolor": "white",
           "zerolinewidth": 2
          },
          "yaxis": {
           "automargin": true,
           "gridcolor": "white",
           "linecolor": "white",
           "ticks": "",
           "title": {
            "standoff": 15
           },
           "zerolinecolor": "white",
           "zerolinewidth": 2
          }
         }
        },
        "title": {
         "text": "Сумма продаж по месяцам по дополнительным услугам"
        },
        "xaxis": {
         "anchor": "y",
         "domain": [
          0,
          1
         ],
         "tickformat": "%Y-%m",
         "title": {
          "text": "Месяц"
         }
        },
        "yaxis": {
         "anchor": "x",
         "domain": [
          0,
          1
         ],
         "title": {
          "text": "Сумма продаж"
         }
        }
       }
      }
     },
     "metadata": {},
     "output_type": "display_data"
    }
   ],
   "source": [
    "rev_by_addon = (\n",
    "    df.groupby([ \"month\"], as_index=False)[\"Add-on Total\"]\n",
    "          .sum()\n",
    "          .sort_values(\"month\", ascending=False)\n",
    ")\n",
    "fig = px.line(\n",
    "    rev_by_addon,\n",
    "    x='month',\n",
    "    y='Add-on Total',\n",
    "    #color='Add-ons Purchased',\n",
    "    title='Сумма продаж по месяцам по дополнительным услугам',\n",
    "    labels={'month': 'Месяц', 'Add-on Total': 'Сумма продаж'},\n",
    ")\n",
    "fig.update_layout(barmode='stack', legend_title_text='Дополнительные услуги', xaxis_tickformat='%Y-%m')\n",
    "fig.show()"
   ]
  },
  {
   "cell_type": "code",
   "execution_count": 64,
   "id": "e8bb849e",
   "metadata": {},
   "outputs": [],
   "source": [
    "# Разбить строку на список категорий\n",
    "def parse_addons(s):\n",
    "    if pd.isna(s):\n",
    "        return []\n",
    "    # Нормализуем: сплит по запятой, strip пробелов\n",
    "    items = [x.strip() for x in str(s).split(\",\") if x.strip()]\n",
    "    return items\n",
    "\n",
    "df[\"AddOn_List\"] = df[\"Add-ons Purchased\"].apply(parse_addons)"
   ]
  },
  {
   "cell_type": "code",
   "execution_count": 66,
   "id": "7d4eea4a",
   "metadata": {},
   "outputs": [],
   "source": [
    "\n",
    "# Explode: одна строка на каждую категорию допа\n",
    "df_exploded = df.explode(\"AddOn_List\").reset_index(drop=True)\n",
    "df_exploded = df_exploded[df_exploded[\"AddOn_List\"].notna() & df_exploded[\"AddOn_List\"].ne(\"\")]"
   ]
  },
  {
   "cell_type": "code",
   "execution_count": 67,
   "id": "772367a3",
   "metadata": {},
   "outputs": [],
   "source": [
    "addon_counts = df_exploded[\"AddOn_List\"].value_counts().reset_index()\n",
    "addon_counts.columns = [\"AddOn_Category\", \"Count\"]"
   ]
  },
  {
   "cell_type": "code",
   "execution_count": 69,
   "id": "2a8effc1",
   "metadata": {},
   "outputs": [
    {
     "data": {
      "application/vnd.plotly.v1+json": {
       "config": {
        "plotlyServerURL": "https://plot.ly"
       },
       "data": [
        {
         "hovertemplate": "Категория допа=%{x}<br>Число покупок=%{text}<extra></extra>",
         "legendgroup": "",
         "marker": {
          "color": "#636efa",
          "pattern": {
           "shape": ""
          }
         },
         "name": "",
         "orientation": "v",
         "showlegend": false,
         "text": {
          "bdata": "AAAAAADoukAAAAAAADm6QAAAAAAAObpA",
          "dtype": "f8"
         },
         "textposition": "outside",
         "texttemplate": "%{text}",
         "type": "bar",
         "x": [
          "Impulse Item",
          "Accessory",
          "Extended Warranty"
         ],
         "xaxis": "x",
         "y": {
          "bdata": "6Bo5Gjka",
          "dtype": "i2"
         },
         "yaxis": "y"
        }
       ],
       "layout": {
        "barmode": "relative",
        "legend": {
         "tracegroupgap": 0
        },
        "margin": {
         "b": 90
        },
        "template": {
         "data": {
          "bar": [
           {
            "error_x": {
             "color": "#2a3f5f"
            },
            "error_y": {
             "color": "#2a3f5f"
            },
            "marker": {
             "line": {
              "color": "#E5ECF6",
              "width": 0.5
             },
             "pattern": {
              "fillmode": "overlay",
              "size": 10,
              "solidity": 0.2
             }
            },
            "type": "bar"
           }
          ],
          "barpolar": [
           {
            "marker": {
             "line": {
              "color": "#E5ECF6",
              "width": 0.5
             },
             "pattern": {
              "fillmode": "overlay",
              "size": 10,
              "solidity": 0.2
             }
            },
            "type": "barpolar"
           }
          ],
          "carpet": [
           {
            "aaxis": {
             "endlinecolor": "#2a3f5f",
             "gridcolor": "white",
             "linecolor": "white",
             "minorgridcolor": "white",
             "startlinecolor": "#2a3f5f"
            },
            "baxis": {
             "endlinecolor": "#2a3f5f",
             "gridcolor": "white",
             "linecolor": "white",
             "minorgridcolor": "white",
             "startlinecolor": "#2a3f5f"
            },
            "type": "carpet"
           }
          ],
          "choropleth": [
           {
            "colorbar": {
             "outlinewidth": 0,
             "ticks": ""
            },
            "type": "choropleth"
           }
          ],
          "contour": [
           {
            "colorbar": {
             "outlinewidth": 0,
             "ticks": ""
            },
            "colorscale": [
             [
              0,
              "#0d0887"
             ],
             [
              0.1111111111111111,
              "#46039f"
             ],
             [
              0.2222222222222222,
              "#7201a8"
             ],
             [
              0.3333333333333333,
              "#9c179e"
             ],
             [
              0.4444444444444444,
              "#bd3786"
             ],
             [
              0.5555555555555556,
              "#d8576b"
             ],
             [
              0.6666666666666666,
              "#ed7953"
             ],
             [
              0.7777777777777778,
              "#fb9f3a"
             ],
             [
              0.8888888888888888,
              "#fdca26"
             ],
             [
              1,
              "#f0f921"
             ]
            ],
            "type": "contour"
           }
          ],
          "contourcarpet": [
           {
            "colorbar": {
             "outlinewidth": 0,
             "ticks": ""
            },
            "type": "contourcarpet"
           }
          ],
          "heatmap": [
           {
            "colorbar": {
             "outlinewidth": 0,
             "ticks": ""
            },
            "colorscale": [
             [
              0,
              "#0d0887"
             ],
             [
              0.1111111111111111,
              "#46039f"
             ],
             [
              0.2222222222222222,
              "#7201a8"
             ],
             [
              0.3333333333333333,
              "#9c179e"
             ],
             [
              0.4444444444444444,
              "#bd3786"
             ],
             [
              0.5555555555555556,
              "#d8576b"
             ],
             [
              0.6666666666666666,
              "#ed7953"
             ],
             [
              0.7777777777777778,
              "#fb9f3a"
             ],
             [
              0.8888888888888888,
              "#fdca26"
             ],
             [
              1,
              "#f0f921"
             ]
            ],
            "type": "heatmap"
           }
          ],
          "histogram": [
           {
            "marker": {
             "pattern": {
              "fillmode": "overlay",
              "size": 10,
              "solidity": 0.2
             }
            },
            "type": "histogram"
           }
          ],
          "histogram2d": [
           {
            "colorbar": {
             "outlinewidth": 0,
             "ticks": ""
            },
            "colorscale": [
             [
              0,
              "#0d0887"
             ],
             [
              0.1111111111111111,
              "#46039f"
             ],
             [
              0.2222222222222222,
              "#7201a8"
             ],
             [
              0.3333333333333333,
              "#9c179e"
             ],
             [
              0.4444444444444444,
              "#bd3786"
             ],
             [
              0.5555555555555556,
              "#d8576b"
             ],
             [
              0.6666666666666666,
              "#ed7953"
             ],
             [
              0.7777777777777778,
              "#fb9f3a"
             ],
             [
              0.8888888888888888,
              "#fdca26"
             ],
             [
              1,
              "#f0f921"
             ]
            ],
            "type": "histogram2d"
           }
          ],
          "histogram2dcontour": [
           {
            "colorbar": {
             "outlinewidth": 0,
             "ticks": ""
            },
            "colorscale": [
             [
              0,
              "#0d0887"
             ],
             [
              0.1111111111111111,
              "#46039f"
             ],
             [
              0.2222222222222222,
              "#7201a8"
             ],
             [
              0.3333333333333333,
              "#9c179e"
             ],
             [
              0.4444444444444444,
              "#bd3786"
             ],
             [
              0.5555555555555556,
              "#d8576b"
             ],
             [
              0.6666666666666666,
              "#ed7953"
             ],
             [
              0.7777777777777778,
              "#fb9f3a"
             ],
             [
              0.8888888888888888,
              "#fdca26"
             ],
             [
              1,
              "#f0f921"
             ]
            ],
            "type": "histogram2dcontour"
           }
          ],
          "mesh3d": [
           {
            "colorbar": {
             "outlinewidth": 0,
             "ticks": ""
            },
            "type": "mesh3d"
           }
          ],
          "parcoords": [
           {
            "line": {
             "colorbar": {
              "outlinewidth": 0,
              "ticks": ""
             }
            },
            "type": "parcoords"
           }
          ],
          "pie": [
           {
            "automargin": true,
            "type": "pie"
           }
          ],
          "scatter": [
           {
            "fillpattern": {
             "fillmode": "overlay",
             "size": 10,
             "solidity": 0.2
            },
            "type": "scatter"
           }
          ],
          "scatter3d": [
           {
            "line": {
             "colorbar": {
              "outlinewidth": 0,
              "ticks": ""
             }
            },
            "marker": {
             "colorbar": {
              "outlinewidth": 0,
              "ticks": ""
             }
            },
            "type": "scatter3d"
           }
          ],
          "scattercarpet": [
           {
            "marker": {
             "colorbar": {
              "outlinewidth": 0,
              "ticks": ""
             }
            },
            "type": "scattercarpet"
           }
          ],
          "scattergeo": [
           {
            "marker": {
             "colorbar": {
              "outlinewidth": 0,
              "ticks": ""
             }
            },
            "type": "scattergeo"
           }
          ],
          "scattergl": [
           {
            "marker": {
             "colorbar": {
              "outlinewidth": 0,
              "ticks": ""
             }
            },
            "type": "scattergl"
           }
          ],
          "scattermap": [
           {
            "marker": {
             "colorbar": {
              "outlinewidth": 0,
              "ticks": ""
             }
            },
            "type": "scattermap"
           }
          ],
          "scattermapbox": [
           {
            "marker": {
             "colorbar": {
              "outlinewidth": 0,
              "ticks": ""
             }
            },
            "type": "scattermapbox"
           }
          ],
          "scatterpolar": [
           {
            "marker": {
             "colorbar": {
              "outlinewidth": 0,
              "ticks": ""
             }
            },
            "type": "scatterpolar"
           }
          ],
          "scatterpolargl": [
           {
            "marker": {
             "colorbar": {
              "outlinewidth": 0,
              "ticks": ""
             }
            },
            "type": "scatterpolargl"
           }
          ],
          "scatterternary": [
           {
            "marker": {
             "colorbar": {
              "outlinewidth": 0,
              "ticks": ""
             }
            },
            "type": "scatterternary"
           }
          ],
          "surface": [
           {
            "colorbar": {
             "outlinewidth": 0,
             "ticks": ""
            },
            "colorscale": [
             [
              0,
              "#0d0887"
             ],
             [
              0.1111111111111111,
              "#46039f"
             ],
             [
              0.2222222222222222,
              "#7201a8"
             ],
             [
              0.3333333333333333,
              "#9c179e"
             ],
             [
              0.4444444444444444,
              "#bd3786"
             ],
             [
              0.5555555555555556,
              "#d8576b"
             ],
             [
              0.6666666666666666,
              "#ed7953"
             ],
             [
              0.7777777777777778,
              "#fb9f3a"
             ],
             [
              0.8888888888888888,
              "#fdca26"
             ],
             [
              1,
              "#f0f921"
             ]
            ],
            "type": "surface"
           }
          ],
          "table": [
           {
            "cells": {
             "fill": {
              "color": "#EBF0F8"
             },
             "line": {
              "color": "white"
             }
            },
            "header": {
             "fill": {
              "color": "#C8D4E3"
             },
             "line": {
              "color": "white"
             }
            },
            "type": "table"
           }
          ]
         },
         "layout": {
          "annotationdefaults": {
           "arrowcolor": "#2a3f5f",
           "arrowhead": 0,
           "arrowwidth": 1
          },
          "autotypenumbers": "strict",
          "coloraxis": {
           "colorbar": {
            "outlinewidth": 0,
            "ticks": ""
           }
          },
          "colorscale": {
           "diverging": [
            [
             0,
             "#8e0152"
            ],
            [
             0.1,
             "#c51b7d"
            ],
            [
             0.2,
             "#de77ae"
            ],
            [
             0.3,
             "#f1b6da"
            ],
            [
             0.4,
             "#fde0ef"
            ],
            [
             0.5,
             "#f7f7f7"
            ],
            [
             0.6,
             "#e6f5d0"
            ],
            [
             0.7,
             "#b8e186"
            ],
            [
             0.8,
             "#7fbc41"
            ],
            [
             0.9,
             "#4d9221"
            ],
            [
             1,
             "#276419"
            ]
           ],
           "sequential": [
            [
             0,
             "#0d0887"
            ],
            [
             0.1111111111111111,
             "#46039f"
            ],
            [
             0.2222222222222222,
             "#7201a8"
            ],
            [
             0.3333333333333333,
             "#9c179e"
            ],
            [
             0.4444444444444444,
             "#bd3786"
            ],
            [
             0.5555555555555556,
             "#d8576b"
            ],
            [
             0.6666666666666666,
             "#ed7953"
            ],
            [
             0.7777777777777778,
             "#fb9f3a"
            ],
            [
             0.8888888888888888,
             "#fdca26"
            ],
            [
             1,
             "#f0f921"
            ]
           ],
           "sequentialminus": [
            [
             0,
             "#0d0887"
            ],
            [
             0.1111111111111111,
             "#46039f"
            ],
            [
             0.2222222222222222,
             "#7201a8"
            ],
            [
             0.3333333333333333,
             "#9c179e"
            ],
            [
             0.4444444444444444,
             "#bd3786"
            ],
            [
             0.5555555555555556,
             "#d8576b"
            ],
            [
             0.6666666666666666,
             "#ed7953"
            ],
            [
             0.7777777777777778,
             "#fb9f3a"
            ],
            [
             0.8888888888888888,
             "#fdca26"
            ],
            [
             1,
             "#f0f921"
            ]
           ]
          },
          "colorway": [
           "#636efa",
           "#EF553B",
           "#00cc96",
           "#ab63fa",
           "#FFA15A",
           "#19d3f3",
           "#FF6692",
           "#B6E880",
           "#FF97FF",
           "#FECB52"
          ],
          "font": {
           "color": "#2a3f5f"
          },
          "geo": {
           "bgcolor": "white",
           "lakecolor": "white",
           "landcolor": "#E5ECF6",
           "showlakes": true,
           "showland": true,
           "subunitcolor": "white"
          },
          "hoverlabel": {
           "align": "left"
          },
          "hovermode": "closest",
          "mapbox": {
           "style": "light"
          },
          "paper_bgcolor": "white",
          "plot_bgcolor": "#E5ECF6",
          "polar": {
           "angularaxis": {
            "gridcolor": "white",
            "linecolor": "white",
            "ticks": ""
           },
           "bgcolor": "#E5ECF6",
           "radialaxis": {
            "gridcolor": "white",
            "linecolor": "white",
            "ticks": ""
           }
          },
          "scene": {
           "xaxis": {
            "backgroundcolor": "#E5ECF6",
            "gridcolor": "white",
            "gridwidth": 2,
            "linecolor": "white",
            "showbackground": true,
            "ticks": "",
            "zerolinecolor": "white"
           },
           "yaxis": {
            "backgroundcolor": "#E5ECF6",
            "gridcolor": "white",
            "gridwidth": 2,
            "linecolor": "white",
            "showbackground": true,
            "ticks": "",
            "zerolinecolor": "white"
           },
           "zaxis": {
            "backgroundcolor": "#E5ECF6",
            "gridcolor": "white",
            "gridwidth": 2,
            "linecolor": "white",
            "showbackground": true,
            "ticks": "",
            "zerolinecolor": "white"
           }
          },
          "shapedefaults": {
           "line": {
            "color": "#2a3f5f"
           }
          },
          "ternary": {
           "aaxis": {
            "gridcolor": "white",
            "linecolor": "white",
            "ticks": ""
           },
           "baxis": {
            "gridcolor": "white",
            "linecolor": "white",
            "ticks": ""
           },
           "bgcolor": "#E5ECF6",
           "caxis": {
            "gridcolor": "white",
            "linecolor": "white",
            "ticks": ""
           }
          },
          "title": {
           "x": 0.05
          },
          "xaxis": {
           "automargin": true,
           "gridcolor": "white",
           "linecolor": "white",
           "ticks": "",
           "title": {
            "standoff": 15
           },
           "zerolinecolor": "white",
           "zerolinewidth": 2
          },
          "yaxis": {
           "automargin": true,
           "gridcolor": "white",
           "linecolor": "white",
           "ticks": "",
           "title": {
            "standoff": 15
           },
           "zerolinecolor": "white",
           "zerolinewidth": 2
          }
         }
        },
        "title": {
         "text": "Частота категорий допов за весь период"
        },
        "xaxis": {
         "anchor": "y",
         "domain": [
          0,
          1
         ],
         "tickangle": -30,
         "title": {
          "text": "Категория допа"
         }
        },
        "yaxis": {
         "anchor": "x",
         "domain": [
          0,
          1
         ],
         "title": {
          "text": "Число покупок"
         }
        }
       }
      }
     },
     "metadata": {},
     "output_type": "display_data"
    }
   ],
   "source": [
    "\n",
    "fig_freq = px.bar(\n",
    "    addon_counts,\n",
    "    x=\"AddOn_Category\", y=\"Count\", text=\"Count\",\n",
    "    title=\"Частота категорий допов за весь период\",\n",
    "    labels={\"AddOn_Category\": \"Категория допа\", \"Count\": \"Число покупок\"}\n",
    ")\n",
    "fig_freq.update_traces(texttemplate=\"%{text}\", textposition=\"outside\")\n",
    "fig_freq.update_layout(xaxis_tickangle=-30, margin=dict(b=90))\n",
    "fig_freq.show()"
   ]
  },
  {
   "cell_type": "code",
   "execution_count": 72,
   "id": "a74e80f2",
   "metadata": {},
   "outputs": [
    {
     "data": {
      "application/vnd.plotly.v1+json": {
       "config": {
        "plotlyServerURL": "https://plot.ly"
       },
       "data": [
        {
         "hovertemplate": "Квартал=%{x}<br>Сумма продаж=%{y}<extra></extra>",
         "legendgroup": "",
         "line": {
          "color": "#636efa",
          "dash": "solid"
         },
         "marker": {
          "symbol": "circle"
         },
         "mode": "lines",
         "name": "",
         "orientation": "v",
         "showlegend": false,
         "type": "scatter",
         "x": [
          "2024-07-01T00:00:00.000000000",
          "2024-04-01T00:00:00.000000000",
          "2024-01-01T00:00:00.000000000",
          "2023-10-01T00:00:00.000000000",
          "2023-07-01T00:00:00.000000000"
         ],
         "xaxis": "x",
         "y": {
          "bdata": "w/UoXMuVDUGF61G45kkPQc3MzMx0hQ9BH4XrUczo8UCPwvUonNm0QA==",
          "dtype": "f8"
         },
         "yaxis": "y"
        }
       ],
       "layout": {
        "barmode": "stack",
        "legend": {
         "title": {
          "text": "Дополнительные услуги"
         },
         "tracegroupgap": 0
        },
        "template": {
         "data": {
          "bar": [
           {
            "error_x": {
             "color": "#2a3f5f"
            },
            "error_y": {
             "color": "#2a3f5f"
            },
            "marker": {
             "line": {
              "color": "#E5ECF6",
              "width": 0.5
             },
             "pattern": {
              "fillmode": "overlay",
              "size": 10,
              "solidity": 0.2
             }
            },
            "type": "bar"
           }
          ],
          "barpolar": [
           {
            "marker": {
             "line": {
              "color": "#E5ECF6",
              "width": 0.5
             },
             "pattern": {
              "fillmode": "overlay",
              "size": 10,
              "solidity": 0.2
             }
            },
            "type": "barpolar"
           }
          ],
          "carpet": [
           {
            "aaxis": {
             "endlinecolor": "#2a3f5f",
             "gridcolor": "white",
             "linecolor": "white",
             "minorgridcolor": "white",
             "startlinecolor": "#2a3f5f"
            },
            "baxis": {
             "endlinecolor": "#2a3f5f",
             "gridcolor": "white",
             "linecolor": "white",
             "minorgridcolor": "white",
             "startlinecolor": "#2a3f5f"
            },
            "type": "carpet"
           }
          ],
          "choropleth": [
           {
            "colorbar": {
             "outlinewidth": 0,
             "ticks": ""
            },
            "type": "choropleth"
           }
          ],
          "contour": [
           {
            "colorbar": {
             "outlinewidth": 0,
             "ticks": ""
            },
            "colorscale": [
             [
              0,
              "#0d0887"
             ],
             [
              0.1111111111111111,
              "#46039f"
             ],
             [
              0.2222222222222222,
              "#7201a8"
             ],
             [
              0.3333333333333333,
              "#9c179e"
             ],
             [
              0.4444444444444444,
              "#bd3786"
             ],
             [
              0.5555555555555556,
              "#d8576b"
             ],
             [
              0.6666666666666666,
              "#ed7953"
             ],
             [
              0.7777777777777778,
              "#fb9f3a"
             ],
             [
              0.8888888888888888,
              "#fdca26"
             ],
             [
              1,
              "#f0f921"
             ]
            ],
            "type": "contour"
           }
          ],
          "contourcarpet": [
           {
            "colorbar": {
             "outlinewidth": 0,
             "ticks": ""
            },
            "type": "contourcarpet"
           }
          ],
          "heatmap": [
           {
            "colorbar": {
             "outlinewidth": 0,
             "ticks": ""
            },
            "colorscale": [
             [
              0,
              "#0d0887"
             ],
             [
              0.1111111111111111,
              "#46039f"
             ],
             [
              0.2222222222222222,
              "#7201a8"
             ],
             [
              0.3333333333333333,
              "#9c179e"
             ],
             [
              0.4444444444444444,
              "#bd3786"
             ],
             [
              0.5555555555555556,
              "#d8576b"
             ],
             [
              0.6666666666666666,
              "#ed7953"
             ],
             [
              0.7777777777777778,
              "#fb9f3a"
             ],
             [
              0.8888888888888888,
              "#fdca26"
             ],
             [
              1,
              "#f0f921"
             ]
            ],
            "type": "heatmap"
           }
          ],
          "histogram": [
           {
            "marker": {
             "pattern": {
              "fillmode": "overlay",
              "size": 10,
              "solidity": 0.2
             }
            },
            "type": "histogram"
           }
          ],
          "histogram2d": [
           {
            "colorbar": {
             "outlinewidth": 0,
             "ticks": ""
            },
            "colorscale": [
             [
              0,
              "#0d0887"
             ],
             [
              0.1111111111111111,
              "#46039f"
             ],
             [
              0.2222222222222222,
              "#7201a8"
             ],
             [
              0.3333333333333333,
              "#9c179e"
             ],
             [
              0.4444444444444444,
              "#bd3786"
             ],
             [
              0.5555555555555556,
              "#d8576b"
             ],
             [
              0.6666666666666666,
              "#ed7953"
             ],
             [
              0.7777777777777778,
              "#fb9f3a"
             ],
             [
              0.8888888888888888,
              "#fdca26"
             ],
             [
              1,
              "#f0f921"
             ]
            ],
            "type": "histogram2d"
           }
          ],
          "histogram2dcontour": [
           {
            "colorbar": {
             "outlinewidth": 0,
             "ticks": ""
            },
            "colorscale": [
             [
              0,
              "#0d0887"
             ],
             [
              0.1111111111111111,
              "#46039f"
             ],
             [
              0.2222222222222222,
              "#7201a8"
             ],
             [
              0.3333333333333333,
              "#9c179e"
             ],
             [
              0.4444444444444444,
              "#bd3786"
             ],
             [
              0.5555555555555556,
              "#d8576b"
             ],
             [
              0.6666666666666666,
              "#ed7953"
             ],
             [
              0.7777777777777778,
              "#fb9f3a"
             ],
             [
              0.8888888888888888,
              "#fdca26"
             ],
             [
              1,
              "#f0f921"
             ]
            ],
            "type": "histogram2dcontour"
           }
          ],
          "mesh3d": [
           {
            "colorbar": {
             "outlinewidth": 0,
             "ticks": ""
            },
            "type": "mesh3d"
           }
          ],
          "parcoords": [
           {
            "line": {
             "colorbar": {
              "outlinewidth": 0,
              "ticks": ""
             }
            },
            "type": "parcoords"
           }
          ],
          "pie": [
           {
            "automargin": true,
            "type": "pie"
           }
          ],
          "scatter": [
           {
            "fillpattern": {
             "fillmode": "overlay",
             "size": 10,
             "solidity": 0.2
            },
            "type": "scatter"
           }
          ],
          "scatter3d": [
           {
            "line": {
             "colorbar": {
              "outlinewidth": 0,
              "ticks": ""
             }
            },
            "marker": {
             "colorbar": {
              "outlinewidth": 0,
              "ticks": ""
             }
            },
            "type": "scatter3d"
           }
          ],
          "scattercarpet": [
           {
            "marker": {
             "colorbar": {
              "outlinewidth": 0,
              "ticks": ""
             }
            },
            "type": "scattercarpet"
           }
          ],
          "scattergeo": [
           {
            "marker": {
             "colorbar": {
              "outlinewidth": 0,
              "ticks": ""
             }
            },
            "type": "scattergeo"
           }
          ],
          "scattergl": [
           {
            "marker": {
             "colorbar": {
              "outlinewidth": 0,
              "ticks": ""
             }
            },
            "type": "scattergl"
           }
          ],
          "scattermap": [
           {
            "marker": {
             "colorbar": {
              "outlinewidth": 0,
              "ticks": ""
             }
            },
            "type": "scattermap"
           }
          ],
          "scattermapbox": [
           {
            "marker": {
             "colorbar": {
              "outlinewidth": 0,
              "ticks": ""
             }
            },
            "type": "scattermapbox"
           }
          ],
          "scatterpolar": [
           {
            "marker": {
             "colorbar": {
              "outlinewidth": 0,
              "ticks": ""
             }
            },
            "type": "scatterpolar"
           }
          ],
          "scatterpolargl": [
           {
            "marker": {
             "colorbar": {
              "outlinewidth": 0,
              "ticks": ""
             }
            },
            "type": "scatterpolargl"
           }
          ],
          "scatterternary": [
           {
            "marker": {
             "colorbar": {
              "outlinewidth": 0,
              "ticks": ""
             }
            },
            "type": "scatterternary"
           }
          ],
          "surface": [
           {
            "colorbar": {
             "outlinewidth": 0,
             "ticks": ""
            },
            "colorscale": [
             [
              0,
              "#0d0887"
             ],
             [
              0.1111111111111111,
              "#46039f"
             ],
             [
              0.2222222222222222,
              "#7201a8"
             ],
             [
              0.3333333333333333,
              "#9c179e"
             ],
             [
              0.4444444444444444,
              "#bd3786"
             ],
             [
              0.5555555555555556,
              "#d8576b"
             ],
             [
              0.6666666666666666,
              "#ed7953"
             ],
             [
              0.7777777777777778,
              "#fb9f3a"
             ],
             [
              0.8888888888888888,
              "#fdca26"
             ],
             [
              1,
              "#f0f921"
             ]
            ],
            "type": "surface"
           }
          ],
          "table": [
           {
            "cells": {
             "fill": {
              "color": "#EBF0F8"
             },
             "line": {
              "color": "white"
             }
            },
            "header": {
             "fill": {
              "color": "#C8D4E3"
             },
             "line": {
              "color": "white"
             }
            },
            "type": "table"
           }
          ]
         },
         "layout": {
          "annotationdefaults": {
           "arrowcolor": "#2a3f5f",
           "arrowhead": 0,
           "arrowwidth": 1
          },
          "autotypenumbers": "strict",
          "coloraxis": {
           "colorbar": {
            "outlinewidth": 0,
            "ticks": ""
           }
          },
          "colorscale": {
           "diverging": [
            [
             0,
             "#8e0152"
            ],
            [
             0.1,
             "#c51b7d"
            ],
            [
             0.2,
             "#de77ae"
            ],
            [
             0.3,
             "#f1b6da"
            ],
            [
             0.4,
             "#fde0ef"
            ],
            [
             0.5,
             "#f7f7f7"
            ],
            [
             0.6,
             "#e6f5d0"
            ],
            [
             0.7,
             "#b8e186"
            ],
            [
             0.8,
             "#7fbc41"
            ],
            [
             0.9,
             "#4d9221"
            ],
            [
             1,
             "#276419"
            ]
           ],
           "sequential": [
            [
             0,
             "#0d0887"
            ],
            [
             0.1111111111111111,
             "#46039f"
            ],
            [
             0.2222222222222222,
             "#7201a8"
            ],
            [
             0.3333333333333333,
             "#9c179e"
            ],
            [
             0.4444444444444444,
             "#bd3786"
            ],
            [
             0.5555555555555556,
             "#d8576b"
            ],
            [
             0.6666666666666666,
             "#ed7953"
            ],
            [
             0.7777777777777778,
             "#fb9f3a"
            ],
            [
             0.8888888888888888,
             "#fdca26"
            ],
            [
             1,
             "#f0f921"
            ]
           ],
           "sequentialminus": [
            [
             0,
             "#0d0887"
            ],
            [
             0.1111111111111111,
             "#46039f"
            ],
            [
             0.2222222222222222,
             "#7201a8"
            ],
            [
             0.3333333333333333,
             "#9c179e"
            ],
            [
             0.4444444444444444,
             "#bd3786"
            ],
            [
             0.5555555555555556,
             "#d8576b"
            ],
            [
             0.6666666666666666,
             "#ed7953"
            ],
            [
             0.7777777777777778,
             "#fb9f3a"
            ],
            [
             0.8888888888888888,
             "#fdca26"
            ],
            [
             1,
             "#f0f921"
            ]
           ]
          },
          "colorway": [
           "#636efa",
           "#EF553B",
           "#00cc96",
           "#ab63fa",
           "#FFA15A",
           "#19d3f3",
           "#FF6692",
           "#B6E880",
           "#FF97FF",
           "#FECB52"
          ],
          "font": {
           "color": "#2a3f5f"
          },
          "geo": {
           "bgcolor": "white",
           "lakecolor": "white",
           "landcolor": "#E5ECF6",
           "showlakes": true,
           "showland": true,
           "subunitcolor": "white"
          },
          "hoverlabel": {
           "align": "left"
          },
          "hovermode": "closest",
          "mapbox": {
           "style": "light"
          },
          "paper_bgcolor": "white",
          "plot_bgcolor": "#E5ECF6",
          "polar": {
           "angularaxis": {
            "gridcolor": "white",
            "linecolor": "white",
            "ticks": ""
           },
           "bgcolor": "#E5ECF6",
           "radialaxis": {
            "gridcolor": "white",
            "linecolor": "white",
            "ticks": ""
           }
          },
          "scene": {
           "xaxis": {
            "backgroundcolor": "#E5ECF6",
            "gridcolor": "white",
            "gridwidth": 2,
            "linecolor": "white",
            "showbackground": true,
            "ticks": "",
            "zerolinecolor": "white"
           },
           "yaxis": {
            "backgroundcolor": "#E5ECF6",
            "gridcolor": "white",
            "gridwidth": 2,
            "linecolor": "white",
            "showbackground": true,
            "ticks": "",
            "zerolinecolor": "white"
           },
           "zaxis": {
            "backgroundcolor": "#E5ECF6",
            "gridcolor": "white",
            "gridwidth": 2,
            "linecolor": "white",
            "showbackground": true,
            "ticks": "",
            "zerolinecolor": "white"
           }
          },
          "shapedefaults": {
           "line": {
            "color": "#2a3f5f"
           }
          },
          "ternary": {
           "aaxis": {
            "gridcolor": "white",
            "linecolor": "white",
            "ticks": ""
           },
           "baxis": {
            "gridcolor": "white",
            "linecolor": "white",
            "ticks": ""
           },
           "bgcolor": "#E5ECF6",
           "caxis": {
            "gridcolor": "white",
            "linecolor": "white",
            "ticks": ""
           }
          },
          "title": {
           "x": 0.05
          },
          "xaxis": {
           "automargin": true,
           "gridcolor": "white",
           "linecolor": "white",
           "ticks": "",
           "title": {
            "standoff": 15
           },
           "zerolinecolor": "white",
           "zerolinewidth": 2
          },
          "yaxis": {
           "automargin": true,
           "gridcolor": "white",
           "linecolor": "white",
           "ticks": "",
           "title": {
            "standoff": 15
           },
           "zerolinecolor": "white",
           "zerolinewidth": 2
          }
         }
        },
        "title": {
         "text": "Сумма продаж по кварталам по дополнительным услугам"
        },
        "xaxis": {
         "anchor": "y",
         "domain": [
          0,
          1
         ],
         "tickformat": "%Y-%m",
         "title": {
          "text": "Квартал"
         }
        },
        "yaxis": {
         "anchor": "x",
         "domain": [
          0,
          1
         ],
         "title": {
          "text": "Сумма продаж"
         }
        }
       }
      }
     },
     "metadata": {},
     "output_type": "display_data"
    }
   ],
   "source": [
    "rev_by_addon_q = (\n",
    "    df.groupby([ \"quartal\"], as_index=False)[\"Add-on Total\"]\n",
    "          .sum()\n",
    "          .sort_values(\"quartal\", ascending=False)\n",
    ")\n",
    "fig = px.line(\n",
    "    rev_by_addon_q,\n",
    "    x='quartal',\n",
    "    y='Add-on Total',\n",
    "    #color='Add-ons Purchased',\n",
    "    title='Сумма продаж по кварталам по дополнительным услугам',\n",
    "    labels={'quartal': 'Квартал', 'Add-on Total': 'Сумма продаж'},\n",
    ")\n",
    "fig.update_layout(barmode='stack', legend_title_text='Дополнительные услуги', xaxis_tickformat='%Y-%m')\n",
    "fig.show()"
   ]
  },
  {
   "cell_type": "code",
   "execution_count": 73,
   "id": "bb52e624",
   "metadata": {},
   "outputs": [
    {
     "data": {
      "text/html": [
       "<div>\n",
       "<style scoped>\n",
       "    .dataframe tbody tr th:only-of-type {\n",
       "        vertical-align: middle;\n",
       "    }\n",
       "\n",
       "    .dataframe tbody tr th {\n",
       "        vertical-align: top;\n",
       "    }\n",
       "\n",
       "    .dataframe thead th {\n",
       "        text-align: right;\n",
       "    }\n",
       "</style>\n",
       "<table border=\"1\" class=\"dataframe\">\n",
       "  <thead>\n",
       "    <tr style=\"text-align: right;\">\n",
       "      <th></th>\n",
       "      <th>quartal</th>\n",
       "      <th>Add-on Total</th>\n",
       "    </tr>\n",
       "  </thead>\n",
       "  <tbody>\n",
       "    <tr>\n",
       "      <th>4</th>\n",
       "      <td>2024-07-01</td>\n",
       "      <td>242361.42</td>\n",
       "    </tr>\n",
       "    <tr>\n",
       "      <th>3</th>\n",
       "      <td>2024-04-01</td>\n",
       "      <td>256316.84</td>\n",
       "    </tr>\n",
       "    <tr>\n",
       "      <th>2</th>\n",
       "      <td>2024-01-01</td>\n",
       "      <td>258222.60</td>\n",
       "    </tr>\n",
       "    <tr>\n",
       "      <th>1</th>\n",
       "      <td>2023-10-01</td>\n",
       "      <td>73356.77</td>\n",
       "    </tr>\n",
       "    <tr>\n",
       "      <th>0</th>\n",
       "      <td>2023-07-01</td>\n",
       "      <td>5337.61</td>\n",
       "    </tr>\n",
       "  </tbody>\n",
       "</table>\n",
       "</div>"
      ],
      "text/plain": [
       "     quartal  Add-on Total\n",
       "4 2024-07-01     242361.42\n",
       "3 2024-04-01     256316.84\n",
       "2 2024-01-01     258222.60\n",
       "1 2023-10-01      73356.77\n",
       "0 2023-07-01       5337.61"
      ]
     },
     "execution_count": 73,
     "metadata": {},
     "output_type": "execute_result"
    }
   ],
   "source": [
    "rev_by_addon_q"
   ]
  },
  {
   "cell_type": "markdown",
   "id": "2bbd574e",
   "metadata": {},
   "source": [
    "## Вывод\n",
    "Резкий взлет продаж с начала 24 года, а дальше стаблильное небольшое падение. Так же равномерно распределены категории доп заказов, нет возможности посчитать точные суммы по ним, но скорее всего они тоже равномерны. "
   ]
  }
 ],
 "metadata": {
  "kernelspec": {
   "display_name": "home-work-2",
   "language": "python",
   "name": "python3"
  },
  "language_info": {
   "codemirror_mode": {
    "name": "ipython",
    "version": 3
   },
   "file_extension": ".py",
   "mimetype": "text/x-python",
   "name": "python",
   "nbconvert_exporter": "python",
   "pygments_lexer": "ipython3",
   "version": "3.13.3"
  }
 },
 "nbformat": 4,
 "nbformat_minor": 5
}
