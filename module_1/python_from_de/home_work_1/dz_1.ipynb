{
 "cells": [
  {
   "cell_type": "code",
   "execution_count": 1,
   "id": "2277a607",
   "metadata": {},
   "outputs": [],
   "source": [
    "import json"
   ]
  },
  {
   "cell_type": "markdown",
   "id": "6385f844",
   "metadata": {},
   "source": [
    "### Задание 1\n",
    "\n",
    "Переведите содержимое файла `purchase_log.txt` в словарь purchases вида:  \n",
    "`{'1840e0b9d4': 'Продукты', ...}`\n",
    "\n",
    "Пример работы программы при выводе первых двух элементов словаря purchases:\n",
    "\n",
    "1840e0b9d4 'Продукты'\n",
    "4e4f90fcfb 'Электроника'\n"
   ]
  },
  {
   "cell_type": "code",
   "execution_count": 2,
   "id": "816397ff",
   "metadata": {},
   "outputs": [],
   "source": [
    "purchases = dict()\n",
    "\n",
    "with open('file/purchase_log.txt', newline='\\n') as purchase_log:\n",
    "    next(purchase_log)  # Пропускаем заголовок\n",
    "    for line in purchase_log:\n",
    "        tmp_dict = json.loads(line)\n",
    "        purchases[tmp_dict['user_id']] = tmp_dict['category']\n"
   ]
  },
  {
   "cell_type": "code",
   "execution_count": 6,
   "id": "a27bb3c3",
   "metadata": {},
   "outputs": [
    {
     "data": {
      "text/plain": [
       "[('1840e0b9d4', 'Продукты'), ('4e4f90fcfb', 'Электроника')]"
      ]
     },
     "execution_count": 6,
     "metadata": {},
     "output_type": "execute_result"
    }
   ],
   "source": [
    "list(purchases.items())[:2]"
   ]
  },
  {
   "cell_type": "markdown",
   "id": "da571bb6",
   "metadata": {},
   "source": [
    "### Задание 2 (необязательное)\n",
    "\n",
    "Для каждого `user_id` в файле `visit_log.csv` определите третий столбец с категорией покупки. Если покупка была, сам файл `visit_log.csv` изменять не надо.\n",
    "\n",
    "Запишите в файл `funnel.csv` визиты из файла `visit_log.csv`, в которых были покупки с указанием категории."
   ]
  },
  {
   "cell_type": "code",
   "execution_count": null,
   "id": "89a174de",
   "metadata": {},
   "outputs": [],
   "source": [
    "with open('file/visit_log.csv', newline='\\n') as visit_log:\n",
    "    with open('file/funnel.csv', 'w', newline='\\n') as funnel:\n",
    "        funnel.write('user_id,source,category\\n')\n",
    "        for line in visit_log:\n",
    "            user_id, source = line.strip().split(',')\n",
    "            if user_id in purchases:\n",
    "                funnel.write(f\"{user_id},{source},{purchases[user_id]}\\n\")"
   ]
  }
 ],
 "metadata": {
  "kernelspec": {
   "display_name": "home-work-1",
   "language": "python",
   "name": "python3"
  },
  "language_info": {
   "codemirror_mode": {
    "name": "ipython",
    "version": 3
   },
   "file_extension": ".py",
   "mimetype": "text/x-python",
   "name": "python",
   "nbconvert_exporter": "python",
   "pygments_lexer": "ipython3",
   "version": "3.13.3"
  }
 },
 "nbformat": 4,
 "nbformat_minor": 5
}
