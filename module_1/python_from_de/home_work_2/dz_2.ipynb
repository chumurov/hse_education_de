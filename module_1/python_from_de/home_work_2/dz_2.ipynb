{
 "cells": [
  {
   "cell_type": "code",
   "execution_count": 7,
   "id": "a7ff2de8",
   "metadata": {},
   "outputs": [],
   "source": [
    "from typing import Iterable, List\n",
    "import datetime"
   ]
  },
  {
   "cell_type": "markdown",
   "id": "f7291948",
   "metadata": {},
   "source": [
    "### Задание 1\n",
    "\n",
    "Печатные газеты использовали свой формат дат для каждого выпуска. Для каждой газеты из списка необходимо написать формат указанной даты для перевода в объект `datetime`:\n",
    "\n",
    "- The Moscow Times — Wednesday, October 2, 2002\n",
    "- The Guardian — Friday, 11.10.13\n",
    "- Daily News — Thursday, 18 August 1977\n",
    "\n",
    "Пример работы программы: программа должна выводить на экран объекты типа `datetime`, соответствующие датам в условии задачи."
   ]
  },
  {
   "cell_type": "code",
   "execution_count": null,
   "id": "00e3e39f",
   "metadata": {},
   "outputs": [
    {
     "name": "stdout",
     "output_type": "stream",
     "text": [
      "The Moscow Times: 2002-10-02 00:00:00\n",
      "The Guardian: 2013-10-11 00:00:00\n",
      "Daily News: 1977-08-18 00:00:00\n"
     ]
    }
   ],
   "source": [
    "date_formats = {\n",
    "    \"The Moscow Times\": \"%A, %B %d, %Y\",\n",
    "    \"The Guardian\": \"%A, %d.%m.%y\",\n",
    "    \"Daily News\": \"%A, %d %B %Y\"\n",
    "}\n",
    "\n",
    "dates = {\n",
    "    \"The Moscow Times\": \"Wednesday, October 2, 2002\",\n",
    "    \"The Guardian\": \"Friday, 11.10.13\",\n",
    "    \"Daily News\": \"Thursday, 18 August 1977\"\n",
    "}\n",
    "\n",
    "for newspaper, date_str in dates.items():\n",
    "    date_format = date_formats[newspaper]\n",
    "    date_obj = datetime.datetime.strptime(date_str, date_format)\n",
    "    print(f\"{newspaper}: {date_obj}\")"
   ]
  },
  {
   "cell_type": "markdown",
   "id": "cd877624",
   "metadata": {},
   "source": [
    "### Задание 2 (необязательное)\n",
    "\n",
    "Написать функцию `date_range`, которая возвращает список дат за период от `start_date` до `end_date`. Даты вводятся в формате `YYYY-MM-DD`. В случае неверного формата или если `start_date > end_date` должен возвращаться пустой список."
   ]
  },
  {
   "cell_type": "code",
   "execution_count": 20,
   "id": "4b2aa7c0",
   "metadata": {},
   "outputs": [],
   "source": [
    "def date_range(start_date: str, end_date: str) -> List[datetime.date]:\n",
    "    date_lst = []\n",
    "    try:\n",
    "        start = datetime.datetime.strptime(start_date, \"%Y-%m-%d\").date()\n",
    "        end = datetime.datetime.strptime(end_date, \"%Y-%m-%d\").date()\n",
    "    except ValueError:\n",
    "        return date_lst\n",
    "    \n",
    "    while start <= end:\n",
    "        date_lst.append(start)\n",
    "        start += datetime.timedelta(days=1)\n",
    "    return date_lst\n"
   ]
  },
  {
   "cell_type": "markdown",
   "id": "45b84bff",
   "metadata": {},
   "source": [
    "- Задание 2:\n",
    "    - Выполнение `date_range('2022-01-01', '2022-01-03')` выводит строки: `['2022-01-01', '2022-01-02', '2022-01-03']`. ✔\n",
    "    - Выполнение `date_range('2022-01-03', '2022-01-01')` выводит: `[]`. ✔\n",
    "    - Выполнение `date_range('2022-02-30', '2022-02-31')` выводит: `[]`. ✔"
   ]
  },
  {
   "cell_type": "code",
   "execution_count": 17,
   "id": "e06b1da3",
   "metadata": {},
   "outputs": [
    {
     "data": {
      "text/plain": [
       "[datetime.date(2022, 1, 1),\n",
       " datetime.date(2022, 1, 2),\n",
       " datetime.date(2022, 1, 3)]"
      ]
     },
     "execution_count": 17,
     "metadata": {},
     "output_type": "execute_result"
    }
   ],
   "source": [
    "date_range('2022-01-01', '2022-01-03')"
   ]
  },
  {
   "cell_type": "code",
   "execution_count": 18,
   "id": "232c50e7",
   "metadata": {},
   "outputs": [
    {
     "data": {
      "text/plain": [
       "[]"
      ]
     },
     "execution_count": 18,
     "metadata": {},
     "output_type": "execute_result"
    }
   ],
   "source": [
    "date_range('2022-01-03', '2022-01-01')"
   ]
  },
  {
   "cell_type": "code",
   "execution_count": 21,
   "id": "9c153f1e",
   "metadata": {},
   "outputs": [
    {
     "data": {
      "text/plain": [
       "[]"
      ]
     },
     "execution_count": 21,
     "metadata": {},
     "output_type": "execute_result"
    }
   ],
   "source": [
    "date_range('2022-02-30', '2022-02-31')"
   ]
  }
 ],
 "metadata": {
  "kernelspec": {
   "display_name": "home-work-2",
   "language": "python",
   "name": "python3"
  },
  "language_info": {
   "codemirror_mode": {
    "name": "ipython",
    "version": 3
   },
   "file_extension": ".py",
   "mimetype": "text/x-python",
   "name": "python",
   "nbconvert_exporter": "python",
   "pygments_lexer": "ipython3",
   "version": "3.13.3"
  }
 },
 "nbformat": 4,
 "nbformat_minor": 5
}
