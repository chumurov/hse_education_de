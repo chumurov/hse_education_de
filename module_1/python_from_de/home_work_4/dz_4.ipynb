{
 "cells": [
  {
   "cell_type": "markdown",
   "id": "6b552a2b",
   "metadata": {},
   "source": [
    "# Задание 1\n",
    "\n",
    "Напишите функцию, которая принимает на вход строку и проверяет, является ли она валидным транспортным номером (1 буква, 3 цифры, 2 буквы, 2–3 цифры). Обратите внимание, что не все буквы кириллического алфавита используются в транспортных номерах\n",
    "Если номер валиден, то функция должна возвращать отдельно номер и регион.\n",
    "\n",
    "Примеры работы программы:\n",
    "\n",
    "- car_id = 'А222BС96'\n",
    "- Результат: Номер А222BС валиден. Регион: 96.\n",
    "- car_id = 'АБ22ВВ193'\n",
    "- Результат: Номер не валиден."
   ]
  },
  {
   "cell_type": "code",
   "execution_count": 1,
   "id": "9e06b08b",
   "metadata": {},
   "outputs": [],
   "source": [
    "import re"
   ]
  },
  {
   "cell_type": "code",
   "execution_count": 28,
   "id": "1252079c",
   "metadata": {},
   "outputs": [],
   "source": [
    "# Допустимые буквы в госномерах РФ\n",
    "ALLOWED = \"АВЕКМНОРСТУХ\"\n",
    "\n",
    "# Паттерн: 1 буква, 3 цифры, 2 буквы, 2-3 цифры (регион)\n",
    "# Используем re.ASCII не нужен, работаем в кириллице.\n",
    "PATTERN = re.compile(\n",
    "    rf\"^(?P<l1>[{ALLOWED}])(?P<num>\\d{{3}})(?P<l2>[{ALLOWED}]{{2}})(?P<region>\\d{{2,3}})$\"\n",
    ")\n",
    "\n",
    "\n",
    "def is_valid_region(region: str) -> bool:\n",
    "    # Двузначный регион 01–99\n",
    "    if len(region) == 2:\n",
    "        return 1 <= int(region) <= 99\n",
    "    # Трёхзначный регион 101–999, но не допускаем ведущий ноль\n",
    "    if len(region) == 3:\n",
    "        if region[0] == \"0\":\n",
    "            return False\n",
    "        return 101 <= int(region) <= 999\n",
    "    return False\n",
    "\n",
    "def parse_plate(plate: str):\n",
    "    \"\"\"\n",
    "    Принимает строку, проверяет валидность госномера РФ формата:\n",
    "    1 буква, 3 цифры, 2 буквы, 2–3 цифры региона.\n",
    "    Возвращает (номер_без_региона, регион) при валидности, иначе None.\n",
    "    \"\"\"\n",
    "    # Нормализуем: убираем пробелы и приводим к верхнему регистру\n",
    "    s = re.sub(r\"\\s+\", \"\", plate).upper()\n",
    "    \n",
    "    m = PATTERN.match(s)\n",
    "    \n",
    "    if not m:\n",
    "        return 'Номер не валиден.'\n",
    "\n",
    "    region = m.group(\"region\")\n",
    "    \n",
    "    if not is_valid_region(region):\n",
    "        return 'Номер не валиден.'\n",
    "\n",
    "    core_number = f\"{m.group('l1')}{m.group('num')}{m.group('l2')}\"\n",
    "    return f\"Номер {core_number} валиден. Регион: {region}.\""
   ]
  },
  {
   "cell_type": "markdown",
   "id": "2636dfea",
   "metadata": {},
   "source": [
    "- car_id = 'А222BС96'\n",
    "- Результат: Номер А222BС валиден. Регион: 96.\n",
    "- car_id = 'АБ22ВВ193'\n",
    "- Результат: Номер не валиден."
   ]
  },
  {
   "cell_type": "code",
   "execution_count": 23,
   "id": "c8ff1583",
   "metadata": {},
   "outputs": [
    {
     "data": {
      "text/plain": [
       "'Номер не валиден.'"
      ]
     },
     "execution_count": 23,
     "metadata": {},
     "output_type": "execute_result"
    }
   ],
   "source": [
    "parse_plate('А222BС96')"
   ]
  },
  {
   "cell_type": "code",
   "execution_count": 24,
   "id": "d14c1bb4",
   "metadata": {},
   "outputs": [
    {
     "data": {
      "text/plain": [
       "'Номер А222ВС валиден. Регион: 96.'"
      ]
     },
     "execution_count": 24,
     "metadata": {},
     "output_type": "execute_result"
    }
   ],
   "source": [
    "#Я поправил латиницу на кириллицу\n",
    "parse_plate('А222ВС96')"
   ]
  },
  {
   "cell_type": "code",
   "execution_count": 25,
   "id": "a97ce2a3",
   "metadata": {},
   "outputs": [
    {
     "data": {
      "text/plain": [
       "'Номер не валиден.'"
      ]
     },
     "execution_count": 25,
     "metadata": {},
     "output_type": "execute_result"
    }
   ],
   "source": [
    "parse_plate('АБ22ВВ193')"
   ]
  },
  {
   "cell_type": "code",
   "execution_count": 29,
   "id": "499e752c",
   "metadata": {},
   "outputs": [
    {
     "data": {
      "text/plain": [
       "'Номер не валиден.'"
      ]
     },
     "execution_count": 29,
     "metadata": {},
     "output_type": "execute_result"
    }
   ],
   "source": [
    "parse_plate('А222ВС9646')"
   ]
  },
  {
   "cell_type": "markdown",
   "id": "ace995e7",
   "metadata": {},
   "source": [
    "# Задание 2\n",
    "Напишите функцию, которая будет удалять все последовательные повторы слов из заданной строки при помощи регулярных выражений.\n",
    "\n",
    "Пример работы программы:\n",
    "\n",
    "- some_string = 'Напишите функцию функцию, которая будет будет будет будет удалять все все все все последовательные повторы слов из из из из заданной строки строки при помощи регулярных выражений'\n",
    "- Результат: Напишите функцию, которая будет удалять все последовательные повторы слов из заданной строки при помощи регулярных выражений."
   ]
  },
  {
   "cell_type": "code",
   "execution_count": 30,
   "id": "6cae12e4",
   "metadata": {},
   "outputs": [],
   "source": [
    "def dedup_words(text: str) -> str:\n",
    "    # \\b(\\w+)(?:\\W+\\1\\b)+ находит слово и его повторы через не-словесные разделители\n",
    "    # flags=re.IGNORECASE — игнорирует регистр, чтобы \"Hello hello\" считалось повтором\n",
    "    return re.sub(r\"\\b(\\w+)(?:\\W+\\1\\b)+\", r\"\\1\", text, flags=re.IGNORECASE)"
   ]
  },
  {
   "cell_type": "code",
   "execution_count": 31,
   "id": "9f7dc7f8",
   "metadata": {},
   "outputs": [],
   "source": [
    "some_string = 'Напишите функцию функцию, которая будет будет будет будет удалять все все все все последовательные повторы слов из из из из заданной строки строки при помощи регулярных выражений'"
   ]
  },
  {
   "cell_type": "code",
   "execution_count": 32,
   "id": "e07e2b1c",
   "metadata": {},
   "outputs": [
    {
     "data": {
      "text/plain": [
       "'Напишите функцию, которая будет удалять все последовательные повторы слов из заданной строки при помощи регулярных выражений'"
      ]
     },
     "execution_count": 32,
     "metadata": {},
     "output_type": "execute_result"
    }
   ],
   "source": [
    "dedup_words(some_string)"
   ]
  },
  {
   "cell_type": "code",
   "execution_count": 33,
   "id": "4c8f0a4b",
   "metadata": {},
   "outputs": [
    {
     "data": {
      "text/plain": [
       "'Привет мир Привет'"
      ]
     },
     "execution_count": 33,
     "metadata": {},
     "output_type": "execute_result"
    }
   ],
   "source": [
    "dedup_words('Привет мир Привет привет')"
   ]
  },
  {
   "cell_type": "code",
   "execution_count": null,
   "id": "e9869756",
   "metadata": {},
   "outputs": [],
   "source": []
  }
 ],
 "metadata": {
  "kernelspec": {
   "display_name": "home-work-4",
   "language": "python",
   "name": "python3"
  },
  "language_info": {
   "codemirror_mode": {
    "name": "ipython",
    "version": 3
   },
   "file_extension": ".py",
   "mimetype": "text/x-python",
   "name": "python",
   "nbconvert_exporter": "python",
   "pygments_lexer": "ipython3",
   "version": "3.13.3"
  }
 },
 "nbformat": 4,
 "nbformat_minor": 5
}
