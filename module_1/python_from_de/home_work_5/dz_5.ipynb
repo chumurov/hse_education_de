{
 "cells": [
  {
   "cell_type": "markdown",
   "id": "8db60dea",
   "metadata": {},
   "source": [
    "\n",
    "## Задание 1. Реализуйте базовый класс Account\n",
    "Реализуйте базовый класс Account, который моделирует поведение банковского счёта. Этот класс должен не только выполнять базовые операции, но и вести детальный учёт всех действий, а также предоставлять аналитику по истории операций.\n",
    "\n",
    "### Этап 1. Реализация базового класса Account\n",
    "Класс должен быть инициализирован с параметрами:\n",
    "\n",
    "- `account_holder` (str) — имя владельца счёта;\n",
    "- `balance` (float, по умолчанию 0) — начальный баланс счёта, не может быть отрицательным.\n",
    "\n",
    "Атрибуты:\n",
    "\n",
    "- `_account_counter` — приватный атрибут для хранения количества созданных счетов. Отсчет начинается с 1000;\n",
    "- `holder` — хранит имя владельца;\n",
    "- `account_number` — хранит номер счёта;\n",
    "- `_balance` — приватный атрибут для хранения текущего баланса;\n",
    "- `operations_history` — список или другая структура для хранения истории операций.\n",
    "\n",
    "Важно: каждая операция должна храниться не просто как число, а как структурированная информация, например, словарь, кортеж или класс. Минимальный набор данных для операции: тип операции ('deposit' или 'withdraw'), сумма, дата и время операции, текущий баланс после операции, статус ('success' или 'fail').\n"
   ]
  },
  {
   "cell_type": "code",
   "execution_count": 56,
   "id": "6c726581",
   "metadata": {},
   "outputs": [],
   "source": [
    "from datetime import datetime\n",
    "import pandas as pd \n",
    "import time"
   ]
  },
  {
   "cell_type": "code",
   "execution_count": 44,
   "id": "c669eb70",
   "metadata": {},
   "outputs": [],
   "source": [
    "class Account:\n",
    "    \"\"\"Базовый класс банковского счёта  Этап 1.\n",
    "    \"\"\"\n",
    "    # Приватный счётчик на уровне класса, начинается с 1000\n",
    "    _account_counter = 1000\n",
    "\n",
    "    def __init__(self, account_holder: str, balance: float = 0.0):\n",
    "        # Валидация начального баланса\n",
    "        if balance < 0:\n",
    "            raise ValueError('Начальный баланс не может быть отрицательным.')\n",
    "\n",
    "        # Присвоение номера счёта по счётчику и инкремент счётчика\n",
    "        Account._account_counter += 1\n",
    "        self.holder = account_holder\n",
    "\n",
    "        # Приватный баланс и история операций\n",
    "        self._balance = float(balance)\n",
    "        self.operations_history = []\n",
    "\n",
    "    def __repr__(self) -> str:\n",
    "        return (f'Account(holder={self.holder!r}, '\n",
    "                f'balance={self._balance:.2f})')\n",
    "\n",
    "    def _record_operation(self, op_type: str, amount: float, status: str) -> None:\n",
    "        \"Вспомогательный метод для записи операции в историю\"\n",
    "        self.operations_history.append({\n",
    "            'type': op_type,\n",
    "            'amount': float(amount),\n",
    "            'datetime': datetime.now(),\n",
    "            'balance': float(self._balance),\n",
    "            'status': status\n",
    "        })\n",
    "\n",
    "    def get_history(self):\n",
    "        # Возвращаем копию истории, чтобы внешние изменения не влияли на внутреннее состояние\n",
    "        return list(self.operations_history)"
   ]
  },
  {
   "cell_type": "markdown",
   "id": "b4fcee49",
   "metadata": {},
   "source": [
    "Проверка"
   ]
  },
  {
   "cell_type": "code",
   "execution_count": 47,
   "id": "11b65740",
   "metadata": {},
   "outputs": [
    {
     "name": "stdout",
     "output_type": "stream",
     "text": [
      "Account(holder='Nikita Chumurov', balance=100.00)\n"
     ]
    }
   ],
   "source": [
    "a1 = Account('Nikita Chumurov', 100.0)\n",
    "print(a1)"
   ]
  },
  {
   "cell_type": "markdown",
   "id": "89252d1f",
   "metadata": {},
   "source": [
    "### Этап 2. Реализация методов\n",
    "1. `__init__(self, account_holder, balance=0)` — конструктор. Обратите внимание, что в конструкторе должен автоматически формироваться номер счёта в формате `ACC-XXXX`, где `XXXX` — порядковый номер счёта;\n",
    "2. `deposit(self, amount)` — метод для пополнения счёта:\n",
    "   - принимает сумму (должна быть положительной), попытка положить отрицательную сумму, должна вызывать исключение;\n",
    "   - в случае успеха обновляет баланс и добавляет запись в историю операций.\n",
    "3. `withdraw(self, amount)` — метод для снятия средств:\n",
    "   - принимает сумму (должна быть положительной);\n",
    "   - проверяет, достаточно ли средств на счёте, если нет — операция не проходит, но ее попытка с статусом 'fail' все равно фиксируется в истории;\n",
    "   - в случае успеха обновляет баланс и добавляет запись в историю.\n",
    "4. `get_balance(self)` — метод, который возвращает текущий баланс.\n",
    "5. `get_history(self)` — метод, который возвращает историю операций.\n",
    "\n",
    "Важно: продумайте, в каком формате его вернуть. Для работы с датой и временем используйте модуль `datetime`. Получить текущее время можно с помощью `datetime.now()`."
   ]
  },
  {
   "cell_type": "markdown",
   "id": "611678d6",
   "metadata": {},
   "source": [
    "### Этап 3. Визуализация истории операций. (по желанию)\n",
    "1. Создайте метод `plot_history(self)`, который использует библиотеку Pandas для создания датафрейма из истории операций.\n",
    "2. Продумайте, с помощью какой библиотеки можно отобразить изменение баланса с течением времени. Постройте простой линейный график, где по оси X будет время операции, а по оси Y — баланс после каждой операции. График должен иметь заголовок, подписи осей."
   ]
  },
  {
   "cell_type": "code",
   "execution_count": 48,
   "id": "596b7c10",
   "metadata": {},
   "outputs": [],
   "source": [
    "class Account:\n",
    "    \"\"\"Базовый класс банковского счёта  Этап 2.\n",
    "    \"\"\"\n",
    "    # Приватный счётчик на уровне класса, начинается с 1000\n",
    "    _account_counter = 1000\n",
    "\n",
    "    def __init__(self, account_holder: str, balance: float = 0.0):\n",
    "        # Валидация начального баланса\n",
    "        if balance < 0:\n",
    "            raise ValueError('Начальный баланс не может быть отрицательным.')\n",
    "        \n",
    "     # Присвоение номера счёта по счётчику и инкремент счётчика\n",
    "        Account._account_counter += 1\n",
    "        self.account_number = f'ACC-{Account._account_counter:04}'\n",
    "        self.holder = account_holder\n",
    "        \n",
    "\n",
    "        # Приватный баланс и история операций\n",
    "        self._balance = float(balance)\n",
    "        self.operations_history = []\n",
    "\n",
    "    def __repr__(self) -> str:\n",
    "        return (f'Account(holder={self.holder!r}, '\n",
    "                f'balance={self._balance:.2f})')\n",
    "\n",
    "    def _record_operation(self, op_type: str, amount: float, status: str) -> None:\n",
    "        \"Вспомогательный метод для записи операции в историю\"\n",
    "        self.operations_history.append({\n",
    "            'type': op_type,\n",
    "            'amount': float(amount),\n",
    "            'datetime': datetime.now(),\n",
    "            'balance': float(self._balance),\n",
    "            'status': status\n",
    "        })\n",
    "\n",
    "    def deposit(self, amount: float) -> None:\n",
    "        \"Пополнение счёта. При отрицательной сумме -- исключение.\"\n",
    "        if amount <= 0:\n",
    "            raise ValueError('Депозит должен быть положительным')\n",
    "\n",
    "        self._balance += float(amount)\n",
    "        self._record_operation('deposit', amount, 'success')\n",
    "\n",
    "    def withdraw(self, amount: float) -> None:\n",
    "        \"Снятие со счёта. При недостатке средств операция фиксируется как 'fail'.\"\n",
    "        if amount <= 0:\n",
    "            raise ValueError('Снятие должно быть положительным')\n",
    "\n",
    "        if amount <= self._balance:\n",
    "            self._balance -= float(amount)\n",
    "            self._record_operation('withdraw', amount, 'success')\n",
    "        else:\n",
    "            # Фиксируем неудачную попытку снятия, баланс не меняется\n",
    "            self._record_operation('withdraw', amount, 'fail')\n",
    "\n",
    "    def get_balance(self) -> float:\n",
    "        return float(self._balance)\n",
    "\n",
    "    def get_history(self):\n",
    "        # Возвращаем копию истории, чтобы внешние изменения не влияли на внутреннее состояние\n",
    "        return list(self.operations_history)\n",
    "    \n",
    "    def plot_history(self):\n",
    "        import pandas as pd\n",
    "        import plotly.express as px\n",
    "        # Создайте метод `plot_history(self)`, который использует библиотеку Pandas для создания датафрейма из истории операций.\n",
    "        df = pd.DataFrame(self.operations_history)\n",
    "        fig = px.line(df, x='datetime', y='balance',  title='История операций')\n",
    "        # Подписи осей\n",
    "        fig.update_layout(xaxis_title='Дата и время', yaxis_title='Баланс')\n",
    "\n",
    "        fig.show()\n"
   ]
  },
  {
   "cell_type": "code",
   "execution_count": null,
   "id": "373cf1a3",
   "metadata": {},
   "outputs": [],
   "source": [
    "#sleep для демонстрации разных временных меток\n",
    "a1 = Account('Nikita Chumurov', 100.0)\n",
    "a1.withdraw(56)\n",
    "time.sleep(1)\n",
    "a1.deposit(144)\n",
    "time.sleep(1)\n",
    "a1.deposit(253)\n",
    "time.sleep(2)\n",
    "a1.withdraw(345)\n",
    "a1.deposit(555)\n",
    "time.sleep(1)\n",
    "a1.withdraw(1000)\n",
    "a1_history_df = pd.DataFrame(a1.get_history())"
   ]
  },
  {
   "cell_type": "code",
   "execution_count": 58,
   "id": "94f7ff50",
   "metadata": {},
   "outputs": [
    {
     "data": {
      "text/html": [
       "<div>\n",
       "<style scoped>\n",
       "    .dataframe tbody tr th:only-of-type {\n",
       "        vertical-align: middle;\n",
       "    }\n",
       "\n",
       "    .dataframe tbody tr th {\n",
       "        vertical-align: top;\n",
       "    }\n",
       "\n",
       "    .dataframe thead th {\n",
       "        text-align: right;\n",
       "    }\n",
       "</style>\n",
       "<table border=\"1\" class=\"dataframe\">\n",
       "  <thead>\n",
       "    <tr style=\"text-align: right;\">\n",
       "      <th></th>\n",
       "      <th>type</th>\n",
       "      <th>amount</th>\n",
       "      <th>datetime</th>\n",
       "      <th>balance</th>\n",
       "      <th>status</th>\n",
       "    </tr>\n",
       "  </thead>\n",
       "  <tbody>\n",
       "    <tr>\n",
       "      <th>0</th>\n",
       "      <td>withdraw</td>\n",
       "      <td>56.0</td>\n",
       "      <td>2025-10-25 18:26:28.651033</td>\n",
       "      <td>44.0</td>\n",
       "      <td>success</td>\n",
       "    </tr>\n",
       "    <tr>\n",
       "      <th>1</th>\n",
       "      <td>deposit</td>\n",
       "      <td>144.0</td>\n",
       "      <td>2025-10-25 18:26:29.652496</td>\n",
       "      <td>188.0</td>\n",
       "      <td>success</td>\n",
       "    </tr>\n",
       "    <tr>\n",
       "      <th>2</th>\n",
       "      <td>deposit</td>\n",
       "      <td>253.0</td>\n",
       "      <td>2025-10-25 18:26:30.653240</td>\n",
       "      <td>441.0</td>\n",
       "      <td>success</td>\n",
       "    </tr>\n",
       "    <tr>\n",
       "      <th>3</th>\n",
       "      <td>withdraw</td>\n",
       "      <td>345.0</td>\n",
       "      <td>2025-10-25 18:26:32.653784</td>\n",
       "      <td>96.0</td>\n",
       "      <td>success</td>\n",
       "    </tr>\n",
       "    <tr>\n",
       "      <th>4</th>\n",
       "      <td>deposit</td>\n",
       "      <td>555.0</td>\n",
       "      <td>2025-10-25 18:26:32.653810</td>\n",
       "      <td>651.0</td>\n",
       "      <td>success</td>\n",
       "    </tr>\n",
       "    <tr>\n",
       "      <th>5</th>\n",
       "      <td>withdraw</td>\n",
       "      <td>1000.0</td>\n",
       "      <td>2025-10-25 18:26:33.654138</td>\n",
       "      <td>651.0</td>\n",
       "      <td>fail</td>\n",
       "    </tr>\n",
       "  </tbody>\n",
       "</table>\n",
       "</div>"
      ],
      "text/plain": [
       "       type  amount                   datetime  balance   status\n",
       "0  withdraw    56.0 2025-10-25 18:26:28.651033     44.0  success\n",
       "1   deposit   144.0 2025-10-25 18:26:29.652496    188.0  success\n",
       "2   deposit   253.0 2025-10-25 18:26:30.653240    441.0  success\n",
       "3  withdraw   345.0 2025-10-25 18:26:32.653784     96.0  success\n",
       "4   deposit   555.0 2025-10-25 18:26:32.653810    651.0  success\n",
       "5  withdraw  1000.0 2025-10-25 18:26:33.654138    651.0     fail"
      ]
     },
     "execution_count": 58,
     "metadata": {},
     "output_type": "execute_result"
    }
   ],
   "source": [
    "a1_history_df\n"
   ]
  },
  {
   "cell_type": "code",
   "execution_count": 59,
   "id": "406d7316",
   "metadata": {},
   "outputs": [
    {
     "data": {
      "text/plain": [
       "651.0"
      ]
     },
     "execution_count": 59,
     "metadata": {},
     "output_type": "execute_result"
    }
   ],
   "source": [
    "a1.get_balance()"
   ]
  },
  {
   "cell_type": "code",
   "execution_count": 60,
   "id": "4c6b45a7",
   "metadata": {},
   "outputs": [
    {
     "data": {
      "application/vnd.plotly.v1+json": {
       "config": {
        "plotlyServerURL": "https://plot.ly"
       },
       "data": [
        {
         "hovertemplate": "datetime=%{x}<br>balance=%{y}<extra></extra>",
         "legendgroup": "",
         "line": {
          "color": "#636efa",
          "dash": "solid"
         },
         "marker": {
          "symbol": "circle"
         },
         "mode": "lines",
         "name": "",
         "orientation": "v",
         "showlegend": false,
         "type": "scatter",
         "x": [
          "2025-10-25T18:26:28.651033000",
          "2025-10-25T18:26:29.652496000",
          "2025-10-25T18:26:30.653240000",
          "2025-10-25T18:26:32.653784000",
          "2025-10-25T18:26:32.653810000",
          "2025-10-25T18:26:33.654138000"
         ],
         "xaxis": "x",
         "y": {
          "bdata": "AAAAAAAARkAAAAAAAIBnQAAAAAAAkHtAAAAAAAAAWEAAAAAAAFiEQAAAAAAAWIRA",
          "dtype": "f8"
         },
         "yaxis": "y"
        }
       ],
       "layout": {
        "legend": {
         "tracegroupgap": 0
        },
        "template": {
         "data": {
          "bar": [
           {
            "error_x": {
             "color": "#2a3f5f"
            },
            "error_y": {
             "color": "#2a3f5f"
            },
            "marker": {
             "line": {
              "color": "#E5ECF6",
              "width": 0.5
             },
             "pattern": {
              "fillmode": "overlay",
              "size": 10,
              "solidity": 0.2
             }
            },
            "type": "bar"
           }
          ],
          "barpolar": [
           {
            "marker": {
             "line": {
              "color": "#E5ECF6",
              "width": 0.5
             },
             "pattern": {
              "fillmode": "overlay",
              "size": 10,
              "solidity": 0.2
             }
            },
            "type": "barpolar"
           }
          ],
          "carpet": [
           {
            "aaxis": {
             "endlinecolor": "#2a3f5f",
             "gridcolor": "white",
             "linecolor": "white",
             "minorgridcolor": "white",
             "startlinecolor": "#2a3f5f"
            },
            "baxis": {
             "endlinecolor": "#2a3f5f",
             "gridcolor": "white",
             "linecolor": "white",
             "minorgridcolor": "white",
             "startlinecolor": "#2a3f5f"
            },
            "type": "carpet"
           }
          ],
          "choropleth": [
           {
            "colorbar": {
             "outlinewidth": 0,
             "ticks": ""
            },
            "type": "choropleth"
           }
          ],
          "contour": [
           {
            "colorbar": {
             "outlinewidth": 0,
             "ticks": ""
            },
            "colorscale": [
             [
              0,
              "#0d0887"
             ],
             [
              0.1111111111111111,
              "#46039f"
             ],
             [
              0.2222222222222222,
              "#7201a8"
             ],
             [
              0.3333333333333333,
              "#9c179e"
             ],
             [
              0.4444444444444444,
              "#bd3786"
             ],
             [
              0.5555555555555556,
              "#d8576b"
             ],
             [
              0.6666666666666666,
              "#ed7953"
             ],
             [
              0.7777777777777778,
              "#fb9f3a"
             ],
             [
              0.8888888888888888,
              "#fdca26"
             ],
             [
              1,
              "#f0f921"
             ]
            ],
            "type": "contour"
           }
          ],
          "contourcarpet": [
           {
            "colorbar": {
             "outlinewidth": 0,
             "ticks": ""
            },
            "type": "contourcarpet"
           }
          ],
          "heatmap": [
           {
            "colorbar": {
             "outlinewidth": 0,
             "ticks": ""
            },
            "colorscale": [
             [
              0,
              "#0d0887"
             ],
             [
              0.1111111111111111,
              "#46039f"
             ],
             [
              0.2222222222222222,
              "#7201a8"
             ],
             [
              0.3333333333333333,
              "#9c179e"
             ],
             [
              0.4444444444444444,
              "#bd3786"
             ],
             [
              0.5555555555555556,
              "#d8576b"
             ],
             [
              0.6666666666666666,
              "#ed7953"
             ],
             [
              0.7777777777777778,
              "#fb9f3a"
             ],
             [
              0.8888888888888888,
              "#fdca26"
             ],
             [
              1,
              "#f0f921"
             ]
            ],
            "type": "heatmap"
           }
          ],
          "histogram": [
           {
            "marker": {
             "pattern": {
              "fillmode": "overlay",
              "size": 10,
              "solidity": 0.2
             }
            },
            "type": "histogram"
           }
          ],
          "histogram2d": [
           {
            "colorbar": {
             "outlinewidth": 0,
             "ticks": ""
            },
            "colorscale": [
             [
              0,
              "#0d0887"
             ],
             [
              0.1111111111111111,
              "#46039f"
             ],
             [
              0.2222222222222222,
              "#7201a8"
             ],
             [
              0.3333333333333333,
              "#9c179e"
             ],
             [
              0.4444444444444444,
              "#bd3786"
             ],
             [
              0.5555555555555556,
              "#d8576b"
             ],
             [
              0.6666666666666666,
              "#ed7953"
             ],
             [
              0.7777777777777778,
              "#fb9f3a"
             ],
             [
              0.8888888888888888,
              "#fdca26"
             ],
             [
              1,
              "#f0f921"
             ]
            ],
            "type": "histogram2d"
           }
          ],
          "histogram2dcontour": [
           {
            "colorbar": {
             "outlinewidth": 0,
             "ticks": ""
            },
            "colorscale": [
             [
              0,
              "#0d0887"
             ],
             [
              0.1111111111111111,
              "#46039f"
             ],
             [
              0.2222222222222222,
              "#7201a8"
             ],
             [
              0.3333333333333333,
              "#9c179e"
             ],
             [
              0.4444444444444444,
              "#bd3786"
             ],
             [
              0.5555555555555556,
              "#d8576b"
             ],
             [
              0.6666666666666666,
              "#ed7953"
             ],
             [
              0.7777777777777778,
              "#fb9f3a"
             ],
             [
              0.8888888888888888,
              "#fdca26"
             ],
             [
              1,
              "#f0f921"
             ]
            ],
            "type": "histogram2dcontour"
           }
          ],
          "mesh3d": [
           {
            "colorbar": {
             "outlinewidth": 0,
             "ticks": ""
            },
            "type": "mesh3d"
           }
          ],
          "parcoords": [
           {
            "line": {
             "colorbar": {
              "outlinewidth": 0,
              "ticks": ""
             }
            },
            "type": "parcoords"
           }
          ],
          "pie": [
           {
            "automargin": true,
            "type": "pie"
           }
          ],
          "scatter": [
           {
            "fillpattern": {
             "fillmode": "overlay",
             "size": 10,
             "solidity": 0.2
            },
            "type": "scatter"
           }
          ],
          "scatter3d": [
           {
            "line": {
             "colorbar": {
              "outlinewidth": 0,
              "ticks": ""
             }
            },
            "marker": {
             "colorbar": {
              "outlinewidth": 0,
              "ticks": ""
             }
            },
            "type": "scatter3d"
           }
          ],
          "scattercarpet": [
           {
            "marker": {
             "colorbar": {
              "outlinewidth": 0,
              "ticks": ""
             }
            },
            "type": "scattercarpet"
           }
          ],
          "scattergeo": [
           {
            "marker": {
             "colorbar": {
              "outlinewidth": 0,
              "ticks": ""
             }
            },
            "type": "scattergeo"
           }
          ],
          "scattergl": [
           {
            "marker": {
             "colorbar": {
              "outlinewidth": 0,
              "ticks": ""
             }
            },
            "type": "scattergl"
           }
          ],
          "scattermap": [
           {
            "marker": {
             "colorbar": {
              "outlinewidth": 0,
              "ticks": ""
             }
            },
            "type": "scattermap"
           }
          ],
          "scattermapbox": [
           {
            "marker": {
             "colorbar": {
              "outlinewidth": 0,
              "ticks": ""
             }
            },
            "type": "scattermapbox"
           }
          ],
          "scatterpolar": [
           {
            "marker": {
             "colorbar": {
              "outlinewidth": 0,
              "ticks": ""
             }
            },
            "type": "scatterpolar"
           }
          ],
          "scatterpolargl": [
           {
            "marker": {
             "colorbar": {
              "outlinewidth": 0,
              "ticks": ""
             }
            },
            "type": "scatterpolargl"
           }
          ],
          "scatterternary": [
           {
            "marker": {
             "colorbar": {
              "outlinewidth": 0,
              "ticks": ""
             }
            },
            "type": "scatterternary"
           }
          ],
          "surface": [
           {
            "colorbar": {
             "outlinewidth": 0,
             "ticks": ""
            },
            "colorscale": [
             [
              0,
              "#0d0887"
             ],
             [
              0.1111111111111111,
              "#46039f"
             ],
             [
              0.2222222222222222,
              "#7201a8"
             ],
             [
              0.3333333333333333,
              "#9c179e"
             ],
             [
              0.4444444444444444,
              "#bd3786"
             ],
             [
              0.5555555555555556,
              "#d8576b"
             ],
             [
              0.6666666666666666,
              "#ed7953"
             ],
             [
              0.7777777777777778,
              "#fb9f3a"
             ],
             [
              0.8888888888888888,
              "#fdca26"
             ],
             [
              1,
              "#f0f921"
             ]
            ],
            "type": "surface"
           }
          ],
          "table": [
           {
            "cells": {
             "fill": {
              "color": "#EBF0F8"
             },
             "line": {
              "color": "white"
             }
            },
            "header": {
             "fill": {
              "color": "#C8D4E3"
             },
             "line": {
              "color": "white"
             }
            },
            "type": "table"
           }
          ]
         },
         "layout": {
          "annotationdefaults": {
           "arrowcolor": "#2a3f5f",
           "arrowhead": 0,
           "arrowwidth": 1
          },
          "autotypenumbers": "strict",
          "coloraxis": {
           "colorbar": {
            "outlinewidth": 0,
            "ticks": ""
           }
          },
          "colorscale": {
           "diverging": [
            [
             0,
             "#8e0152"
            ],
            [
             0.1,
             "#c51b7d"
            ],
            [
             0.2,
             "#de77ae"
            ],
            [
             0.3,
             "#f1b6da"
            ],
            [
             0.4,
             "#fde0ef"
            ],
            [
             0.5,
             "#f7f7f7"
            ],
            [
             0.6,
             "#e6f5d0"
            ],
            [
             0.7,
             "#b8e186"
            ],
            [
             0.8,
             "#7fbc41"
            ],
            [
             0.9,
             "#4d9221"
            ],
            [
             1,
             "#276419"
            ]
           ],
           "sequential": [
            [
             0,
             "#0d0887"
            ],
            [
             0.1111111111111111,
             "#46039f"
            ],
            [
             0.2222222222222222,
             "#7201a8"
            ],
            [
             0.3333333333333333,
             "#9c179e"
            ],
            [
             0.4444444444444444,
             "#bd3786"
            ],
            [
             0.5555555555555556,
             "#d8576b"
            ],
            [
             0.6666666666666666,
             "#ed7953"
            ],
            [
             0.7777777777777778,
             "#fb9f3a"
            ],
            [
             0.8888888888888888,
             "#fdca26"
            ],
            [
             1,
             "#f0f921"
            ]
           ],
           "sequentialminus": [
            [
             0,
             "#0d0887"
            ],
            [
             0.1111111111111111,
             "#46039f"
            ],
            [
             0.2222222222222222,
             "#7201a8"
            ],
            [
             0.3333333333333333,
             "#9c179e"
            ],
            [
             0.4444444444444444,
             "#bd3786"
            ],
            [
             0.5555555555555556,
             "#d8576b"
            ],
            [
             0.6666666666666666,
             "#ed7953"
            ],
            [
             0.7777777777777778,
             "#fb9f3a"
            ],
            [
             0.8888888888888888,
             "#fdca26"
            ],
            [
             1,
             "#f0f921"
            ]
           ]
          },
          "colorway": [
           "#636efa",
           "#EF553B",
           "#00cc96",
           "#ab63fa",
           "#FFA15A",
           "#19d3f3",
           "#FF6692",
           "#B6E880",
           "#FF97FF",
           "#FECB52"
          ],
          "font": {
           "color": "#2a3f5f"
          },
          "geo": {
           "bgcolor": "white",
           "lakecolor": "white",
           "landcolor": "#E5ECF6",
           "showlakes": true,
           "showland": true,
           "subunitcolor": "white"
          },
          "hoverlabel": {
           "align": "left"
          },
          "hovermode": "closest",
          "mapbox": {
           "style": "light"
          },
          "paper_bgcolor": "white",
          "plot_bgcolor": "#E5ECF6",
          "polar": {
           "angularaxis": {
            "gridcolor": "white",
            "linecolor": "white",
            "ticks": ""
           },
           "bgcolor": "#E5ECF6",
           "radialaxis": {
            "gridcolor": "white",
            "linecolor": "white",
            "ticks": ""
           }
          },
          "scene": {
           "xaxis": {
            "backgroundcolor": "#E5ECF6",
            "gridcolor": "white",
            "gridwidth": 2,
            "linecolor": "white",
            "showbackground": true,
            "ticks": "",
            "zerolinecolor": "white"
           },
           "yaxis": {
            "backgroundcolor": "#E5ECF6",
            "gridcolor": "white",
            "gridwidth": 2,
            "linecolor": "white",
            "showbackground": true,
            "ticks": "",
            "zerolinecolor": "white"
           },
           "zaxis": {
            "backgroundcolor": "#E5ECF6",
            "gridcolor": "white",
            "gridwidth": 2,
            "linecolor": "white",
            "showbackground": true,
            "ticks": "",
            "zerolinecolor": "white"
           }
          },
          "shapedefaults": {
           "line": {
            "color": "#2a3f5f"
           }
          },
          "ternary": {
           "aaxis": {
            "gridcolor": "white",
            "linecolor": "white",
            "ticks": ""
           },
           "baxis": {
            "gridcolor": "white",
            "linecolor": "white",
            "ticks": ""
           },
           "bgcolor": "#E5ECF6",
           "caxis": {
            "gridcolor": "white",
            "linecolor": "white",
            "ticks": ""
           }
          },
          "title": {
           "x": 0.05
          },
          "xaxis": {
           "automargin": true,
           "gridcolor": "white",
           "linecolor": "white",
           "ticks": "",
           "title": {
            "standoff": 15
           },
           "zerolinecolor": "white",
           "zerolinewidth": 2
          },
          "yaxis": {
           "automargin": true,
           "gridcolor": "white",
           "linecolor": "white",
           "ticks": "",
           "title": {
            "standoff": 15
           },
           "zerolinecolor": "white",
           "zerolinewidth": 2
          }
         }
        },
        "title": {
         "text": "История операций"
        },
        "xaxis": {
         "anchor": "y",
         "domain": [
          0,
          1
         ],
         "title": {
          "text": "Дата и время"
         }
        },
        "yaxis": {
         "anchor": "x",
         "domain": [
          0,
          1
         ],
         "title": {
          "text": "Баланс"
         }
        }
       }
      }
     },
     "metadata": {},
     "output_type": "display_data"
    }
   ],
   "source": [
    "a1.plot_history()"
   ]
  },
  {
   "cell_type": "markdown",
   "id": "fa94dbf5",
   "metadata": {},
   "source": [
    "## Задание 2. Этап 4. Реализация наследования\n",
    "1. Реализуйте два класса `CheckingAccount` (расчётный счёт) и `SavingsAccount` (сберегательный счёт), которые отражают абстракцию базового поведения банковских аккаунтов:\n",
    "   - наследуются от базового класса `Account`;\n",
    "   - хранят атрибут класса `account_type`.\n",
    "2. Класс `SavingsAccount` (сберегательный счёт) дополнительно должен реализовывать метод расчёта процентов на остаток `apply_interest(self, rate)` (например, 7% на остаток).\n",
    "3. Класс `SavingsAccount` (сберегательный счёт) позволяет снимать деньги только до определенного порога баланса: нельзя снять больше 50% от баланса. Переопределите метод снятия со счёта.\n",
    "4. Реализуйте валидацию на отрицательные суммы и корректность имени владельца:\n",
    "   - имя владельца счёта должно быть в формате «Имя Фамилия» с заглавных букв, кириллицей или латиницей, иначе — должно вызываться исключение;\n",
    "   - попытка положить отрицательную сумму должна вызывать исключение.\n",
    "5. Реализуйте метод для анализа истории транзакций по размеру и дате:\n",
    "   - метод должен выводить последние `n` крупных операций.\n"
   ]
  },
  {
   "cell_type": "code",
   "execution_count": null,
   "id": "36205039",
   "metadata": {},
   "outputs": [],
   "source": [
    "import re\n",
    "from datetime import datetime\n",
    "\n",
    "\n",
    "class Account:\n",
    "    \"\"\"Базовый класс банковского счёта  Этап 2.\n",
    "    \"\"\"\n",
    "    # Приватный счётчик на уровне класса, начинается с 1000\n",
    "    _account_counter = 1000\n",
    "\n",
    "    def __init__(self, account_holder: str, balance: float = 0.0):\n",
    "        # Валидация начального баланса\n",
    "        if balance < 0:\n",
    "            raise ValueError('Начальный баланс не может быть отрицательным.')\n",
    "\n",
    "        # Валидация имени владельца: \"Имя Фамилия\" с заглавных букв (кириллица или латиница)\n",
    "        # Поддерживаем буквы A-Z, a-z и кириллический диапазон (А-Я, а-я, Ёё)\n",
    "        name_pattern = re.compile(r'^[A-ZА-ЯЁ][a-zа-яё]+ [A-ZА-ЯЁ][a-zа-яё]+$')\n",
    "        if not isinstance(account_holder, str) or not name_pattern.match(account_holder):\n",
    "            raise ValueError('Имя владельца должно быть в формате \"Имя Фамилия\" с заглавных букв.')\n",
    "\n",
    "        # Присвоение номера счёта по счётчику и инкремент счётчика\n",
    "        Account._account_counter += 1\n",
    "        self.account_number = f'ACC-{Account._account_counter:04}'\n",
    "        self.holder = account_holder\n",
    "\n",
    "        # Приватный баланс и история операций\n",
    "        self._balance = float(balance)\n",
    "        self.operations_history = []\n",
    "\n",
    "    def __repr__(self) -> str:\n",
    "        return (f'Account(holder={self.holder!r}, '\n",
    "                f'balance={self._balance:.2f})')\n",
    "\n",
    "    def _record_operation(self, op_type: str, amount: float, status: str) -> None:\n",
    "        \"Вспомогательный метод для записи операции в историю\"\n",
    "        self.operations_history.append({\n",
    "            'type': op_type,\n",
    "            'amount': float(amount),\n",
    "            'datetime': datetime.now(),\n",
    "            'balance': float(self._balance),\n",
    "            'status': status\n",
    "        })\n",
    "\n",
    "    def deposit(self, amount: float) -> None:\n",
    "        \"Пополнение счёта. При отрицательной сумме -- исключение.\"\n",
    "        if amount <= 0:\n",
    "            raise ValueError('Депозит должен быть положительным')\n",
    "\n",
    "        self._balance += float(amount)\n",
    "        self._record_operation('deposit', amount, 'success')\n",
    "\n",
    "    def withdraw(self, amount: float) -> None:\n",
    "        \"Снятие со счёта. При недостатке средств операция фиксируется как 'fail'.\"\n",
    "        if amount <= 0:\n",
    "            raise ValueError('Снятие должно быть положительным')\n",
    "\n",
    "        if amount <= self._balance:\n",
    "            self._balance -= float(amount)\n",
    "            self._record_operation('withdraw', amount, 'success')\n",
    "        else:\n",
    "            # Фиксируем неудачную попытку снятия, баланс не меняется\n",
    "            self._record_operation('withdraw', amount, 'fail')\n",
    "\n",
    "    def get_balance(self) -> float:\n",
    "        return float(self._balance)\n",
    "\n",
    "    def get_history(self):\n",
    "        # Возвращаем копию истории, чтобы внешние изменения не влияли на внутреннее состояние\n",
    "        return list(self.operations_history)\n",
    "    \n",
    "    def plot_history(self):\n",
    "        import pandas as pd\n",
    "        import plotly.express as px\n",
    "        # Создайте метод `plot_history(self)`, который использует библиотеку Pandas для создания датафрейма из истории операций.\n",
    "        df = pd.DataFrame(self.operations_history)\n",
    "        fig = px.line(df, x='datetime', y='balance',  title='История операций')\n",
    "        # Подписи осей\n",
    "        fig.update_layout(xaxis_title='Дата и время', yaxis_title='Баланс')\n",
    "\n",
    "        fig.show()\n",
    "\n",
    "    def get_top_transactions(self, n: int = 5):\n",
    "        \"\"\"Возвращает список из последних n крупных операций.\n",
    "\n",
    "        Сначала сортируем по абсолютной величине суммы (amount) по убыванию,\n",
    "        затем по дате (datetime) по убыванию, чтобы при равных суммах\n",
    "        возвращались более свежие операции.\n",
    "        \"\"\"\n",
    "        if not isinstance(n, int) or n <= 0:\n",
    "            raise ValueError('n должно быть положительным целым числом')\n",
    "\n",
    "        # Сортируем копию списка, чтобы не менять внутреннее состояние\n",
    "        sorted_ops = sorted(\n",
    "            self.operations_history,\n",
    "            key=lambda op: (abs(op.get('amount', 0)), op.get('datetime')),\n",
    "            reverse=True\n",
    "        )\n",
    "        return list(sorted_ops[:n])\n",
    "\n",
    "\n",
    "class CheckingAccount(Account):\n",
    "    \"\"\"Расчётный счёт — простой тип счёта без дополнительных ограничений.\"\"\"\n",
    "    account_type = 'checking'\n",
    "\n",
    "\n",
    "class SavingsAccount(Account):\n",
    "    \"\"\"Сберегательный счёт: начисление процентов и ограничение снятия до 50% баланса.\"\"\"\n",
    "    account_type = 'savings'\n",
    "\n",
    "    def apply_interest(self, rate: float) -> None:\n",
    "        \"\"\"Начисляет проценты на текущий остаток.\n",
    "\n",
    "        rate — годовая ставка или процент в процентах (например, 7 для 7%).\n",
    "        Метод просто применяет указанный процент к текущему балансу и\n",
    "        записывает операцию типа 'interest'.\n",
    "        \"\"\"\n",
    "        try:\n",
    "            rate_val = float(rate)\n",
    "        except Exception:\n",
    "            raise ValueError('rate должен быть числом')\n",
    "        \n",
    "        if rate_val <= 0:\n",
    "            raise ValueError('Ставка должна быть положительной')\n",
    "        \n",
    "        # Рассчитываем как процент от текущего баланса\n",
    "        interest = self._balance * (rate_val / 100.0)\n",
    "        # Пополняем счёт на сумму процентов (может быть 0)\n",
    "        if interest != 0:\n",
    "            self._balance += interest\n",
    "            self._record_operation('interest', interest, 'success')\n",
    "\n",
    "    def withdraw(self, amount: float) -> None:\n",
    "        \"\"\"Снятие: нельзя снимать больше 50% от текущего баланса.\n",
    "\n",
    "        При попытке снять отрицательную сумму — исключение.\n",
    "        Если превышен порог (50%), операция фиксируется как 'fail' и\n",
    "        выбрасывается исключение.\n",
    "        \"\"\"\n",
    "        if amount <= 0:\n",
    "            raise ValueError('Снятие должно быть положительным')\n",
    "\n",
    "        # Максимально допустимая сумма снятия — 50% от текущего баланса\n",
    "        max_allowed = 0.5 * self._balance\n",
    "        if amount > max_allowed:\n",
    "            # Фиксируем неудачную попытку снятия, баланс не меняется\n",
    "            self._record_operation('withdraw', amount, 'fail')\n",
    "            raise ValueError('Нельзя снять больше 50% баланса для сберегательного счёта.')\n",
    "\n",
    "        # Иначе используем поведение базового класса для проверки остатка и записи операции\n",
    "        if amount <= self._balance:\n",
    "            self._balance -= float(amount)\n",
    "            self._record_operation('withdraw', amount, 'success')\n",
    "        else:\n",
    "            self._record_operation('withdraw', amount, 'fail')\n"
   ]
  },
  {
   "cell_type": "code",
   "execution_count": 62,
   "id": "c15dc46a",
   "metadata": {},
   "outputs": [
    {
     "data": {
      "text/plain": [
       "[{'type': 'withdraw',\n",
       "  'amount': 1000.0,\n",
       "  'datetime': datetime.datetime(2025, 10, 25, 18, 27, 17, 685826),\n",
       "  'balance': 651.0,\n",
       "  'status': 'fail'},\n",
       " {'type': 'deposit',\n",
       "  'amount': 555.0,\n",
       "  'datetime': datetime.datetime(2025, 10, 25, 18, 27, 17, 685820),\n",
       "  'balance': 651.0,\n",
       "  'status': 'success'},\n",
       " {'type': 'withdraw',\n",
       "  'amount': 345.0,\n",
       "  'datetime': datetime.datetime(2025, 10, 25, 18, 27, 17, 685814),\n",
       "  'balance': 96.0,\n",
       "  'status': 'success'}]"
      ]
     },
     "execution_count": 62,
     "metadata": {},
     "output_type": "execute_result"
    }
   ],
   "source": [
    "# Пример использования:\n",
    "a1 = Account('Nikita Chumurov', 100.0)\n",
    "a1.withdraw(56)\n",
    "a1.deposit(144)\n",
    "a1.deposit(253)\n",
    "a1.withdraw(345)\n",
    "a1.deposit(555)\n",
    "a1.withdraw(1000)\n",
    "top_ops = a1.get_top_transactions(n=3)\n",
    "top_ops"
   ]
  },
  {
   "cell_type": "markdown",
   "id": "04aa4e68",
   "metadata": {},
   "source": [
    "Тест CheckingAccount"
   ]
  },
  {
   "cell_type": "code",
   "execution_count": 63,
   "id": "aee3cbef",
   "metadata": {},
   "outputs": [],
   "source": [
    "ca1 = CheckingAccount('Nikita Chumurov', 100.0)"
   ]
  },
  {
   "cell_type": "code",
   "execution_count": 64,
   "id": "fb601285",
   "metadata": {},
   "outputs": [],
   "source": [
    "ca1.withdraw(56)\n",
    "ca1.deposit(144)\n",
    "ca1.deposit(253)\n",
    "ca1.withdraw(345)\n",
    "ca1.deposit(555)\n",
    "ca1.withdraw(1000)\n",
    "top_ops = ca1.get_top_transactions(n=3)"
   ]
  },
  {
   "cell_type": "code",
   "execution_count": 65,
   "id": "d610b513",
   "metadata": {},
   "outputs": [
    {
     "data": {
      "text/plain": [
       "[{'type': 'withdraw',\n",
       "  'amount': 1000.0,\n",
       "  'datetime': datetime.datetime(2025, 10, 25, 18, 27, 32, 24152),\n",
       "  'balance': 651.0,\n",
       "  'status': 'fail'},\n",
       " {'type': 'deposit',\n",
       "  'amount': 555.0,\n",
       "  'datetime': datetime.datetime(2025, 10, 25, 18, 27, 32, 24145),\n",
       "  'balance': 651.0,\n",
       "  'status': 'success'},\n",
       " {'type': 'withdraw',\n",
       "  'amount': 345.0,\n",
       "  'datetime': datetime.datetime(2025, 10, 25, 18, 27, 32, 24138),\n",
       "  'balance': 96.0,\n",
       "  'status': 'success'}]"
      ]
     },
     "execution_count": 65,
     "metadata": {},
     "output_type": "execute_result"
    }
   ],
   "source": [
    "top_ops"
   ]
  },
  {
   "cell_type": "code",
   "execution_count": 72,
   "id": "8a57e76c",
   "metadata": {},
   "outputs": [],
   "source": [
    "sa1 =  SavingsAccount('Ivan Petrov', 100.0)\n",
    "sa1.deposit(100)\n",
    "sa1.withdraw(100)\n",
    "sa1.deposit(100)\n",
    "sa1.apply_interest(5)"
   ]
  },
  {
   "cell_type": "markdown",
   "id": "9371f427",
   "metadata": {},
   "source": [
    "Реализуйте валидацию на отрицательные суммы и корректность имени владельца"
   ]
  },
  {
   "cell_type": "code",
   "execution_count": 75,
   "id": "e2a99e9a",
   "metadata": {},
   "outputs": [
    {
     "ename": "ValueError",
     "evalue": "Депозит должен быть положительным",
     "output_type": "error",
     "traceback": [
      "\u001b[31m---------------------------------------------------------------------------\u001b[39m",
      "\u001b[31mValueError\u001b[39m                                Traceback (most recent call last)",
      "\u001b[36mCell\u001b[39m\u001b[36m \u001b[39m\u001b[32mIn[75]\u001b[39m\u001b[32m, line 1\u001b[39m\n\u001b[32m----> \u001b[39m\u001b[32m1\u001b[39m \u001b[43msa1\u001b[49m\u001b[43m.\u001b[49m\u001b[43mdeposit\u001b[49m\u001b[43m(\u001b[49m\u001b[43m-\u001b[49m\u001b[32;43m100\u001b[39;49m\u001b[43m)\u001b[49m\n",
      "\u001b[36mCell\u001b[39m\u001b[36m \u001b[39m\u001b[32mIn[61]\u001b[39m\u001b[32m, line 48\u001b[39m, in \u001b[36mAccount.deposit\u001b[39m\u001b[34m(self, amount)\u001b[39m\n\u001b[32m     46\u001b[39m \u001b[33m\"\u001b[39m\u001b[33mПополнение счёта. При отрицательной сумме -- исключение.\u001b[39m\u001b[33m\"\u001b[39m\n\u001b[32m     47\u001b[39m \u001b[38;5;28;01mif\u001b[39;00m amount <= \u001b[32m0\u001b[39m:\n\u001b[32m---> \u001b[39m\u001b[32m48\u001b[39m     \u001b[38;5;28;01mraise\u001b[39;00m \u001b[38;5;167;01mValueError\u001b[39;00m(\u001b[33m'\u001b[39m\u001b[33mДепозит должен быть положительным\u001b[39m\u001b[33m'\u001b[39m)\n\u001b[32m     50\u001b[39m \u001b[38;5;28mself\u001b[39m._balance += \u001b[38;5;28mfloat\u001b[39m(amount)\n\u001b[32m     51\u001b[39m \u001b[38;5;28mself\u001b[39m._record_operation(\u001b[33m'\u001b[39m\u001b[33mdeposit\u001b[39m\u001b[33m'\u001b[39m, amount, \u001b[33m'\u001b[39m\u001b[33msuccess\u001b[39m\u001b[33m'\u001b[39m)\n",
      "\u001b[31mValueError\u001b[39m: Депозит должен быть положительным"
     ]
    }
   ],
   "source": [
    "sa1.deposit(-100)"
   ]
  },
  {
   "cell_type": "code",
   "execution_count": 73,
   "id": "a5b3c860",
   "metadata": {},
   "outputs": [
    {
     "data": {
      "text/html": [
       "<div>\n",
       "<style scoped>\n",
       "    .dataframe tbody tr th:only-of-type {\n",
       "        vertical-align: middle;\n",
       "    }\n",
       "\n",
       "    .dataframe tbody tr th {\n",
       "        vertical-align: top;\n",
       "    }\n",
       "\n",
       "    .dataframe thead th {\n",
       "        text-align: right;\n",
       "    }\n",
       "</style>\n",
       "<table border=\"1\" class=\"dataframe\">\n",
       "  <thead>\n",
       "    <tr style=\"text-align: right;\">\n",
       "      <th></th>\n",
       "      <th>type</th>\n",
       "      <th>amount</th>\n",
       "      <th>datetime</th>\n",
       "      <th>balance</th>\n",
       "      <th>status</th>\n",
       "    </tr>\n",
       "  </thead>\n",
       "  <tbody>\n",
       "    <tr>\n",
       "      <th>0</th>\n",
       "      <td>deposit</td>\n",
       "      <td>100.0</td>\n",
       "      <td>2025-10-25 18:30:40.309594</td>\n",
       "      <td>200.0</td>\n",
       "      <td>success</td>\n",
       "    </tr>\n",
       "    <tr>\n",
       "      <th>1</th>\n",
       "      <td>withdraw</td>\n",
       "      <td>100.0</td>\n",
       "      <td>2025-10-25 18:30:40.309610</td>\n",
       "      <td>100.0</td>\n",
       "      <td>success</td>\n",
       "    </tr>\n",
       "    <tr>\n",
       "      <th>2</th>\n",
       "      <td>deposit</td>\n",
       "      <td>100.0</td>\n",
       "      <td>2025-10-25 18:30:40.309617</td>\n",
       "      <td>200.0</td>\n",
       "      <td>success</td>\n",
       "    </tr>\n",
       "    <tr>\n",
       "      <th>3</th>\n",
       "      <td>interest</td>\n",
       "      <td>10.0</td>\n",
       "      <td>2025-10-25 18:30:40.309628</td>\n",
       "      <td>210.0</td>\n",
       "      <td>success</td>\n",
       "    </tr>\n",
       "  </tbody>\n",
       "</table>\n",
       "</div>"
      ],
      "text/plain": [
       "       type  amount                   datetime  balance   status\n",
       "0   deposit   100.0 2025-10-25 18:30:40.309594    200.0  success\n",
       "1  withdraw   100.0 2025-10-25 18:30:40.309610    100.0  success\n",
       "2   deposit   100.0 2025-10-25 18:30:40.309617    200.0  success\n",
       "3  interest    10.0 2025-10-25 18:30:40.309628    210.0  success"
      ]
     },
     "execution_count": 73,
     "metadata": {},
     "output_type": "execute_result"
    }
   ],
   "source": [
    "pd.DataFrame(sa1.get_history())"
   ]
  },
  {
   "cell_type": "code",
   "execution_count": 74,
   "id": "6f1eb60d",
   "metadata": {},
   "outputs": [
    {
     "ename": "ValueError",
     "evalue": "Имя владельца должно быть в формате \"Имя Фамилия\" с заглавных букв.",
     "output_type": "error",
     "traceback": [
      "\u001b[31m---------------------------------------------------------------------------\u001b[39m",
      "\u001b[31mValueError\u001b[39m                                Traceback (most recent call last)",
      "\u001b[36mCell\u001b[39m\u001b[36m \u001b[39m\u001b[32mIn[74]\u001b[39m\u001b[32m, line 1\u001b[39m\n\u001b[32m----> \u001b[39m\u001b[32m1\u001b[39m \u001b[43mAccount\u001b[49m\u001b[43m(\u001b[49m\u001b[33;43m'\u001b[39;49m\u001b[33;43mandreu orlov\u001b[39;49m\u001b[33;43m'\u001b[39;49m\u001b[43m,\u001b[49m\u001b[43m \u001b[49m\u001b[32;43m100.0\u001b[39;49m\u001b[43m)\u001b[49m\n",
      "\u001b[36mCell\u001b[39m\u001b[36m \u001b[39m\u001b[32mIn[61]\u001b[39m\u001b[32m, line 20\u001b[39m, in \u001b[36mAccount.__init__\u001b[39m\u001b[34m(self, account_holder, balance)\u001b[39m\n\u001b[32m     18\u001b[39m name_pattern = re.compile(\u001b[33mr\u001b[39m\u001b[33m'\u001b[39m\u001b[33m^[A-ZА-ЯЁ][a-zа-яё]+ [A-ZА-ЯЁ][a-zа-яё]+$\u001b[39m\u001b[33m'\u001b[39m)\n\u001b[32m     19\u001b[39m \u001b[38;5;28;01mif\u001b[39;00m \u001b[38;5;129;01mnot\u001b[39;00m \u001b[38;5;28misinstance\u001b[39m(account_holder, \u001b[38;5;28mstr\u001b[39m) \u001b[38;5;129;01mor\u001b[39;00m \u001b[38;5;129;01mnot\u001b[39;00m name_pattern.match(account_holder):\n\u001b[32m---> \u001b[39m\u001b[32m20\u001b[39m     \u001b[38;5;28;01mraise\u001b[39;00m \u001b[38;5;167;01mValueError\u001b[39;00m(\u001b[33m'\u001b[39m\u001b[33mИмя владельца должно быть в формате \u001b[39m\u001b[33m\"\u001b[39m\u001b[33mИмя Фамилия\u001b[39m\u001b[33m\"\u001b[39m\u001b[33m с заглавных букв.\u001b[39m\u001b[33m'\u001b[39m)\n\u001b[32m     22\u001b[39m \u001b[38;5;66;03m# Присвоение номера счёта по счётчику и инкремент счётчика\u001b[39;00m\n\u001b[32m     23\u001b[39m Account._account_counter += \u001b[32m1\u001b[39m\n",
      "\u001b[31mValueError\u001b[39m: Имя владельца должно быть в формате \"Имя Фамилия\" с заглавных букв."
     ]
    }
   ],
   "source": [
    "Account('andreu orlov', 100.0)"
   ]
  },
  {
   "cell_type": "markdown",
   "id": "22eea61a",
   "metadata": {},
   "source": [
    "## Задание 3. Дополнительное задание (9-10 баллов)\n",
    "Перед началом работы загрузите из личного кабинете файлы, на которых можно проверить код с «грязными» данными: `transactions_dirty.csv` и `transactions_dirty.json`.\n",
    "Реализуйте для классов аккаунтов `CheckingAccount` и `SavingsAccount` два метода:\n",
    "\n",
    "- Метод загрузки истории в аккаунт из файла с транзакциями (файл транзакций общий для всех аккаунтов, необходимо учесть фильтрацию загружаемых значений).\n",
    "- Метод `clean_history()`, который ищет ошибки в данных перед записью транзакций в историю (опечатки, отрицательные суммы, неверные даты). Обратите внимание, что для `SavingsAccount` доступно три типа операции (`deposit`, `withdraw` и `interest`), в то время как для `CheckingAccount` доступны только два типа операции (`deposit`, `withdraw`). Все данные с ошибками считаем невалидными и не записываем в историю операций.\n",
    "- После загрузки истории операций в аккаунт, баланс счёта должен обновиться."
   ]
  },
  {
   "cell_type": "code",
   "execution_count": null,
   "id": "ef01c19a",
   "metadata": {},
   "outputs": [],
   "source": [
    "import re\n",
    "from datetime import datetime\n",
    "\n",
    "\n",
    "class Account:\n",
    "    \"\"\"Базовый класс банковского счёта  Этап 3.\n",
    "    \"\"\"\n",
    "    # Приватный счётчик на уровне класса, начинается с 1000\n",
    "    _account_counter = 1000\n",
    "\n",
    "    def __init__(self, account_holder: str, balance: float = 0.0):\n",
    "        # Валидация начального баланса\n",
    "        if balance < 0:\n",
    "            raise ValueError('Начальный баланс не может быть отрицательным.')\n",
    "\n",
    "        # Валидация имени владельца: \"Имя Фамилия\" с заглавных букв (кириллица или латиница)\n",
    "        # Поддерживаем буквы A-Z, a-z и кириллический диапазон (А-Я, а-я, Ёё)\n",
    "        name_pattern = re.compile(r'^[A-ZА-ЯЁ][a-zа-яё]+ [A-ZА-ЯЁ][a-zа-яё]+$')\n",
    "        if not isinstance(account_holder, str) or not name_pattern.match(account_holder):\n",
    "            raise ValueError('Имя владельца должно быть в формате \"Имя Фамилия\" с заглавных букв.')\n",
    "\n",
    "        # Присвоение номера счёта по счётчику и инкремент счётчика\n",
    "        Account._account_counter += 1\n",
    "        self.account_number = f'ACC-{Account._account_counter:04}'\n",
    "        self.holder = account_holder\n",
    "\n",
    "        # Приватный баланс и история операций\n",
    "        self._balance = float(balance)\n",
    "        self.operations_history = []\n",
    "\n",
    "    def __repr__(self) -> str:\n",
    "        return (f'Account(holder={self.holder!r}, '\n",
    "                f'balance={self._balance:.2f})')\n",
    "\n",
    "    def _record_operation(self, op_type: str, amount: float, status: str) -> None:\n",
    "        \"Вспомогательный метод для записи операции в историю\"\n",
    "        self.operations_history.append({\n",
    "            'type': op_type,\n",
    "            'amount': float(amount),\n",
    "            'datetime': datetime.now(),\n",
    "            'balance': float(self._balance),\n",
    "            'status': status\n",
    "        })\n",
    "\n",
    "    def deposit(self, amount: float) -> None:\n",
    "        \"Пополнение счёта. При отрицательной сумме -- исключение.\"\n",
    "        if amount <= 0:\n",
    "            raise ValueError('Депозит должен быть положительным')\n",
    "\n",
    "        self._balance += float(amount)\n",
    "        self._record_operation('deposit', amount, 'success')\n",
    "\n",
    "    def withdraw(self, amount: float) -> None:\n",
    "        \"Снятие со счёта. При недостатке средств операция фиксируется как 'fail'.\"\n",
    "        if amount <= 0:\n",
    "            raise ValueError('Снятие должно быть положительным')\n",
    "\n",
    "        if amount <= self._balance:\n",
    "            self._balance -= float(amount)\n",
    "            self._record_operation('withdraw', amount, 'success')\n",
    "        else:\n",
    "            # Фиксируем неудачную попытку снятия, баланс не меняется\n",
    "            self._record_operation('withdraw', amount, 'fail')\n",
    "\n",
    "    def get_balance(self) -> float:\n",
    "        return float(self._balance)\n",
    "\n",
    "    def get_history(self):\n",
    "        # Возвращаем копию истории, чтобы внешние изменения не влияли на внутреннее состояние\n",
    "        return list(self.operations_history)\n",
    "    \n",
    "    def plot_history(self):\n",
    "        import pandas as pd\n",
    "        import plotly.express as px\n",
    "        # Создайте метод `plot_history(self)`, который использует библиотеку Pandas для создания датафрейма из истории операций.\n",
    "        df = pd.DataFrame(self.operations_history)\n",
    "        fig = px.line(df, x='datetime', y='balance',  title='История операций')\n",
    "        # Подписи осей\n",
    "        fig.update_layout(xaxis_title='Дата и время', yaxis_title='Баланс')\n",
    "\n",
    "        fig.show()\n",
    "\n",
    "    def get_top_transactions(self, n: int = 5):\n",
    "        \"\"\"Возвращает список из последних n крупных операций.\n",
    "\n",
    "        Сначала сортируем по абсолютной величине суммы (amount) по убыванию,\n",
    "        затем по дате (datetime) по убыванию, чтобы при равных суммах\n",
    "        возвращались более свежие операции.\n",
    "        \"\"\"\n",
    "        if not isinstance(n, int) or n <= 0:\n",
    "            raise ValueError('n должно быть положительным целым числом')\n",
    "\n",
    "        # Сортируем копию списка, чтобы не менять внутреннее состояние\n",
    "        sorted_ops = sorted(\n",
    "            self.operations_history,\n",
    "            key=lambda op: (abs(op.get('amount', 0)), op.get('datetime')),\n",
    "            reverse=True\n",
    "        )\n",
    "        return list(sorted_ops[:n])\n",
    "\n",
    "    @staticmethod\n",
    "    def _parse_date_str(date_str: str):\n",
    "        \"\"\"Пробуем распарсить дату в разных форматах, возвращаем datetime или None.\"\"\"\n",
    "        if not date_str:\n",
    "            return None\n",
    "        formats = [\n",
    "            '%Y-%m-%d %H:%M:%S',\n",
    "            '%Y-%m-%d %H:%M',\n",
    "            '%d/%m/%Y %H:%M',\n",
    "            '%d/%m/%Y %H:%M:%S',\n",
    "        ]\n",
    "        for fmt in formats:\n",
    "            try:\n",
    "                return datetime.strptime(date_str, fmt)\n",
    "            except Exception:\n",
    "                continue\n",
    "        return None\n",
    "\n",
    "    @staticmethod\n",
    "    def _read_transactions_from_file(file_path: str):\n",
    "        \"\"\"Читает CSV или JSON файл транзакций и возвращает список словарей.\"\"\"\n",
    "        import os\n",
    "        import csv\n",
    "        import json\n",
    "\n",
    "        ext = os.path.splitext(file_path)[1].lower()\n",
    "        rows = []\n",
    "        if ext == '.csv':\n",
    "            with open(file_path, newline='', encoding='utf-8') as fh:\n",
    "                reader = csv.DictReader(fh)\n",
    "                for r in reader:\n",
    "                    # Каждая строка — это словарь\n",
    "                    rows.append(r)\n",
    "        elif ext == '.json':\n",
    "            with open(file_path, encoding='utf-8') as fh:\n",
    "                rows = json.load(fh)\n",
    "        else:\n",
    "            raise ValueError('Unsupported file format: ' + ext)\n",
    "        return rows\n",
    "\n",
    "    def clean_history(self, transactions: list) -> list:\n",
    "        \"\"\"Очищает список транзакций, возвращает список валидных записей в формате операции.\n",
    "\n",
    "        Правила валидации:\n",
    "        - operation должно быть допустимым для типа счёта;\n",
    "        - amount не должен быть отрицательным и должен быть присутствовать (не None, не пустая строк);\n",
    "        - datetime должен быть парсабельным (поддерживаем несколько форматов);\n",
    "        - balance (balance_after) должно быть числом.\n",
    "        Все некорректные записи отбрасываются.\n",
    "        \"\"\"\n",
    "        valid_ops = []\n",
    "        # допустимые операции в зависимости от типа счёта\n",
    "        allowed = {'deposit', 'withdraw'}\n",
    "        if getattr(self, 'account_type', None) == 'savings':\n",
    "            allowed = {'deposit', 'withdraw', 'interest'}\n",
    "\n",
    "        for t in transactions:\n",
    "            try:\n",
    "                op = t.get('operation') if isinstance(t, dict) else None\n",
    "                # normalize empty strings to None\n",
    "                if op == '':\n",
    "                    op = None\n",
    "                if op is None:\n",
    "                    # missing operation — invalid\n",
    "                    continue\n",
    "                op = str(op).strip()\n",
    "                if op not in allowed:\n",
    "                    continue\n",
    "\n",
    "                # amount\n",
    "                amt_raw = t.get('amount') if isinstance(t, dict) else None\n",
    "                if amt_raw == '' or amt_raw is None:\n",
    "                    # missing amount — invalid\n",
    "                    continue\n",
    "                try:\n",
    "                    amount = float(amt_raw)\n",
    "                except Exception:\n",
    "                    continue\n",
    "                if amount < 0:\n",
    "                    continue\n",
    "\n",
    "                # date\n",
    "                date_raw = t.get('date') if isinstance(t, dict) else None\n",
    "                dt = self._parse_date_str(str(date_raw))\n",
    "                if dt is None:\n",
    "                    continue\n",
    "\n",
    "                # balance\n",
    "                bal_raw = t.get('balance_after') if 'balance_after' in t else t.get('balance')\n",
    "                if bal_raw == '' or bal_raw is None:\n",
    "                    continue\n",
    "                try:\n",
    "                    balance = float(bal_raw)\n",
    "                except Exception:\n",
    "                    continue\n",
    "\n",
    "                status = t.get('status') if isinstance(t, dict) else None\n",
    "\n",
    "                valid_ops.append({\n",
    "                    'type': op,\n",
    "                    'amount': float(amount),\n",
    "                    'datetime': dt,\n",
    "                    'balance': float(balance),\n",
    "                    'status': status,\n",
    "                })\n",
    "            except Exception:\n",
    "                # на всякий случай пропускаем проблемные записи\n",
    "                continue\n",
    "\n",
    "        # Сортируем по дате — от старых к новым\n",
    "        valid_ops.sort(key=lambda x: x['datetime'])\n",
    "        return valid_ops\n",
    "\n",
    "    def load_history(self, file_path: str) -> None:\n",
    "        \"\"\"Загружает историю транзакций из файла (CSV или JSON) для этого аккаунта.\n",
    "\n",
    "        Фильтрация происходит по полю account_number, обязательно в файле должно быть поле 'account_number'.\n",
    "        Только валидные операции (после clean_history) добавляются в `operations_history`.\n",
    "        Баланс аккаунта обновляется до последнего `balance` из валидных операций.\n",
    "        \"\"\"\n",
    "        rows = self._read_transactions_from_file(file_path)\n",
    "\n",
    "        # Отфильтруем по account_number равному этому счёту\n",
    "        acct_num = getattr(self, 'account_number', None)\n",
    "        if acct_num is None:\n",
    "            return\n",
    "\n",
    "        filtered = [r for r in rows if str(r.get('account_number')) == str(acct_num)]\n",
    "\n",
    "        cleaned = self.clean_history(filtered)\n",
    "\n",
    "        # Добавляем в историю (не перезаписываем, просто добавляем в конец)\n",
    "        for op in cleaned:\n",
    "            # Приводим к внутреннему формату\n",
    "            self.operations_history.append({\n",
    "                'type': op['type'],\n",
    "                'amount': float(op['amount']),\n",
    "                'datetime': op['datetime'],\n",
    "                'balance': float(op['balance']),\n",
    "                'status': op.get('status')\n",
    "            })\n",
    "\n",
    "        # Обновляем баланс до последней записи (если есть)\n",
    "        if cleaned:\n",
    "            self._balance = float(cleaned[-1]['balance'])\n",
    "\n",
    "\n",
    "class CheckingAccount(Account):\n",
    "    \"\"\"Расчётный счёт — простой тип счёта без дополнительных ограничений.\"\"\"\n",
    "    account_type = 'checking'\n",
    "\n",
    "\n",
    "class SavingsAccount(Account):\n",
    "    \"\"\"Сберегательный счёт: начисление процентов и ограничение снятия до 50% баланса.\"\"\"\n",
    "    account_type = 'savings'\n",
    "\n",
    "    def apply_interest(self, rate: float) -> None:\n",
    "        \"\"\"Начисляет проценты на текущий остаток.\n",
    "\n",
    "        rate — годовая ставка или процент в процентах (например, 7 для 7%).\n",
    "        Метод просто применяет указанный процент к текущему балансу и\n",
    "        записывает операцию типа 'interest'.\n",
    "        \"\"\"\n",
    "        try:\n",
    "            rate_val = float(rate)\n",
    "        except Exception:\n",
    "            raise ValueError('rate должен быть числом')\n",
    "\n",
    "        # Рассчитываем как процент от текущего баланса\n",
    "        interest = self._balance * (rate_val / 100.0)\n",
    "        # Пополняем счёт на сумму процентов (может быть 0)\n",
    "        if interest != 0:\n",
    "            self._balance += interest\n",
    "            self._record_operation('interest', interest, 'success')\n",
    "\n",
    "    def withdraw(self, amount: float) -> None:\n",
    "        \"\"\"Снятие: нельзя снимать больше 50% от текущего баланса.\n",
    "\n",
    "        При попытке снять отрицательную сумму — исключение.\n",
    "        Если превышен порог (50%), операция фиксируется как 'fail' и\n",
    "        выбрасывается исключение.\n",
    "        \"\"\"\n",
    "        if amount <= 0:\n",
    "            raise ValueError('Снятие должно быть положительным')\n",
    "\n",
    "        # Максимально допустимая сумма снятия — 50% от текущего баланса\n",
    "        max_allowed = 0.5 * self._balance\n",
    "        if amount > max_allowed:\n",
    "            # Фиксируем неудачную попытку снятия, баланс не меняется\n",
    "            self._record_operation('withdraw', amount, 'fail')\n",
    "            raise ValueError('Нельзя снять больше 50% баланса для сберегательного счёта.')\n",
    "\n",
    "        # Иначе используем поведение базового класса для проверки остатка и записи операции\n",
    "        if amount <= self._balance:\n",
    "            self._balance -= float(amount)\n",
    "            self._record_operation('withdraw', amount, 'success')\n",
    "        else:\n",
    "            self._record_operation('withdraw', amount, 'fail')\n"
   ]
  },
  {
   "cell_type": "code",
   "execution_count": 21,
   "id": "240bb588",
   "metadata": {},
   "outputs": [],
   "source": [
    "transactions_dirty = pd.read_csv('transactions_dirty.csv')"
   ]
  },
  {
   "cell_type": "code",
   "execution_count": null,
   "id": "e8ac9e88",
   "metadata": {},
   "outputs": [],
   "source": [
    "transactions_dirty_acc_lst = transactions_dirty['account_number'].unique()"
   ]
  },
  {
   "cell_type": "code",
   "execution_count": 32,
   "id": "4a660b6d",
   "metadata": {},
   "outputs": [],
   "source": [
    "# генератор рандомных букв в зависимости от номера\n",
    "def random_string_generator(num):\n",
    "    import random\n",
    "    import string\n",
    "    random.seed(num)  # Используем номер для инициализации генератора\n",
    "    letters = string.ascii_letters\n",
    "    return ''.join(random.choice(letters) for i in range(5)).lower()"
   ]
  },
  {
   "cell_type": "code",
   "execution_count": null,
   "id": "4263326e",
   "metadata": {},
   "outputs": [],
   "source": [
    "#Грузим аккаунты с историей\n",
    "acc_lst = []\n",
    "for num, acc_num  in enumerate(transactions_dirty_acc_lst):\n",
    "    acc = CheckingAccount(f'Test User{random_string_generator(num)}', 100)\n",
    "    acc_lst.append(acc)\n",
    "    acc.account_number = acc_num\n",
    "    acc.load_history('transactions_dirty.csv')"
   ]
  },
  {
   "cell_type": "code",
   "execution_count": 41,
   "id": "5f616c9c",
   "metadata": {},
   "outputs": [
    {
     "data": {
      "text/html": [
       "<div>\n",
       "<style scoped>\n",
       "    .dataframe tbody tr th:only-of-type {\n",
       "        vertical-align: middle;\n",
       "    }\n",
       "\n",
       "    .dataframe tbody tr th {\n",
       "        vertical-align: top;\n",
       "    }\n",
       "\n",
       "    .dataframe thead th {\n",
       "        text-align: right;\n",
       "    }\n",
       "</style>\n",
       "<table border=\"1\" class=\"dataframe\">\n",
       "  <thead>\n",
       "    <tr style=\"text-align: right;\">\n",
       "      <th></th>\n",
       "      <th>type</th>\n",
       "      <th>amount</th>\n",
       "      <th>datetime</th>\n",
       "      <th>balance</th>\n",
       "      <th>status</th>\n",
       "    </tr>\n",
       "  </thead>\n",
       "  <tbody>\n",
       "    <tr>\n",
       "      <th>0</th>\n",
       "      <td>deposit</td>\n",
       "      <td>233.0</td>\n",
       "      <td>2025-10-02 22:17:26</td>\n",
       "      <td>1033.0</td>\n",
       "      <td>success</td>\n",
       "    </tr>\n",
       "    <tr>\n",
       "      <th>1</th>\n",
       "      <td>deposit</td>\n",
       "      <td>720.0</td>\n",
       "      <td>2025-10-05 22:17:26</td>\n",
       "      <td>1461.0</td>\n",
       "      <td>success</td>\n",
       "    </tr>\n",
       "    <tr>\n",
       "      <th>2</th>\n",
       "      <td>deposit</td>\n",
       "      <td>296.0</td>\n",
       "      <td>2025-10-06 22:17:26</td>\n",
       "      <td>1467.0</td>\n",
       "      <td>success</td>\n",
       "    </tr>\n",
       "    <tr>\n",
       "      <th>3</th>\n",
       "      <td>deposit</td>\n",
       "      <td>956.0</td>\n",
       "      <td>2025-10-08 22:17:26</td>\n",
       "      <td>2423.0</td>\n",
       "      <td>success</td>\n",
       "    </tr>\n",
       "    <tr>\n",
       "      <th>4</th>\n",
       "      <td>deposit</td>\n",
       "      <td>754.0</td>\n",
       "      <td>2025-10-10 22:17:26</td>\n",
       "      <td>3177.0</td>\n",
       "      <td>success</td>\n",
       "    </tr>\n",
       "    <tr>\n",
       "      <th>5</th>\n",
       "      <td>deposit</td>\n",
       "      <td>255.0</td>\n",
       "      <td>2025-10-10 22:17:26</td>\n",
       "      <td>3432.0</td>\n",
       "      <td>success</td>\n",
       "    </tr>\n",
       "    <tr>\n",
       "      <th>6</th>\n",
       "      <td>withdraw</td>\n",
       "      <td>131.0</td>\n",
       "      <td>2025-10-14 22:17:26</td>\n",
       "      <td>3416.0</td>\n",
       "      <td>success</td>\n",
       "    </tr>\n",
       "    <tr>\n",
       "      <th>7</th>\n",
       "      <td>deposit</td>\n",
       "      <td>898.0</td>\n",
       "      <td>2025-10-16 22:17:26</td>\n",
       "      <td>4314.0</td>\n",
       "      <td>success</td>\n",
       "    </tr>\n",
       "    <tr>\n",
       "      <th>8</th>\n",
       "      <td>withdraw</td>\n",
       "      <td>187.0</td>\n",
       "      <td>2025-10-16 22:17:26</td>\n",
       "      <td>4127.0</td>\n",
       "      <td>success</td>\n",
       "    </tr>\n",
       "    <tr>\n",
       "      <th>9</th>\n",
       "      <td>deposit</td>\n",
       "      <td>999.0</td>\n",
       "      <td>2025-10-17 22:17:26</td>\n",
       "      <td>5126.0</td>\n",
       "      <td>success</td>\n",
       "    </tr>\n",
       "    <tr>\n",
       "      <th>10</th>\n",
       "      <td>withdraw</td>\n",
       "      <td>268.0</td>\n",
       "      <td>2025-10-18 22:17:26</td>\n",
       "      <td>4858.0</td>\n",
       "      <td>success</td>\n",
       "    </tr>\n",
       "    <tr>\n",
       "      <th>11</th>\n",
       "      <td>withdraw</td>\n",
       "      <td>118.0</td>\n",
       "      <td>2025-10-20 22:17:26</td>\n",
       "      <td>4395.0</td>\n",
       "      <td>success</td>\n",
       "    </tr>\n",
       "    <tr>\n",
       "      <th>12</th>\n",
       "      <td>deposit</td>\n",
       "      <td>239.0</td>\n",
       "      <td>2025-10-21 22:17:26</td>\n",
       "      <td>4634.0</td>\n",
       "      <td>success</td>\n",
       "    </tr>\n",
       "  </tbody>\n",
       "</table>\n",
       "</div>"
      ],
      "text/plain": [
       "        type  amount            datetime  balance   status\n",
       "0    deposit   233.0 2025-10-02 22:17:26   1033.0  success\n",
       "1    deposit   720.0 2025-10-05 22:17:26   1461.0  success\n",
       "2    deposit   296.0 2025-10-06 22:17:26   1467.0  success\n",
       "3    deposit   956.0 2025-10-08 22:17:26   2423.0  success\n",
       "4    deposit   754.0 2025-10-10 22:17:26   3177.0  success\n",
       "5    deposit   255.0 2025-10-10 22:17:26   3432.0  success\n",
       "6   withdraw   131.0 2025-10-14 22:17:26   3416.0  success\n",
       "7    deposit   898.0 2025-10-16 22:17:26   4314.0  success\n",
       "8   withdraw   187.0 2025-10-16 22:17:26   4127.0  success\n",
       "9    deposit   999.0 2025-10-17 22:17:26   5126.0  success\n",
       "10  withdraw   268.0 2025-10-18 22:17:26   4858.0  success\n",
       "11  withdraw   118.0 2025-10-20 22:17:26   4395.0  success\n",
       "12   deposit   239.0 2025-10-21 22:17:26   4634.0  success"
      ]
     },
     "execution_count": 41,
     "metadata": {},
     "output_type": "execute_result"
    }
   ],
   "source": [
    "pd.DataFrame(acc_lst[2].get_history())"
   ]
  },
  {
   "cell_type": "code",
   "execution_count": 42,
   "id": "77043b51",
   "metadata": {},
   "outputs": [
    {
     "data": {
      "application/vnd.plotly.v1+json": {
       "config": {
        "plotlyServerURL": "https://plot.ly"
       },
       "data": [
        {
         "hovertemplate": "datetime=%{x}<br>balance=%{y}<extra></extra>",
         "legendgroup": "",
         "line": {
          "color": "#636efa",
          "dash": "solid"
         },
         "marker": {
          "symbol": "circle"
         },
         "mode": "lines",
         "name": "",
         "orientation": "v",
         "showlegend": false,
         "type": "scatter",
         "x": [
          "2025-10-02T22:17:26.000000000",
          "2025-10-05T22:17:26.000000000",
          "2025-10-06T22:17:26.000000000",
          "2025-10-08T22:17:26.000000000",
          "2025-10-10T22:17:26.000000000",
          "2025-10-10T22:17:26.000000000",
          "2025-10-14T22:17:26.000000000",
          "2025-10-16T22:17:26.000000000",
          "2025-10-16T22:17:26.000000000",
          "2025-10-17T22:17:26.000000000",
          "2025-10-18T22:17:26.000000000",
          "2025-10-20T22:17:26.000000000",
          "2025-10-21T22:17:26.000000000"
         ],
         "xaxis": "x",
         "y": {
          "bdata": "AAAAAAAkkEAAAAAAANSWQAAAAAAA7JZAAAAAAADuokAAAAAAANKoQAAAAAAA0KpAAAAAAACwqkAAAAAAANqwQAAAAAAAH7BAAAAAAAAGtEAAAAAAAPqyQAAAAAAAK7FAAAAAAAAaskA=",
          "dtype": "f8"
         },
         "yaxis": "y"
        }
       ],
       "layout": {
        "legend": {
         "tracegroupgap": 0
        },
        "template": {
         "data": {
          "bar": [
           {
            "error_x": {
             "color": "#2a3f5f"
            },
            "error_y": {
             "color": "#2a3f5f"
            },
            "marker": {
             "line": {
              "color": "#E5ECF6",
              "width": 0.5
             },
             "pattern": {
              "fillmode": "overlay",
              "size": 10,
              "solidity": 0.2
             }
            },
            "type": "bar"
           }
          ],
          "barpolar": [
           {
            "marker": {
             "line": {
              "color": "#E5ECF6",
              "width": 0.5
             },
             "pattern": {
              "fillmode": "overlay",
              "size": 10,
              "solidity": 0.2
             }
            },
            "type": "barpolar"
           }
          ],
          "carpet": [
           {
            "aaxis": {
             "endlinecolor": "#2a3f5f",
             "gridcolor": "white",
             "linecolor": "white",
             "minorgridcolor": "white",
             "startlinecolor": "#2a3f5f"
            },
            "baxis": {
             "endlinecolor": "#2a3f5f",
             "gridcolor": "white",
             "linecolor": "white",
             "minorgridcolor": "white",
             "startlinecolor": "#2a3f5f"
            },
            "type": "carpet"
           }
          ],
          "choropleth": [
           {
            "colorbar": {
             "outlinewidth": 0,
             "ticks": ""
            },
            "type": "choropleth"
           }
          ],
          "contour": [
           {
            "colorbar": {
             "outlinewidth": 0,
             "ticks": ""
            },
            "colorscale": [
             [
              0,
              "#0d0887"
             ],
             [
              0.1111111111111111,
              "#46039f"
             ],
             [
              0.2222222222222222,
              "#7201a8"
             ],
             [
              0.3333333333333333,
              "#9c179e"
             ],
             [
              0.4444444444444444,
              "#bd3786"
             ],
             [
              0.5555555555555556,
              "#d8576b"
             ],
             [
              0.6666666666666666,
              "#ed7953"
             ],
             [
              0.7777777777777778,
              "#fb9f3a"
             ],
             [
              0.8888888888888888,
              "#fdca26"
             ],
             [
              1,
              "#f0f921"
             ]
            ],
            "type": "contour"
           }
          ],
          "contourcarpet": [
           {
            "colorbar": {
             "outlinewidth": 0,
             "ticks": ""
            },
            "type": "contourcarpet"
           }
          ],
          "heatmap": [
           {
            "colorbar": {
             "outlinewidth": 0,
             "ticks": ""
            },
            "colorscale": [
             [
              0,
              "#0d0887"
             ],
             [
              0.1111111111111111,
              "#46039f"
             ],
             [
              0.2222222222222222,
              "#7201a8"
             ],
             [
              0.3333333333333333,
              "#9c179e"
             ],
             [
              0.4444444444444444,
              "#bd3786"
             ],
             [
              0.5555555555555556,
              "#d8576b"
             ],
             [
              0.6666666666666666,
              "#ed7953"
             ],
             [
              0.7777777777777778,
              "#fb9f3a"
             ],
             [
              0.8888888888888888,
              "#fdca26"
             ],
             [
              1,
              "#f0f921"
             ]
            ],
            "type": "heatmap"
           }
          ],
          "histogram": [
           {
            "marker": {
             "pattern": {
              "fillmode": "overlay",
              "size": 10,
              "solidity": 0.2
             }
            },
            "type": "histogram"
           }
          ],
          "histogram2d": [
           {
            "colorbar": {
             "outlinewidth": 0,
             "ticks": ""
            },
            "colorscale": [
             [
              0,
              "#0d0887"
             ],
             [
              0.1111111111111111,
              "#46039f"
             ],
             [
              0.2222222222222222,
              "#7201a8"
             ],
             [
              0.3333333333333333,
              "#9c179e"
             ],
             [
              0.4444444444444444,
              "#bd3786"
             ],
             [
              0.5555555555555556,
              "#d8576b"
             ],
             [
              0.6666666666666666,
              "#ed7953"
             ],
             [
              0.7777777777777778,
              "#fb9f3a"
             ],
             [
              0.8888888888888888,
              "#fdca26"
             ],
             [
              1,
              "#f0f921"
             ]
            ],
            "type": "histogram2d"
           }
          ],
          "histogram2dcontour": [
           {
            "colorbar": {
             "outlinewidth": 0,
             "ticks": ""
            },
            "colorscale": [
             [
              0,
              "#0d0887"
             ],
             [
              0.1111111111111111,
              "#46039f"
             ],
             [
              0.2222222222222222,
              "#7201a8"
             ],
             [
              0.3333333333333333,
              "#9c179e"
             ],
             [
              0.4444444444444444,
              "#bd3786"
             ],
             [
              0.5555555555555556,
              "#d8576b"
             ],
             [
              0.6666666666666666,
              "#ed7953"
             ],
             [
              0.7777777777777778,
              "#fb9f3a"
             ],
             [
              0.8888888888888888,
              "#fdca26"
             ],
             [
              1,
              "#f0f921"
             ]
            ],
            "type": "histogram2dcontour"
           }
          ],
          "mesh3d": [
           {
            "colorbar": {
             "outlinewidth": 0,
             "ticks": ""
            },
            "type": "mesh3d"
           }
          ],
          "parcoords": [
           {
            "line": {
             "colorbar": {
              "outlinewidth": 0,
              "ticks": ""
             }
            },
            "type": "parcoords"
           }
          ],
          "pie": [
           {
            "automargin": true,
            "type": "pie"
           }
          ],
          "scatter": [
           {
            "fillpattern": {
             "fillmode": "overlay",
             "size": 10,
             "solidity": 0.2
            },
            "type": "scatter"
           }
          ],
          "scatter3d": [
           {
            "line": {
             "colorbar": {
              "outlinewidth": 0,
              "ticks": ""
             }
            },
            "marker": {
             "colorbar": {
              "outlinewidth": 0,
              "ticks": ""
             }
            },
            "type": "scatter3d"
           }
          ],
          "scattercarpet": [
           {
            "marker": {
             "colorbar": {
              "outlinewidth": 0,
              "ticks": ""
             }
            },
            "type": "scattercarpet"
           }
          ],
          "scattergeo": [
           {
            "marker": {
             "colorbar": {
              "outlinewidth": 0,
              "ticks": ""
             }
            },
            "type": "scattergeo"
           }
          ],
          "scattergl": [
           {
            "marker": {
             "colorbar": {
              "outlinewidth": 0,
              "ticks": ""
             }
            },
            "type": "scattergl"
           }
          ],
          "scattermap": [
           {
            "marker": {
             "colorbar": {
              "outlinewidth": 0,
              "ticks": ""
             }
            },
            "type": "scattermap"
           }
          ],
          "scattermapbox": [
           {
            "marker": {
             "colorbar": {
              "outlinewidth": 0,
              "ticks": ""
             }
            },
            "type": "scattermapbox"
           }
          ],
          "scatterpolar": [
           {
            "marker": {
             "colorbar": {
              "outlinewidth": 0,
              "ticks": ""
             }
            },
            "type": "scatterpolar"
           }
          ],
          "scatterpolargl": [
           {
            "marker": {
             "colorbar": {
              "outlinewidth": 0,
              "ticks": ""
             }
            },
            "type": "scatterpolargl"
           }
          ],
          "scatterternary": [
           {
            "marker": {
             "colorbar": {
              "outlinewidth": 0,
              "ticks": ""
             }
            },
            "type": "scatterternary"
           }
          ],
          "surface": [
           {
            "colorbar": {
             "outlinewidth": 0,
             "ticks": ""
            },
            "colorscale": [
             [
              0,
              "#0d0887"
             ],
             [
              0.1111111111111111,
              "#46039f"
             ],
             [
              0.2222222222222222,
              "#7201a8"
             ],
             [
              0.3333333333333333,
              "#9c179e"
             ],
             [
              0.4444444444444444,
              "#bd3786"
             ],
             [
              0.5555555555555556,
              "#d8576b"
             ],
             [
              0.6666666666666666,
              "#ed7953"
             ],
             [
              0.7777777777777778,
              "#fb9f3a"
             ],
             [
              0.8888888888888888,
              "#fdca26"
             ],
             [
              1,
              "#f0f921"
             ]
            ],
            "type": "surface"
           }
          ],
          "table": [
           {
            "cells": {
             "fill": {
              "color": "#EBF0F8"
             },
             "line": {
              "color": "white"
             }
            },
            "header": {
             "fill": {
              "color": "#C8D4E3"
             },
             "line": {
              "color": "white"
             }
            },
            "type": "table"
           }
          ]
         },
         "layout": {
          "annotationdefaults": {
           "arrowcolor": "#2a3f5f",
           "arrowhead": 0,
           "arrowwidth": 1
          },
          "autotypenumbers": "strict",
          "coloraxis": {
           "colorbar": {
            "outlinewidth": 0,
            "ticks": ""
           }
          },
          "colorscale": {
           "diverging": [
            [
             0,
             "#8e0152"
            ],
            [
             0.1,
             "#c51b7d"
            ],
            [
             0.2,
             "#de77ae"
            ],
            [
             0.3,
             "#f1b6da"
            ],
            [
             0.4,
             "#fde0ef"
            ],
            [
             0.5,
             "#f7f7f7"
            ],
            [
             0.6,
             "#e6f5d0"
            ],
            [
             0.7,
             "#b8e186"
            ],
            [
             0.8,
             "#7fbc41"
            ],
            [
             0.9,
             "#4d9221"
            ],
            [
             1,
             "#276419"
            ]
           ],
           "sequential": [
            [
             0,
             "#0d0887"
            ],
            [
             0.1111111111111111,
             "#46039f"
            ],
            [
             0.2222222222222222,
             "#7201a8"
            ],
            [
             0.3333333333333333,
             "#9c179e"
            ],
            [
             0.4444444444444444,
             "#bd3786"
            ],
            [
             0.5555555555555556,
             "#d8576b"
            ],
            [
             0.6666666666666666,
             "#ed7953"
            ],
            [
             0.7777777777777778,
             "#fb9f3a"
            ],
            [
             0.8888888888888888,
             "#fdca26"
            ],
            [
             1,
             "#f0f921"
            ]
           ],
           "sequentialminus": [
            [
             0,
             "#0d0887"
            ],
            [
             0.1111111111111111,
             "#46039f"
            ],
            [
             0.2222222222222222,
             "#7201a8"
            ],
            [
             0.3333333333333333,
             "#9c179e"
            ],
            [
             0.4444444444444444,
             "#bd3786"
            ],
            [
             0.5555555555555556,
             "#d8576b"
            ],
            [
             0.6666666666666666,
             "#ed7953"
            ],
            [
             0.7777777777777778,
             "#fb9f3a"
            ],
            [
             0.8888888888888888,
             "#fdca26"
            ],
            [
             1,
             "#f0f921"
            ]
           ]
          },
          "colorway": [
           "#636efa",
           "#EF553B",
           "#00cc96",
           "#ab63fa",
           "#FFA15A",
           "#19d3f3",
           "#FF6692",
           "#B6E880",
           "#FF97FF",
           "#FECB52"
          ],
          "font": {
           "color": "#2a3f5f"
          },
          "geo": {
           "bgcolor": "white",
           "lakecolor": "white",
           "landcolor": "#E5ECF6",
           "showlakes": true,
           "showland": true,
           "subunitcolor": "white"
          },
          "hoverlabel": {
           "align": "left"
          },
          "hovermode": "closest",
          "mapbox": {
           "style": "light"
          },
          "paper_bgcolor": "white",
          "plot_bgcolor": "#E5ECF6",
          "polar": {
           "angularaxis": {
            "gridcolor": "white",
            "linecolor": "white",
            "ticks": ""
           },
           "bgcolor": "#E5ECF6",
           "radialaxis": {
            "gridcolor": "white",
            "linecolor": "white",
            "ticks": ""
           }
          },
          "scene": {
           "xaxis": {
            "backgroundcolor": "#E5ECF6",
            "gridcolor": "white",
            "gridwidth": 2,
            "linecolor": "white",
            "showbackground": true,
            "ticks": "",
            "zerolinecolor": "white"
           },
           "yaxis": {
            "backgroundcolor": "#E5ECF6",
            "gridcolor": "white",
            "gridwidth": 2,
            "linecolor": "white",
            "showbackground": true,
            "ticks": "",
            "zerolinecolor": "white"
           },
           "zaxis": {
            "backgroundcolor": "#E5ECF6",
            "gridcolor": "white",
            "gridwidth": 2,
            "linecolor": "white",
            "showbackground": true,
            "ticks": "",
            "zerolinecolor": "white"
           }
          },
          "shapedefaults": {
           "line": {
            "color": "#2a3f5f"
           }
          },
          "ternary": {
           "aaxis": {
            "gridcolor": "white",
            "linecolor": "white",
            "ticks": ""
           },
           "baxis": {
            "gridcolor": "white",
            "linecolor": "white",
            "ticks": ""
           },
           "bgcolor": "#E5ECF6",
           "caxis": {
            "gridcolor": "white",
            "linecolor": "white",
            "ticks": ""
           }
          },
          "title": {
           "x": 0.05
          },
          "xaxis": {
           "automargin": true,
           "gridcolor": "white",
           "linecolor": "white",
           "ticks": "",
           "title": {
            "standoff": 15
           },
           "zerolinecolor": "white",
           "zerolinewidth": 2
          },
          "yaxis": {
           "automargin": true,
           "gridcolor": "white",
           "linecolor": "white",
           "ticks": "",
           "title": {
            "standoff": 15
           },
           "zerolinecolor": "white",
           "zerolinewidth": 2
          }
         }
        },
        "title": {
         "text": "История операций"
        },
        "xaxis": {
         "anchor": "y",
         "domain": [
          0,
          1
         ],
         "title": {
          "text": "Дата и время"
         }
        },
        "yaxis": {
         "anchor": "x",
         "domain": [
          0,
          1
         ],
         "title": {
          "text": "Баланс"
         }
        }
       }
      }
     },
     "metadata": {},
     "output_type": "display_data"
    }
   ],
   "source": [
    "acc_lst[2].plot_history()"
   ]
  },
  {
   "cell_type": "code",
   "execution_count": null,
   "id": "93421938",
   "metadata": {},
   "outputs": [],
   "source": []
  }
 ],
 "metadata": {
  "kernelspec": {
   "display_name": "home-work-4",
   "language": "python",
   "name": "python3"
  },
  "language_info": {
   "codemirror_mode": {
    "name": "ipython",
    "version": 3
   },
   "file_extension": ".py",
   "mimetype": "text/x-python",
   "name": "python",
   "nbconvert_exporter": "python",
   "pygments_lexer": "ipython3",
   "version": "3.13.3"
  }
 },
 "nbformat": 4,
 "nbformat_minor": 5
}
