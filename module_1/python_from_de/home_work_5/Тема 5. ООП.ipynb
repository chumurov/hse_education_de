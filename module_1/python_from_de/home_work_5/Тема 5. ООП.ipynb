{
  "cells": [
    {
      "cell_type": "markdown",
      "metadata": {
        "id": "inA2Q8YwksRn"
      },
      "source": [
        "# Тема 5. Классы и объекты в Python"
      ]
    },
    {
      "cell_type": "markdown",
      "metadata": {
        "id": "pbcH57-MksRr",
        "tags": []
      },
      "source": [
        "## Проверка связи"
      ]
    },
    {
      "cell_type": "markdown",
      "metadata": {
        "id": "b7S23zMKsneW"
      },
      "source": [
        "Если у вас нет звука:\n",
        "*   убедитесь, что на вашем устройстве и в колонках включён звук\n",
        "*   обновите страницу вебинара или закройте страницу и заново присоединитесь к вебинару\n",
        "*   откройте вебинар в другом браузере\n",
        "*   перезагрузите ваше устройство и попытайтесь войти снова"
      ]
    },
    {
      "cell_type": "markdown",
      "metadata": {
        "id": "bXA6tiROs7M5"
      },
      "source": [
        "Поставьте в чат:\n",
        "* «+» — если видно и слышно\n",
        "* «–» — если нет"
      ]
    },
    {
      "cell_type": "markdown",
      "metadata": {
        "id": "lGmyF92MksRs"
      },
      "source": [
        "## О спикере"
      ]
    },
    {
      "cell_type": "markdown",
      "metadata": {
        "id": "N5A636dq5j9e"
      },
      "source": [
        "**Погудина Дарья**\n",
        "- эксперт-разработчик на Python в области информационной безопасности и в финтехе\n",
        "- сертифицированный специалист по базам данных\n",
        "- более 8 лет опыта разработки, из них более 4 лет — на Python\n",
        "- 3 года в сфере информационной безопасности с разработкой ПО на Python"
      ]
    },
    {
      "cell_type": "markdown",
      "metadata": {
        "id": "jeTexD3tksRt"
      },
      "source": [
        "## Правила участия"
      ]
    },
    {
      "cell_type": "markdown",
      "metadata": {
        "id": "pxxd0nQSuVwq"
      },
      "source": [
        "*   Приготовьте блокнот и ручку, чтобы записывать важные мысли и идеи\n",
        "*   Продолжительность вебинара — 80 минут\n",
        "*   Вы можете писать свои вопросы в чате или задавать их вслух\n",
        "*   Запись вебинара будет доступна в личном кабинете"
      ]
    },
    {
      "cell_type": "markdown",
      "metadata": {
        "id": "JFQrFju9ksRu"
      },
      "source": [
        "## Цель занятия"
      ]
    },
    {
      "cell_type": "markdown",
      "metadata": {
        "id": "p8Pbfc0eksRv",
        "tags": []
      },
      "source": [
        "1.   Рассмотерть на практике, что такое классы в Python, как объявлять и создавать экземпляр класса\n",
        "2.   Разобрать магические методы и каких использовать\n",
        "3.   Разобраться как пользоваться ООП, из чего состоит ООП, понять в чём плюсы ООП\n",
        "4.   Понять, когда использовать ООП, а когда обычные функции\n",
        "5.   Рассмотреть инкапсуляцию, наследование, полиморфизм\n",
        "6.   Попрактиковаться в решении задач"
      ]
    },
    {
      "cell_type": "markdown",
      "metadata": {
        "id": "y0L-W3AYksRv"
      },
      "source": [
        "## План занятия"
      ]
    },
    {
      "cell_type": "markdown",
      "metadata": {
        "id": "8RGzsWrdyUJ4"
      },
      "source": [
        "1. Понятие класса. Как объявить класс и создать экземпляр класса\n",
        "2. Магические методы\n",
        "3. Инкапсуляция\n",
        "4. Наследование\n",
        "5. Полиморфизм\n",
        "6. Решение задач"
      ]
    },
    {
      "cell_type": "markdown",
      "metadata": {
        "id": "yvWq9j9zksRv"
      },
      "source": [
        "## 1. Понятие класса. Как объявить класс и создать экземпляр класса"
      ]
    },
    {
      "cell_type": "markdown",
      "metadata": {
        "id": "seyz8O4WksRx"
      },
      "source": [
        "### Основные понятия\n",
        "- Класс — тип, описывающий устройство объектов.\n",
        "- Объект — экземпляр, созданный на основе класса.\n",
        "- Атрибут — поле, хранящее значение. Содержит свойства объекта.\n",
        "- Метод — функция, описанная внутри класса. Напрямую относится к классу.\n",
        "\n"
      ]
    },
    {
      "cell_type": "code",
      "execution_count": null,
      "metadata": {
        "id": "1hme9E7c1uVy"
      },
      "outputs": [],
      "source": [
        "class Animal: # Класс\n",
        "    age: int = 0\n",
        "    color: str = \"black\"\n",
        "\n",
        "    def eat(self) -> None: # Первый метод класса\n",
        "        print( \"Я ем\")\n",
        "\n",
        "    def sleep(self) -> None: # Второй метод класса\n",
        "        print(\"Я сплю\")\n",
        "\n",
        "\n",
        "cat: Animal  = Animal() # Объект или, как ещё говорят, экземпляр класса\n",
        "cat.eat() # Вызов метода класса\n",
        "cat.sleep() # Вызов метода класса\n",
        "print(\"Возраст =\", cat.age, \"Цвет =\", cat.color) # Параметры класса\n",
        "cat.age = 2\n",
        "cat.color = \"white\"\n",
        "print(\"Возраст после изменения параметра =\", cat.age,\n",
        "      \"Цвет после изменения параметра =\", cat.color) # Параметры класса\n",
        "cat.sex = \"male\"\n",
        "print(cat.sex)\n",
        "print(dir(cat))"
      ]
    },
    {
      "cell_type": "code",
      "execution_count": null,
      "metadata": {
        "id": "ZoKjoHUqRucW"
      },
      "outputs": [],
      "source": [
        "class Animal:\n",
        "    __slots__ = (\"age\", \"color\")\n",
        "    age: int = 0\n",
        "    color: str = \"black\"\n",
        "\n",
        "    def eat(self) -> None:\n",
        "        print( \"Я ем\")\n",
        "\n",
        "    def sleep(self) -> None:\n",
        "        print(\"Я сплю\")\n",
        "\n",
        "cat: Animal = Animal()\n",
        "cat.age = 2\n",
        "print(cat.age)\n",
        "cat.sex = \"male\""
      ]
    },
    {
      "cell_type": "markdown",
      "metadata": {
        "id": "RiNMa1w2UCgR"
      },
      "source": [
        "## Ваши вопросы"
      ]
    },
    {
      "cell_type": "markdown",
      "metadata": {
        "id": "8Y1Y6JGYksRy"
      },
      "source": [
        "## 2. Магические методы"
      ]
    },
    {
      "cell_type": "code",
      "execution_count": null,
      "metadata": {
        "id": "09J_4pUPksRy"
      },
      "outputs": [],
      "source": [
        "class Animal:\n",
        "    def __init__(self, color, age) -> None: # Конструктор класса\n",
        "      self.age = age\n",
        "      self.color = color\n",
        "      print(f\"Создано животное {color} цвета\")\n",
        "\n",
        "    def __repr__(self) -> str:\n",
        "      \"\"\"Для разработчиков - точно и однозначно\"\"\"\n",
        "      return f\"Animal(age='{self.age}', color='{self.color}')\"\n",
        "\n",
        "    def __str__(self) -> str:\n",
        "      \"\"\"Для пользователей - красиво и понятно\"\"\"\n",
        "      return f\"This is Animal with age = {self.age} and color = {self.color}\"\n",
        "\n",
        "    def eat(self) -> None:\n",
        "        print( \"Я могу есть\")\n",
        "\n",
        "    def sleep(self) -> None:\n",
        "        print(\"Я могу спать\")\n",
        "\n",
        "    def animal_birthday(self) -> None:\n",
        "      self.age += 1\n",
        "\n",
        "cat: Animal = Animal(color=\"white\", age=1) # Объект или, как ещё говорят, экземпляр класса\n",
        "print(\"Возраст кошки до дня рождения\", cat.age)\n",
        "cat.animal_birthday()\n",
        "print(\"Возраст кошки после дня рождения\", cat.age)\n",
        "print(repr(Animal(color=\"white\", age=1)))\n",
        "print(Animal(color=\"white\", age=1))"
      ]
    },
    {
      "cell_type": "code",
      "execution_count": null,
      "metadata": {
        "id": "bdmgObIfRucb"
      },
      "outputs": [],
      "source": [
        "class Animal:\n",
        "    def __init__(self, color, age) -> None: # Конструктор класса\n",
        "      self.age = age\n",
        "      self.color = color\n",
        "\n",
        "    def __repr__(self) -> str:\n",
        "      \"\"\"Для разработчиков - точно и однозначно\"\"\"\n",
        "      return f\"Animal('{self.color}', {self.age})\"\n",
        "\n",
        "    def __str__(self) -> str:\n",
        "      \"\"\"Для пользователей - красиво и понятно\"\"\"\n",
        "      return f\"This is Animal with age = {self.age} and color = {self.color}\"\n",
        "\n",
        "cat: Animal = Animal(color=\"white\", age=1)\n",
        "print(repr(cat))\n",
        "new_cat: Animal = eval(repr(cat))\n",
        "print(id(cat), id(new_cat))"
      ]
    },
    {
      "cell_type": "markdown",
      "metadata": {
        "id": "JE0yjiprRucd"
      },
      "source": [
        "\n",
        "| \\_\\_str\\_\\_ | \\_\\_repr\\_\\_|\n",
        "| --------- | ---------- |\n",
        "|Для пользователей | Для разработчиков|\n",
        "|Красивое представление | Точное представление|\n",
        "|Может быть неоднозначным | Должно быть однозначным|\n",
        "|Вызывается print(), str() | Вызывается repr(), отладчик|"
      ]
    },
    {
      "cell_type": "code",
      "execution_count": null,
      "metadata": {
        "id": "lmskR_aARucd"
      },
      "outputs": [],
      "source": [
        "# ПЛОХО\n",
        "class BadExample:\n",
        "    def __repr__(self) -> str:\n",
        "        return f\"BadExample({self})\"  # Вызовет __str__, который может вызвать __repr__\n",
        "\n",
        "# ХОРОШО\n",
        "class GoodExample:\n",
        "    def __repr__(self) -> str:\n",
        "        return f\"GoodExample({self.x})\"  # Используем конкретные атрибуты"
      ]
    },
    {
      "cell_type": "code",
      "execution_count": null,
      "metadata": {
        "id": "XZMK_mgYRuce"
      },
      "outputs": [],
      "source": [
        "from typing import Self\n",
        "\n",
        "class Config:\n",
        "    _instance = None\n",
        "\n",
        "    def __new__(cls) -> Self:\n",
        "        if cls._instance is None:\n",
        "            cls._instance = super().__new__(cls)\n",
        "        return cls._instance\n",
        "\n",
        "    def __init__(self) -> None:\n",
        "        if not hasattr(self, 'initialized'):\n",
        "            self.initialized = True\n",
        "            print(\"Инициализация Config\")\n",
        "\n",
        "# Всегда получаем один и тот же объект\n",
        "s1: Config = Config()\n",
        "s2: Config = Config()\n",
        "print(s1 is s2)\n",
        "print(s1, s2)"
      ]
    },
    {
      "cell_type": "code",
      "execution_count": null,
      "metadata": {
        "id": "dbxzyghrRucf"
      },
      "outputs": [],
      "source": [
        "class Dog:\n",
        "    species: str = \"Canis familiaris\"  # атрибут класса\n",
        "\n",
        "    def __init__(self, name) -> None:\n",
        "        self.name = name  # атрибут экземпляра\n",
        "\n",
        "dog1: Dog = Dog(\"Бобик\")\n",
        "dog2: Dog = Dog(\"Шарик\")\n",
        "\n",
        "print(dog1.species)  # Canis familiaris\n",
        "print(dog2.species)  # Canis familiaris\n",
        "\n",
        "Dog.species = \"Canis lupus familiaris\"\n",
        "print(dog1.species)  # изменилось у всех\n",
        "print(dog2.species)  # изменилось у всех\n",
        "\n",
        "Dog.name = \"Соник\"\n",
        "print(dog1.name)\n",
        "print(dog2.name)"
      ]
    },
    {
      "cell_type": "code",
      "execution_count": null,
      "metadata": {
        "id": "GSYmWfcvJDK5"
      },
      "outputs": [],
      "source": [
        "class Test:\n",
        "    def __init__(self) -> None: # Конструктор класса\n",
        "      pass\n",
        "\n",
        "    def __eq__(self, other) -> bool: # Сравнение\n",
        "      ...\n",
        "\n",
        "    def __lt__(self, other): # Позволяет реализовать проверку на «меньше, чем»\n",
        "      ...\n",
        "\n",
        "    def __le__(self, other): # Позволяет реализовать проверку на «меньше или равно» для экземпляров пользовательских типов\n",
        "      pass\n",
        "\n",
        "    def __gt__(self, other): # Позволяет реализовать проверку на «больше, чем»\n",
        "      ...\n",
        "      ...\n",
        "\n",
        "    def __ge__(self, other): # Позволяет реализовать проверку на «больше или равно»\n",
        "      ...\n",
        "\n",
        "    def __ne__(self, other) -> bool: # Позволяет реализовать проверку на «не равно»\n",
        "      ..."
      ]
    },
    {
      "cell_type": "markdown",
      "metadata": {
        "id": "GBKAbsinUEPR"
      },
      "source": [
        "\n",
        "## Ваши вопросы"
      ]
    },
    {
      "cell_type": "markdown",
      "metadata": {
        "id": "Xn2nmnwWksR0"
      },
      "source": [
        "## 3. Инкапсуляция"
      ]
    },
    {
      "cell_type": "code",
      "execution_count": null,
      "metadata": {
        "id": "n6PrMENYksR1"
      },
      "outputs": [],
      "source": [
        "class Wallet:\n",
        "\n",
        "    def __init__(self, name, amount, email) -> None:\n",
        "        self.__name = name\n",
        "        self.__amount = amount\n",
        "        self.email = email\n",
        "\n",
        "    def show_my_money(self) -> None:\n",
        "      print(self.__amount, self.__name)\n",
        "\n",
        "\n",
        "gleb_walley: Wallet = Wallet(name=\"Gleb\", amount=500, email=\"test@test.ru\")\n",
        "# print(gleb_walley.__name) ##-> error -> private\n",
        "print(dir(gleb_walley))\n",
        "\n",
        "gleb_walley.show_my_money()\n",
        "\n",
        "\n",
        "class UnsafeWallet:\n",
        "\n",
        "    def __init__(self, name, amount, email) -> None:\n",
        "        self._name = name\n",
        "        self._amount = amount\n",
        "        self.email = email\n",
        "\n",
        "    def show_my_money(self) -> None:\n",
        "      print(self._amount, self._name)\n",
        "\n",
        "gleb_unsafe_walley: UnsafeWallet = UnsafeWallet(name=\"Gleb\", amount=500, email=\"test@test.ru\")\n",
        "print(gleb_unsafe_walley._name) # Ошибки нет -> protected\n",
        "gleb_unsafe_walley.show_my_money()\n"
      ]
    },
    {
      "cell_type": "code",
      "execution_count": null,
      "metadata": {
        "id": "BONs314rRuck"
      },
      "outputs": [],
      "source": [
        "from typing import Any\n",
        "\n",
        "\n",
        "class Temperature:\n",
        "    def __init__(self, celsius=0) -> None:\n",
        "        self._celsius = celsius\n",
        "\n",
        "    @property\n",
        "    def celsius(self) -> Any:\n",
        "        \"\"\"Геттер для температуры по Цельсию\"\"\"\n",
        "        return self._celsius\n",
        "\n",
        "    @celsius.setter\n",
        "    def celsius(self, value) -> None:\n",
        "        \"\"\"Сеттер для температуры по Цельсию\"\"\"\n",
        "        if value < -273.15:\n",
        "            raise ValueError(\"Температура не может быть ниже абсолютного нуля!\")\n",
        "        self._celsius: Any = value\n",
        "\n",
        "    @property\n",
        "    def fahrenheit(self) -> float | Any:\n",
        "        \"\"\"Геттер для температуры по Фаренгейту\"\"\"\n",
        "        return self._celsius * 9/5 + 32\n",
        "\n",
        "    @fahrenheit.setter\n",
        "    def fahrenheit(self, value) -> None:\n",
        "        \"\"\"Сеттер для температуры по Фаренгейту\"\"\"\n",
        "        self.celsius = (value - 32) * 5/9\n",
        "\n",
        "temp: Temperature = Temperature(25)\n",
        "print(f\"25°C = {temp.fahrenheit}°F\")\n",
        "\n",
        "temp.fahrenheit = 86  # Автоматически конвертируется в температуру по Цельсию\n",
        "print(f\"86°F = {temp.celsius}°C\")\n",
        "\n",
        "try:\n",
        "    temp.celsius = -300  # ValueError\n",
        "except ValueError as e:\n",
        "    print(f\"Ошибка: {e}\")"
      ]
    },
    {
      "cell_type": "markdown",
      "metadata": {
        "id": "JqOkyEfoUFQG"
      },
      "source": [
        "## Ваши вопросы"
      ]
    },
    {
      "cell_type": "markdown",
      "metadata": {
        "id": "MUUd7dq_ksR7"
      },
      "source": [
        "## 4. Наследование"
      ]
    },
    {
      "cell_type": "code",
      "execution_count": null,
      "metadata": {
        "id": "FulnAj5iksR8"
      },
      "outputs": [],
      "source": [
        "class Animal:\n",
        "    def __init__(self, name, species):\n",
        "        self.name = name\n",
        "        self.species = species\n",
        "\n",
        "    def eat(self):\n",
        "        print(f\"{self.name} ест\")\n",
        "\n",
        "    def sleep(self):\n",
        "        print(f\"{self.name} спит\")\n",
        "\n",
        "    def make_sound(self):\n",
        "        print(f\"{self.name} издаёт звук\")\n",
        "\n",
        "class Dog(Animal):  # Dog наследует от Animal\n",
        "    def __init__(self, name, breed):\n",
        "        super().__init__(name, \"собака\")  # Вызываем конструктор родителя\n",
        "        self.breed = breed\n",
        "\n",
        "    def make_sound(self):  # Переопределяем метод родителя\n",
        "        print(f\"{self.name} лает: Гав-гав!\")\n",
        "\n",
        "    def fetch(self):  # Добавляем новый метод\n",
        "        print(f\"{self.name} приносит мячик\")\n",
        "\n",
        "class Cat(Animal):  # Cat тоже наследует от Animal\n",
        "    def __init__(self, name, color):\n",
        "        super().__init__(name, \"кошка\")\n",
        "        self.color = color\n",
        "\n",
        "    def make_sound(self):  # Переопределяем по-своему\n",
        "        print(f\"{self.name} мяукает: Мяу-мяу!\")\n",
        "\n",
        "    def climb(self):  # Добавляем свой метод\n",
        "        print(f\"{self.name} лазает по деревьям\")\n",
        "\n",
        "# Использование\n",
        "dog = Dog(\"Бобик\", \"лабрадор\")\n",
        "cat = Cat(\"Мурка\", \"рыжий\")\n",
        "\n",
        "# Наследованные методы\n",
        "dog.eat()\n",
        "cat.sleep()\n",
        "\n",
        "# Переопределённые методы\n",
        "dog.make_sound()\n",
        "cat.make_sound()\n",
        "\n",
        "# Собственные методы\n",
        "dog.fetch()\n",
        "cat.climb()"
      ]
    },
    {
      "cell_type": "code",
      "execution_count": null,
      "metadata": {
        "id": "nAtE5C2qRucq"
      },
      "outputs": [],
      "source": [
        "class Vehicle:\n",
        "    def __init__(self, make, model, year):\n",
        "        self.make = make\n",
        "        self.model = model\n",
        "        self.year = year\n",
        "        print(f\"Создан {self.make} {self.model} {self.year} года\")\n",
        "\n",
        "    def start_engine(self):\n",
        "        print(\"Двигатель запущен\")\n",
        "\n",
        "    def stop_engine(self):\n",
        "        print(\"Двигатель остановлен\")\n",
        "\n",
        "class Car(Vehicle):\n",
        "    def __init__(self, make, model, year, doors):\n",
        "        super().__init__(make, model, year)  # Вызываем конструктор родителя\n",
        "        self.doors = doors\n",
        "        print(f\"Количество дверей: {self.doors}\")\n",
        "\n",
        "    def open_trunk(self):\n",
        "        print(\"Багажник открыт\")\n",
        "\n",
        "class Motorcycle(Vehicle):\n",
        "    def __init__(self, make, model, year, has_sidecar):\n",
        "        super().__init__(make, model, year)\n",
        "        self.has_sidecar = has_sidecar\n",
        "        print(f\"Есть коляска: {has_sidecar}\")\n",
        "\n",
        "    def wheelie(self):\n",
        "        print(\"Колесо!\")\n",
        "\n",
        "# Создание объектов\n",
        "car = Car(\"Toyota\", \"Camry\", 2020, 4)\n",
        "motorcycle = Motorcycle(\"Honda\", \"CBR\", 2021, False)\n",
        "\n",
        "# Наследованные методы работают\n",
        "car.start_engine()\n",
        "motorcycle.stop_engine()\n",
        "\n",
        "# Собственные методы\n",
        "car.open_trunk()\n",
        "motorcycle.wheelie()"
      ]
    },
    {
      "cell_type": "code",
      "execution_count": null,
      "metadata": {
        "id": "pUHzbgKnRucw"
      },
      "outputs": [],
      "source": [
        "class A:\n",
        "    def method(self):\n",
        "        print(\"Метод из класса A\")\n",
        "\n",
        "class B:\n",
        "    def method(self):\n",
        "        print(\"Метод из класса B\")\n",
        "\n",
        "class C(A, B):  # Наследует от A и B\n",
        "    pass\n",
        "\n",
        "obj = C()\n",
        "obj.method()  # Какой метод вызовется: A или B?"
      ]
    },
    {
      "cell_type": "code",
      "execution_count": null,
      "metadata": {
        "id": "FY7ZsTDXRucx"
      },
      "outputs": [],
      "source": [
        "class A:\n",
        "    def method(self):\n",
        "        print(\"A\")\n",
        "\n",
        "class B:\n",
        "    def method(self):\n",
        "        print(\"B\")\n",
        "\n",
        "class C:\n",
        "    def method(self):\n",
        "        print(\"C\")\n",
        "\n",
        "class D(A, B, C):\n",
        "    pass\n",
        "\n",
        "print(D.__mro__)"
      ]
    },
    {
      "cell_type": "code",
      "execution_count": null,
      "metadata": {
        "id": "A1BwLeSPRucy"
      },
      "outputs": [],
      "source": [
        "class Animal:\n",
        "    def make_sound(self):\n",
        "        print(\"Животное издаёт звук\")\n",
        "\n",
        "class Mammal(Animal):\n",
        "    def make_sound(self):\n",
        "        print(\"Млекопитающее издаёт звук\")\n",
        "\n",
        "class Bird(Animal):\n",
        "    def make_sound(self):\n",
        "        print(\"Птица издаёт звук\")\n",
        "\n",
        "class Platypus(Mammal, Bird):  # Утконос — и млекопитающее, и птица\n",
        "    pass\n",
        "\n",
        "platypus = Platypus()\n",
        "platypus.make_sound()  # Что выведется?\n",
        "\n",
        "print(Platypus.__mro__)"
      ]
    },
    {
      "cell_type": "code",
      "execution_count": null,
      "metadata": {
        "id": "ysXERkQgRucz"
      },
      "outputs": [],
      "source": [
        "class A:\n",
        "    def method(self):\n",
        "        print(\"A\")\n",
        "\n",
        "class B(A):\n",
        "    def method(self):\n",
        "        print(\"B\")\n",
        "\n",
        "class C(A):\n",
        "    def method(self):\n",
        "        print(\"C\")\n",
        "\n",
        "class D(B, C):\n",
        "    def method(self):\n",
        "        print(\"D\")\n",
        "\n",
        "class E(C, A):\n",
        "    def method(self):\n",
        "        print(\"E\")\n",
        "\n",
        "class F(D, E):\n",
        "    pass\n",
        "\n",
        "print(F.__mro__)\n",
        "\n",
        "f = F()\n",
        "f.method()"
      ]
    },
    {
      "cell_type": "code",
      "execution_count": null,
      "metadata": {
        "id": "pLmTKZdgRuc0"
      },
      "outputs": [],
      "source": [
        "# Не рекомендуется: слишком глубокая иерархия\n",
        "class A: pass\n",
        "class B(A): pass\n",
        "class C(B): pass\n",
        "class D(C): pass\n",
        "class E(D): pass  # Слишком глубоко\n",
        "\n",
        "# Рекомендуется: плоская иерархия\n",
        "class Base: pass\n",
        "class Child1(Base): pass\n",
        "class Child2(Base): pass"
      ]
    },
    {
      "cell_type": "code",
      "execution_count": null,
      "metadata": {
        "id": "Tak-B4zKRuc1"
      },
      "outputs": [],
      "source": [
        "class A: pass\n",
        "class B(A): pass\n",
        "class C(A): pass\n",
        "class D(B, C): pass\n",
        "class E(C, B): pass\n",
        "\n",
        "# Это вызовет ошибку\n",
        "class F(D, E): pass"
      ]
    },
    {
      "cell_type": "markdown",
      "metadata": {
        "id": "wCSvPw-VUFzG"
      },
      "source": [
        "## Ваши вопросы"
      ]
    },
    {
      "cell_type": "markdown",
      "metadata": {
        "id": "XCaX0OhTksR8"
      },
      "source": [
        "## 5. Полиморфизм"
      ]
    },
    {
      "cell_type": "code",
      "execution_count": null,
      "metadata": {
        "id": "xdXnoSFlksR8",
        "tags": []
      },
      "outputs": [],
      "source": [
        "class Animal:\n",
        "    def make_sound(self):\n",
        "        print(\"Животное издаёт звук\")\n",
        "\n",
        "class Dog(Animal):\n",
        "    def make_sound(self):\n",
        "        print(\"Собака лает: Гав-гав!\")\n",
        "\n",
        "class Cat(Animal):\n",
        "    def make_sound(self):\n",
        "        print(\"Кошка мяукает: Мяу-мяу!\")\n",
        "\n",
        "class Bird(Animal):\n",
        "    def make_sound(self):\n",
        "        print(\"Птица поет: Чирик-чирик!\")\n",
        "\n",
        "# Полиморфизм в действии\n",
        "animals = [Dog(), Cat(), Bird()]\n",
        "\n",
        "for animal in animals:\n",
        "    animal.make_sound()  # Один интерфейс — разное поведение"
      ]
    },
    {
      "cell_type": "code",
      "execution_count": null,
      "metadata": {
        "id": "ccJw5Oz8Ruc6"
      },
      "outputs": [],
      "source": [
        "from abc import ABC, abstractmethod\n",
        "class Animal(ABC):\n",
        "    @abstractmethod\n",
        "    def make_sound(self):\n",
        "        ...\n",
        "\n",
        "class Dog(Animal):\n",
        "    def make_sound(self):\n",
        "        print(\"Собака лает: Гав-гав!\")\n",
        "\n",
        "class Cat(Animal):\n",
        "    def make_sound(self):\n",
        "        print(\"Кошка мяукает: Мяу-мяу!\")\n",
        "\n",
        "class Bird(Animal):\n",
        "    def make_sound(self):\n",
        "        print(\"Птица поёт: Чирик-чирик!\")\n",
        "\n",
        "# Полиморфизм в действии\n",
        "animals = [Dog(), Cat(), Bird()]\n",
        "\n",
        "for animal in animals:\n",
        "    animal.make_sound()  # Один интерфейс — разное поведение\n",
        "\n",
        "# animal = Animal()"
      ]
    },
    {
      "cell_type": "markdown",
      "metadata": {
        "id": "_OPZpibUUHNx"
      },
      "source": [
        "## Ваши вопросы"
      ]
    },
    {
      "cell_type": "markdown",
      "metadata": {
        "id": "V3DLjON02ecO"
      },
      "source": [
        "## 6. Решение задач"
      ]
    },
    {
      "cell_type": "markdown",
      "metadata": {
        "id": "CGEugr-GksR_"
      },
      "source": [
        "##  Задача №1"
      ]
    },
    {
      "cell_type": "code",
      "execution_count": null,
      "metadata": {
        "id": "UjtV9WNdksSA",
        "tags": [],
        "outputId": "096e664f-6c97-45a3-8feb-7ecbb519ad5d"
      },
      "outputs": [
        {
          "name": "stdout",
          "output_type": "stream",
          "text": [
            "Обычная газированная вода\n",
            "Газировка с Cherry\n"
          ]
        }
      ],
      "source": [
        "## Создайте класс SparkeWater (для определения типа газированной воды), принимающий 1 аргумент при инициализации (Что мы добавим в газированную воду, чтобы получить свой уникальный напиток).\n",
        "## В этом классе необходимо реализовать метод show_the_drink(), выводящий пользователю «Газировка с {arg}» в случае наличия добавки, а иначе отобразится следующая фраза: \"Обычная газированная вода\".\n",
        "\n",
        "class SparkleWater:\n",
        "  ...\n"
      ]
    },
    {
      "cell_type": "markdown",
      "metadata": {
        "id": "TwRFPkiLUIBm"
      },
      "source": [
        "## Ваши вопросы"
      ]
    },
    {
      "cell_type": "markdown",
      "metadata": {
        "id": "FUIiLsNdksSA"
      },
      "source": [
        "# Задача №2"
      ]
    },
    {
      "cell_type": "code",
      "execution_count": null,
      "metadata": {
        "id": "w4sX5VsJksSB"
      },
      "outputs": [],
      "source": [
        "## Построить треугольник из отрезков можно лишь в одном случае: сумма длин двух любых сторон всегда больше третьей.\n",
        "## Необходимо реализовать класс TreangleExist, который принимает длину отрезков из которых состоит треугольник. При создании экземпляра проверять, возможен ли такой треугольник.\n",
        "## case 1: Да -> Треугольник возможен\n",
        "## case 2: Нет -> Треугольник построить не получится\n",
        "\n",
        "class TreangleExist:\n",
        "  pass"
      ]
    },
    {
      "cell_type": "markdown",
      "metadata": {
        "id": "aI5BgnAmUI3_"
      },
      "source": [
        "## Ваши вопросы"
      ]
    },
    {
      "cell_type": "markdown",
      "metadata": {
        "id": "_KymG4THksSB"
      },
      "source": [
        "## Задача №3* (сложная)"
      ]
    },
    {
      "cell_type": "code",
      "execution_count": null,
      "metadata": {
        "id": "KolRv1YDvJUl",
        "outputId": "554c2744-9c33-40c7-c5f7-df46bf540cd5"
      },
      "outputs": [
        {
          "ename": "TypeError",
          "evalue": "'>' not supported between instances of 'str' and 'RealString'",
          "output_type": "error",
          "traceback": [
            "\u001b[31m---------------------------------------------------------------------------\u001b[39m",
            "\u001b[31mTypeError\u001b[39m                                 Traceback (most recent call last)",
            "\u001b[36mCell\u001b[39m\u001b[36m \u001b[39m\u001b[32mIn[61]\u001b[39m\u001b[32m, line 56\u001b[39m\n\u001b[32m     53\u001b[39m s = \u001b[33m\"\u001b[39m\u001b[33mApple\u001b[39m\u001b[33m\"\u001b[39m\n\u001b[32m     54\u001b[39m c = RealString(\u001b[33m\"\u001b[39m\u001b[33mOrange\u001b[39m\u001b[33m\"\u001b[39m)\n\u001b[32m---> \u001b[39m\u001b[32m56\u001b[39m \u001b[38;5;28mprint\u001b[39m(\u001b[43ms\u001b[49m\u001b[43m \u001b[49m\u001b[43m>\u001b[49m\u001b[43m \u001b[49m\u001b[43mc\u001b[49m)\n",
            "\u001b[31mTypeError\u001b[39m: '>' not supported between instances of 'str' and 'RealString'"
          ]
        }
      ],
      "source": [
        "# Строки в Питоне сравниваются на основании значений символов.\n",
        "# Т.е. если мы захотим выяснить, что больше: «Apple» или «Яблоко», – то «Яблоко» окажется бОльшим.\n",
        "# А всё потому, что английская буква «A» имеет значение 65 (берётся из таблицы кодировки), а русская буква «Я» – 1071 (с помощью функции ord() это можно выяснить).\n",
        "# Реализуйте класс RealString так, чтобы сравнивать между собой можно как объекты класса, так и обычные строки с экземплярами класса RealString.\n",
        "# Все нужные магические методы мы прошли\n",
        "\n",
        "class RealString:\n",
        "    def __init__(self, string):\n",
        "        self.string = string\n",
        "\n",
        "    def __lt__(self, other):\n",
        "        if isinstance(other, str):\n",
        "            return self.string < other\n",
        "        elif isinstance(other, RealString):\n",
        "            return self.string < other.string\n",
        "        return NotImplemented\n",
        "\n",
        "    def __le__(self, other):\n",
        "        if isinstance(other, str):\n",
        "            return self.string <= other\n",
        "        elif isinstance(other, RealString):\n",
        "            return self.string <= other.string\n",
        "        return NotImplemented\n",
        "\n",
        "    def __gt__(self, other):\n",
        "        if isinstance(other, str):\n",
        "            return self.string > other\n",
        "        elif isinstance(other, RealString):\n",
        "            return self.string > other.string\n",
        "        return NotImplemented\n",
        "\n",
        "    def __ge__(self, other):\n",
        "        if isinstance(other, str):\n",
        "            return self.string >= other\n",
        "        elif isinstance(other, RealString):\n",
        "            return self.string >= other.string\n",
        "        return NotImplemented\n",
        "\n",
        "    def __eq__(self, other):\n",
        "        if isinstance(other, str):\n",
        "            return self.string == other\n",
        "        elif isinstance(other, RealString):\n",
        "            return self.string == other.string\n",
        "        return NotImplemented\n",
        "\n",
        "    def __ne__(self, other):\n",
        "        if isinstance(other, str):\n",
        "            return self.string != other\n",
        "        elif isinstance(other, RealString):\n",
        "            return self.string != other.string\n",
        "        return NotImplemented\n",
        "\n",
        "s = \"Apple\"\n",
        "c = RealString(\"Orange\")\n",
        "\n",
        "print(s > c)\n",
        "\n"
      ]
    },
    {
      "cell_type": "markdown",
      "metadata": {
        "id": "gnyY_TndULIU"
      },
      "source": [
        "## Ваши вопросы"
      ]
    },
    {
      "cell_type": "markdown",
      "metadata": {
        "id": "ZWZHkthZksSD"
      },
      "source": [
        "## Итоги занятия"
      ]
    },
    {
      "cell_type": "markdown",
      "metadata": {
        "id": "R9UkNLL_ksSD"
      },
      "source": [
        "1.   Рассмотрели, что такое ООП и как его применять.\n",
        "2.   Рассмотрели классы и разобрались, в чём преимущество применения класса перед функцией. Научились объявлять класс и создавать экземпляр класса.\n",
        "3.   Разобрали на практике магические методы.\n",
        "4.   Рассмотрели инкапсуляцию, наследование, полиморфизм.\n",
        "5.   Попрактиковались в решении задач."
      ]
    }
  ],
  "metadata": {
    "colab": {
      "provenance": []
    },
    "kernelspec": {
      "display_name": ".venv",
      "language": "python",
      "name": "python3"
    },
    "language_info": {
      "codemirror_mode": {
        "name": "ipython",
        "version": 3
      },
      "file_extension": ".py",
      "mimetype": "text/x-python",
      "name": "python",
      "nbconvert_exporter": "python",
      "pygments_lexer": "ipython3",
      "version": "3.12.3"
    }
  },
  "nbformat": 4,
  "nbformat_minor": 0
}